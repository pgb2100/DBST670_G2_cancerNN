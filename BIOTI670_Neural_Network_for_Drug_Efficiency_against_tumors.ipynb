{
  "cells": [
    {
      "cell_type": "markdown",
      "id": "b05c990e",
      "metadata": {
        "id": "b05c990e"
      },
      "source": [
        "# Neural Network for Drug Efficiency Against Tumors\n",
        "We will use data from http://cancerrgene.org\n",
        "The drug with the lowest IC50 index is the drug that has the highest efficiency.The concentration of a drug or inhibitor needed to inhibit a biological process or response by 50%.IC50 is commonly used as a measure of drug potency in whole cell assays. IC50 assays are also used for screening in target-based drug discovery campaigns.\n"
      ]
    },
    {
      "cell_type": "markdown",
      "id": "5d7202fe",
      "metadata": {
        "id": "5d7202fe"
      },
      "source": [
        "## Libraries Needed\n",
        " - numpy\n",
        " - matplotlib\n",
        " - pandas\n",
        " - tensorflow\n",
        " - keras\n",
        " - scikit-learn"
      ]
    },
    {
      "cell_type": "markdown",
      "id": "91f3dde3",
      "metadata": {
        "id": "91f3dde3"
      },
      "source": [
        "## Import Python libraries"
      ]
    },
    {
      "cell_type": "code",
      "execution_count": 1406,
      "id": "a0515dec",
      "metadata": {
        "id": "a0515dec"
      },
      "outputs": [],
      "source": [
        "# data handling\n",
        "import pandas as pd\n",
        "import numpy as np\n",
        "\n",
        "# data visualization\n",
        "import matplotlib.pyplot as plt\n",
        "import seaborn as sns\n",
        "\n",
        "# preprocessing\n",
        "from sklearn.model_selection import train_test_split\n",
        "from sklearn.preprocessing import LabelEncoder\n",
        "from sklearn.preprocessing import label_binarize\n",
        "from sklearn.preprocessing import MinMaxScaler\n",
        "\n",
        "# feature selection\n",
        "from sklearn.feature_selection import mutual_info_classif\n",
        "\n",
        "# classification\n",
        "from sklearn.multiclass import OneVsRestClassifier\n",
        "from sklearn.ensemble import RandomForestClassifier\n",
        "\n",
        "# neural building Libraries\n",
        "import tensorflow as tf\n",
        "from tensorflow import keras\n",
        "from keras.models import Sequential\n",
        "from keras.layers import Dense\n",
        "\n",
        "\n",
        "# performance metrics\n",
        "from sklearn.metrics import balanced_accuracy_score,f1_score,precision_score, recall_score\n",
        "from sklearn.metrics import classification_report\n",
        "from sklearn.metrics import confusion_matrix\n",
        "from sklearn.metrics import plot_confusion_matrix\n",
        "from sklearn.metrics import roc_curve,auc\n",
        "from sklearn.metrics import roc_auc_score\n",
        "\n"
      ]
    },
    {
      "cell_type": "markdown",
      "id": "b45976a3",
      "metadata": {
        "id": "b45976a3"
      },
      "source": [
        "## Read data"
      ]
    },
    {
      "cell_type": "code",
      "execution_count": 1407,
      "id": "25a5cb29",
      "metadata": {
        "id": "25a5cb29"
      },
      "outputs": [],
      "source": [
        "\n",
        "# read data directly from my home computer or Cloudrive\n",
        "file='/Users/Albert3/Downloads/Cetuximab.csv'\n",
        "\n",
        "# storing the data\n",
        "dataframe=pd.read_csv(file)\n"
      ]
    },
    {
      "cell_type": "code",
      "source": [
        "# let's check the number of samples and features\n",
        "# note:the last column contain the labels. it is not considered as a feature\n",
        "\n",
        "print(dataframe.shape)"
      ],
      "metadata": {
        "colab": {
          "base_uri": "https://localhost:8080/"
        },
        "id": "rw9Lc2lPqE1e",
        "outputId": "780bed06-2e1c-4deb-ec02-98ed37f78157"
      },
      "id": "rw9Lc2lPqE1e",
      "execution_count": 1408,
      "outputs": [
        {
          "output_type": "stream",
          "name": "stdout",
          "text": [
            "(862, 12)\n"
          ]
        }
      ]
    },
    {
      "cell_type": "code",
      "source": [
        "#let's check some of the columns \n",
        "print(dataframe.columns[0:14])"
      ],
      "metadata": {
        "colab": {
          "base_uri": "https://localhost:8080/"
        },
        "id": "gNPt1CqZp5u5",
        "outputId": "4f805252-3dbe-48d9-ce49-e9a147cd6524"
      },
      "id": "gNPt1CqZp5u5",
      "execution_count": 1409,
      "outputs": [
        {
          "output_type": "stream",
          "name": "stdout",
          "text": [
            "Index(['Drug Name', 'Drug ID', 'Cell Line Name', 'Cosmic ID',\n",
            "       'TCGA Classification', 'Tissue', 'Tissue Sub-type', 'IC50', 'AUC',\n",
            "       'Max Conc', 'RMSE', 'Z score'],\n",
            "      dtype='object')\n"
          ]
        }
      ]
    },
    {
      "cell_type": "code",
      "execution_count": 1410,
      "metadata": {
        "colab": {
          "base_uri": "https://localhost:8080/"
        },
        "outputId": "7f0abee3-d757-4c8c-b12d-f9029c462b9d",
        "id": "eXBnlwWGq8jI"
      },
      "outputs": [
        {
          "output_type": "execute_result",
          "data": {
            "text/plain": [
              "'IC50'"
            ]
          },
          "metadata": {},
          "execution_count": 1410
        }
      ],
      "source": [
        "#lets check the name of the columns of this dataframe\n",
        "\n",
        "dataframe.columns[-5]"
      ],
      "id": "eXBnlwWGq8jI"
    },
    {
      "cell_type": "code",
      "execution_count": 1411,
      "metadata": {
        "colab": {
          "base_uri": "https://localhost:8080/"
        },
        "id": "229679e0",
        "outputId": "1dfad8eb-21af-43fc-dbfc-55d2234c3a3f"
      },
      "outputs": [
        {
          "output_type": "stream",
          "name": "stdout",
          "text": [
            "columns with missing values:1\n"
          ]
        }
      ],
      "source": [
        "#check for missing values\n",
        "datanul=dataframe.isnull().sum()\n",
        "g=[i for i in datanul if i>0]\n",
        "\n",
        "print('columns with missing values:%d'%len(g))"
      ],
      "id": "229679e0"
    },
    {
      "cell_type": "markdown",
      "id": "e214ad93",
      "metadata": {
        "id": "e214ad93"
      },
      "source": [
        "## Data Exploration & Cleaning\n",
        "Data cleaning is very important in machine learning as it makes our data to be of a high quality for better results.\n",
        "- Here we will check for Null values and remove them for greater accuracy\\\n",
        "- In the exploration stage we will see the structure of our data, the columns, rows and their numbers\n",
        "\n",
        "\n"
      ]
    },
    {
      "cell_type": "code",
      "execution_count": 1412,
      "id": "18e48d71",
      "metadata": {
        "id": "18e48d71",
        "scrolled": true,
        "colab": {
          "base_uri": "https://localhost:8080/",
          "height": 206
        },
        "outputId": "26c8e583-e8c3-4c7d-859b-d9eb8c047324"
      },
      "outputs": [
        {
          "output_type": "execute_result",
          "data": {
            "text/plain": [
              "   Drug Name  Drug ID Cell Line Name  Cosmic ID TCGA Classification Tissue  \\\n",
              "0  Cetuximab     1114          CTV-1     753548                LAML  blood   \n",
              "1  Cetuximab     1114          HL-60     905938                LAML  blood   \n",
              "2  Cetuximab     1114          GDM-1     906870                LAML  blood   \n",
              "3  Cetuximab     1114            HEL     907053                LAML  blood   \n",
              "4  Cetuximab     1114       KASUMI-1     907275                LAML  blood   \n",
              "\n",
              "           Tissue Sub-type      IC50       AUC  Max Conc      RMSE   Z score  \n",
              "0  acute_myeloid_leukaemia  6.192231  0.992913      65.8  0.025198  0.207720  \n",
              "1  acute_myeloid_leukaemia  6.751016  0.989876      65.8  0.027268  0.757864  \n",
              "2  acute_myeloid_leukaemia  6.712076  0.979350      65.8  0.045666  0.719526  \n",
              "3  acute_myeloid_leukaemia  5.369240  0.976895      65.8  0.106585 -0.602545  \n",
              "4  acute_myeloid_leukaemia  6.572101  0.981079      65.8  0.044336  0.581716  "
            ],
            "text/html": [
              "<div>\n",
              "<style scoped>\n",
              "    .dataframe tbody tr th:only-of-type {\n",
              "        vertical-align: middle;\n",
              "    }\n",
              "\n",
              "    .dataframe tbody tr th {\n",
              "        vertical-align: top;\n",
              "    }\n",
              "\n",
              "    .dataframe thead th {\n",
              "        text-align: right;\n",
              "    }\n",
              "</style>\n",
              "<table border=\"1\" class=\"dataframe\">\n",
              "  <thead>\n",
              "    <tr style=\"text-align: right;\">\n",
              "      <th></th>\n",
              "      <th>Drug Name</th>\n",
              "      <th>Drug ID</th>\n",
              "      <th>Cell Line Name</th>\n",
              "      <th>Cosmic ID</th>\n",
              "      <th>TCGA Classification</th>\n",
              "      <th>Tissue</th>\n",
              "      <th>Tissue Sub-type</th>\n",
              "      <th>IC50</th>\n",
              "      <th>AUC</th>\n",
              "      <th>Max Conc</th>\n",
              "      <th>RMSE</th>\n",
              "      <th>Z score</th>\n",
              "    </tr>\n",
              "  </thead>\n",
              "  <tbody>\n",
              "    <tr>\n",
              "      <th>0</th>\n",
              "      <td>Cetuximab</td>\n",
              "      <td>1114</td>\n",
              "      <td>CTV-1</td>\n",
              "      <td>753548</td>\n",
              "      <td>LAML</td>\n",
              "      <td>blood</td>\n",
              "      <td>acute_myeloid_leukaemia</td>\n",
              "      <td>6.192231</td>\n",
              "      <td>0.992913</td>\n",
              "      <td>65.8</td>\n",
              "      <td>0.025198</td>\n",
              "      <td>0.207720</td>\n",
              "    </tr>\n",
              "    <tr>\n",
              "      <th>1</th>\n",
              "      <td>Cetuximab</td>\n",
              "      <td>1114</td>\n",
              "      <td>HL-60</td>\n",
              "      <td>905938</td>\n",
              "      <td>LAML</td>\n",
              "      <td>blood</td>\n",
              "      <td>acute_myeloid_leukaemia</td>\n",
              "      <td>6.751016</td>\n",
              "      <td>0.989876</td>\n",
              "      <td>65.8</td>\n",
              "      <td>0.027268</td>\n",
              "      <td>0.757864</td>\n",
              "    </tr>\n",
              "    <tr>\n",
              "      <th>2</th>\n",
              "      <td>Cetuximab</td>\n",
              "      <td>1114</td>\n",
              "      <td>GDM-1</td>\n",
              "      <td>906870</td>\n",
              "      <td>LAML</td>\n",
              "      <td>blood</td>\n",
              "      <td>acute_myeloid_leukaemia</td>\n",
              "      <td>6.712076</td>\n",
              "      <td>0.979350</td>\n",
              "      <td>65.8</td>\n",
              "      <td>0.045666</td>\n",
              "      <td>0.719526</td>\n",
              "    </tr>\n",
              "    <tr>\n",
              "      <th>3</th>\n",
              "      <td>Cetuximab</td>\n",
              "      <td>1114</td>\n",
              "      <td>HEL</td>\n",
              "      <td>907053</td>\n",
              "      <td>LAML</td>\n",
              "      <td>blood</td>\n",
              "      <td>acute_myeloid_leukaemia</td>\n",
              "      <td>5.369240</td>\n",
              "      <td>0.976895</td>\n",
              "      <td>65.8</td>\n",
              "      <td>0.106585</td>\n",
              "      <td>-0.602545</td>\n",
              "    </tr>\n",
              "    <tr>\n",
              "      <th>4</th>\n",
              "      <td>Cetuximab</td>\n",
              "      <td>1114</td>\n",
              "      <td>KASUMI-1</td>\n",
              "      <td>907275</td>\n",
              "      <td>LAML</td>\n",
              "      <td>blood</td>\n",
              "      <td>acute_myeloid_leukaemia</td>\n",
              "      <td>6.572101</td>\n",
              "      <td>0.981079</td>\n",
              "      <td>65.8</td>\n",
              "      <td>0.044336</td>\n",
              "      <td>0.581716</td>\n",
              "    </tr>\n",
              "  </tbody>\n",
              "</table>\n",
              "</div>"
            ]
          },
          "metadata": {},
          "execution_count": 1412
        }
      ],
      "source": [
        "# How to check the rows of your data. By placing a number within the () you can control how much you can see.\n",
        "dataframe.head(5)"
      ]
    },
    {
      "cell_type": "markdown",
      "source": [
        "# New Section"
      ],
      "metadata": {
        "id": "dn6QYjhAORNu"
      },
      "id": "dn6QYjhAORNu"
    },
    {
      "cell_type": "code",
      "execution_count": 1413,
      "id": "7e833043",
      "metadata": {
        "id": "7e833043",
        "colab": {
          "base_uri": "https://localhost:8080/"
        },
        "outputId": "1f5c7856-163b-4a6f-bff0-d144e1ecfcfd"
      },
      "outputs": [
        {
          "output_type": "execute_result",
          "data": {
            "text/plain": [
              "Drug Name              0\n",
              "Drug ID                0\n",
              "Cell Line Name         0\n",
              "Cosmic ID              0\n",
              "TCGA Classification    1\n",
              "Tissue                 0\n",
              "Tissue Sub-type        0\n",
              "IC50                   0\n",
              "AUC                    0\n",
              "Max Conc               0\n",
              "RMSE                   0\n",
              "Z score                0\n",
              "dtype: int64"
            ]
          },
          "metadata": {},
          "execution_count": 1413
        }
      ],
      "source": [
        "# Checking for any null values in our dataset\n",
        "dataframe.isnull().sum()\n"
      ]
    },
    {
      "cell_type": "markdown",
      "id": "642759be",
      "metadata": {
        "id": "642759be"
      },
      "source": []
    },
    {
      "cell_type": "markdown",
      "id": "79b44abc",
      "metadata": {
        "id": "79b44abc"
      },
      "source": [
        "## Dropping the null values"
      ]
    },
    {
      "cell_type": "code",
      "execution_count": 1414,
      "id": "2aee3bf1",
      "metadata": {
        "id": "2aee3bf1",
        "colab": {
          "base_uri": "https://localhost:8080/",
          "height": 424
        },
        "outputId": "fb945719-fd60-4df2-b6ee-60dfe91a7222"
      },
      "outputs": [
        {
          "output_type": "execute_result",
          "data": {
            "text/plain": [
              "     Drug Name  Drug ID Cell Line Name  Cosmic ID TCGA Classification  \\\n",
              "0    Cetuximab     1114          CTV-1     753548                LAML   \n",
              "1    Cetuximab     1114          HL-60     905938                LAML   \n",
              "2    Cetuximab     1114          GDM-1     906870                LAML   \n",
              "3    Cetuximab     1114            HEL     907053                LAML   \n",
              "4    Cetuximab     1114       KASUMI-1     907275                LAML   \n",
              "..         ...      ...            ...        ...                 ...   \n",
              "857  Cetuximab     1114          JEG-3     907176        UNCLASSIFIED   \n",
              "858  Cetuximab     1114          SW962     909758        UNCLASSIFIED   \n",
              "859  Cetuximab     1114          SW954     924247        UNCLASSIFIED   \n",
              "860  Cetuximab     1114         MES-SA     908127        UNCLASSIFIED   \n",
              "861  Cetuximab     1114            SKN    1240215        UNCLASSIFIED   \n",
              "\n",
              "                Tissue          Tissue Sub-type      IC50       AUC  Max Conc  \\\n",
              "0                blood  acute_myeloid_leukaemia  6.192231  0.992913      65.8   \n",
              "1                blood  acute_myeloid_leukaemia  6.751016  0.989876      65.8   \n",
              "2                blood  acute_myeloid_leukaemia  6.712076  0.979350      65.8   \n",
              "3                blood  acute_myeloid_leukaemia  5.369240  0.976895      65.8   \n",
              "4                blood  acute_myeloid_leukaemia  6.572101  0.981079      65.8   \n",
              "..                 ...                      ...       ...       ...       ...   \n",
              "857  urogenital_system  urogenital_system_other  6.445279  0.988018      65.8   \n",
              "858  urogenital_system  urogenital_system_other  6.034392  0.960780      65.8   \n",
              "859  urogenital_system  urogenital_system_other  6.259841  0.981880      65.8   \n",
              "860  urogenital_system                   uterus  6.327456  0.984950      65.8   \n",
              "861  urogenital_system                   uterus  6.653391  0.977517      65.8   \n",
              "\n",
              "         RMSE   Z score  \n",
              "0    0.025198  0.207720  \n",
              "1    0.027268  0.757864  \n",
              "2    0.045666  0.719526  \n",
              "3    0.106585 -0.602545  \n",
              "4    0.044336  0.581716  \n",
              "..        ...       ...  \n",
              "857  0.103725  0.456855  \n",
              "858  0.070918  0.052322  \n",
              "859  0.035460  0.274285  \n",
              "860  0.034513  0.340854  \n",
              "861  0.045387  0.661749  \n",
              "\n",
              "[861 rows x 12 columns]"
            ],
            "text/html": [
              "<div>\n",
              "<style scoped>\n",
              "    .dataframe tbody tr th:only-of-type {\n",
              "        vertical-align: middle;\n",
              "    }\n",
              "\n",
              "    .dataframe tbody tr th {\n",
              "        vertical-align: top;\n",
              "    }\n",
              "\n",
              "    .dataframe thead th {\n",
              "        text-align: right;\n",
              "    }\n",
              "</style>\n",
              "<table border=\"1\" class=\"dataframe\">\n",
              "  <thead>\n",
              "    <tr style=\"text-align: right;\">\n",
              "      <th></th>\n",
              "      <th>Drug Name</th>\n",
              "      <th>Drug ID</th>\n",
              "      <th>Cell Line Name</th>\n",
              "      <th>Cosmic ID</th>\n",
              "      <th>TCGA Classification</th>\n",
              "      <th>Tissue</th>\n",
              "      <th>Tissue Sub-type</th>\n",
              "      <th>IC50</th>\n",
              "      <th>AUC</th>\n",
              "      <th>Max Conc</th>\n",
              "      <th>RMSE</th>\n",
              "      <th>Z score</th>\n",
              "    </tr>\n",
              "  </thead>\n",
              "  <tbody>\n",
              "    <tr>\n",
              "      <th>0</th>\n",
              "      <td>Cetuximab</td>\n",
              "      <td>1114</td>\n",
              "      <td>CTV-1</td>\n",
              "      <td>753548</td>\n",
              "      <td>LAML</td>\n",
              "      <td>blood</td>\n",
              "      <td>acute_myeloid_leukaemia</td>\n",
              "      <td>6.192231</td>\n",
              "      <td>0.992913</td>\n",
              "      <td>65.8</td>\n",
              "      <td>0.025198</td>\n",
              "      <td>0.207720</td>\n",
              "    </tr>\n",
              "    <tr>\n",
              "      <th>1</th>\n",
              "      <td>Cetuximab</td>\n",
              "      <td>1114</td>\n",
              "      <td>HL-60</td>\n",
              "      <td>905938</td>\n",
              "      <td>LAML</td>\n",
              "      <td>blood</td>\n",
              "      <td>acute_myeloid_leukaemia</td>\n",
              "      <td>6.751016</td>\n",
              "      <td>0.989876</td>\n",
              "      <td>65.8</td>\n",
              "      <td>0.027268</td>\n",
              "      <td>0.757864</td>\n",
              "    </tr>\n",
              "    <tr>\n",
              "      <th>2</th>\n",
              "      <td>Cetuximab</td>\n",
              "      <td>1114</td>\n",
              "      <td>GDM-1</td>\n",
              "      <td>906870</td>\n",
              "      <td>LAML</td>\n",
              "      <td>blood</td>\n",
              "      <td>acute_myeloid_leukaemia</td>\n",
              "      <td>6.712076</td>\n",
              "      <td>0.979350</td>\n",
              "      <td>65.8</td>\n",
              "      <td>0.045666</td>\n",
              "      <td>0.719526</td>\n",
              "    </tr>\n",
              "    <tr>\n",
              "      <th>3</th>\n",
              "      <td>Cetuximab</td>\n",
              "      <td>1114</td>\n",
              "      <td>HEL</td>\n",
              "      <td>907053</td>\n",
              "      <td>LAML</td>\n",
              "      <td>blood</td>\n",
              "      <td>acute_myeloid_leukaemia</td>\n",
              "      <td>5.369240</td>\n",
              "      <td>0.976895</td>\n",
              "      <td>65.8</td>\n",
              "      <td>0.106585</td>\n",
              "      <td>-0.602545</td>\n",
              "    </tr>\n",
              "    <tr>\n",
              "      <th>4</th>\n",
              "      <td>Cetuximab</td>\n",
              "      <td>1114</td>\n",
              "      <td>KASUMI-1</td>\n",
              "      <td>907275</td>\n",
              "      <td>LAML</td>\n",
              "      <td>blood</td>\n",
              "      <td>acute_myeloid_leukaemia</td>\n",
              "      <td>6.572101</td>\n",
              "      <td>0.981079</td>\n",
              "      <td>65.8</td>\n",
              "      <td>0.044336</td>\n",
              "      <td>0.581716</td>\n",
              "    </tr>\n",
              "    <tr>\n",
              "      <th>...</th>\n",
              "      <td>...</td>\n",
              "      <td>...</td>\n",
              "      <td>...</td>\n",
              "      <td>...</td>\n",
              "      <td>...</td>\n",
              "      <td>...</td>\n",
              "      <td>...</td>\n",
              "      <td>...</td>\n",
              "      <td>...</td>\n",
              "      <td>...</td>\n",
              "      <td>...</td>\n",
              "      <td>...</td>\n",
              "    </tr>\n",
              "    <tr>\n",
              "      <th>857</th>\n",
              "      <td>Cetuximab</td>\n",
              "      <td>1114</td>\n",
              "      <td>JEG-3</td>\n",
              "      <td>907176</td>\n",
              "      <td>UNCLASSIFIED</td>\n",
              "      <td>urogenital_system</td>\n",
              "      <td>urogenital_system_other</td>\n",
              "      <td>6.445279</td>\n",
              "      <td>0.988018</td>\n",
              "      <td>65.8</td>\n",
              "      <td>0.103725</td>\n",
              "      <td>0.456855</td>\n",
              "    </tr>\n",
              "    <tr>\n",
              "      <th>858</th>\n",
              "      <td>Cetuximab</td>\n",
              "      <td>1114</td>\n",
              "      <td>SW962</td>\n",
              "      <td>909758</td>\n",
              "      <td>UNCLASSIFIED</td>\n",
              "      <td>urogenital_system</td>\n",
              "      <td>urogenital_system_other</td>\n",
              "      <td>6.034392</td>\n",
              "      <td>0.960780</td>\n",
              "      <td>65.8</td>\n",
              "      <td>0.070918</td>\n",
              "      <td>0.052322</td>\n",
              "    </tr>\n",
              "    <tr>\n",
              "      <th>859</th>\n",
              "      <td>Cetuximab</td>\n",
              "      <td>1114</td>\n",
              "      <td>SW954</td>\n",
              "      <td>924247</td>\n",
              "      <td>UNCLASSIFIED</td>\n",
              "      <td>urogenital_system</td>\n",
              "      <td>urogenital_system_other</td>\n",
              "      <td>6.259841</td>\n",
              "      <td>0.981880</td>\n",
              "      <td>65.8</td>\n",
              "      <td>0.035460</td>\n",
              "      <td>0.274285</td>\n",
              "    </tr>\n",
              "    <tr>\n",
              "      <th>860</th>\n",
              "      <td>Cetuximab</td>\n",
              "      <td>1114</td>\n",
              "      <td>MES-SA</td>\n",
              "      <td>908127</td>\n",
              "      <td>UNCLASSIFIED</td>\n",
              "      <td>urogenital_system</td>\n",
              "      <td>uterus</td>\n",
              "      <td>6.327456</td>\n",
              "      <td>0.984950</td>\n",
              "      <td>65.8</td>\n",
              "      <td>0.034513</td>\n",
              "      <td>0.340854</td>\n",
              "    </tr>\n",
              "    <tr>\n",
              "      <th>861</th>\n",
              "      <td>Cetuximab</td>\n",
              "      <td>1114</td>\n",
              "      <td>SKN</td>\n",
              "      <td>1240215</td>\n",
              "      <td>UNCLASSIFIED</td>\n",
              "      <td>urogenital_system</td>\n",
              "      <td>uterus</td>\n",
              "      <td>6.653391</td>\n",
              "      <td>0.977517</td>\n",
              "      <td>65.8</td>\n",
              "      <td>0.045387</td>\n",
              "      <td>0.661749</td>\n",
              "    </tr>\n",
              "  </tbody>\n",
              "</table>\n",
              "<p>861 rows × 12 columns</p>\n",
              "</div>"
            ]
          },
          "metadata": {},
          "execution_count": 1414
        }
      ],
      "source": [
        "# Dropping The rows that have the null values so our data may be accurate as possible\n",
        "dataframe = dataframe.dropna(axis=0, how = \"any\", thresh=None, inplace=False)\n",
        "dataframe\n"
      ]
    },
    {
      "cell_type": "code",
      "execution_count": 1416,
      "id": "d0560c5a",
      "metadata": {
        "id": "d0560c5a",
        "scrolled": true,
        "colab": {
          "base_uri": "https://localhost:8080/"
        },
        "outputId": "3370fcdf-7005-4889-b4b3-849fc56bc45a"
      },
      "outputs": [
        {
          "output_type": "execute_result",
          "data": {
            "text/plain": [
              "Drug Name              False\n",
              "Drug ID                False\n",
              "Cell Line Name         False\n",
              "Cosmic ID              False\n",
              "TCGA Classification    False\n",
              "Tissue                 False\n",
              "Tissue Sub-type        False\n",
              "IC50                   False\n",
              "AUC                    False\n",
              "Max Conc               False\n",
              "RMSE                   False\n",
              "Z score                False\n",
              "dtype: bool"
            ]
          },
          "metadata": {},
          "execution_count": 1416
        }
      ],
      "source": [
        "# Checking if the Null Values have been dropped\n",
        "dataframe.isnull().any()"
      ]
    },
    {
      "cell_type": "markdown",
      "id": "06de986f",
      "metadata": {
        "id": "06de986f"
      },
      "source": [
        "As it can be seen our data is now cleaned and does not contain any rows that have null values"
      ]
    },
    {
      "cell_type": "markdown",
      "id": "895e1fef",
      "metadata": {
        "id": "895e1fef"
      },
      "source": [
        "## Checking for the drugs that our data set contains"
      ]
    },
    {
      "cell_type": "code",
      "execution_count": 1417,
      "id": "7b83f72b",
      "metadata": {
        "id": "7b83f72b",
        "colab": {
          "base_uri": "https://localhost:8080/"
        },
        "outputId": "d3e66e74-3059-4540-9258-e21187a09ea8"
      },
      "outputs": [
        {
          "output_type": "execute_result",
          "data": {
            "text/plain": [
              "Cetuximab    861\n",
              "Name: Drug Name, dtype: int64"
            ]
          },
          "metadata": {},
          "execution_count": 1417
        }
      ],
      "source": [
        "dataframe[\"Drug Name\"].value_counts()"
      ]
    },
    {
      "cell_type": "markdown",
      "id": "046d64c6",
      "metadata": {
        "id": "046d64c6"
      },
      "source": [
        "We can see that there are 288 drugs we can also see the number of samples of the drug."
      ]
    },
    {
      "cell_type": "markdown",
      "id": "7a0e165b",
      "metadata": {
        "id": "7a0e165b"
      },
      "source": [
        " \n",
        "## **Data preprocesing** \n",
        "This is done to put the data in an appropriate format before modelling\n"
      ]
    },
    {
      "cell_type": "code",
      "source": [
        "# in our data we will used= the following columns to develop our model that will be assigned to x and y variables\n",
        "X=dataframe[[\"Drug ID\" ]].values\n",
        "y= dataframe[[\"IC50\"\t]].values"
      ],
      "metadata": {
        "id": "DqgztmAsDmGo"
      },
      "id": "DqgztmAsDmGo",
      "execution_count": 1425,
      "outputs": []
    },
    {
      "cell_type": "markdown",
      "id": "264a01cb",
      "metadata": {
        "id": "264a01cb"
      },
      "source": [
        "\\\n",
        "**Encode labels**\n",
        "\n",
        "The labels for this data are categorical and we therefore have to convert them to numeric forms. This is referred to as encoding. Machine learning models usually require input data to be in numeric forms."
      ]
    },
    {
      "cell_type": "code",
      "execution_count": 1426,
      "id": "b251f08b",
      "metadata": {
        "id": "b251f08b",
        "colab": {
          "base_uri": "https://localhost:8080/"
        },
        "outputId": "072d2bf6-b4b9-43f3-adff-e28cb7c3f6b4"
      },
      "outputs": [
        {
          "output_type": "stream",
          "name": "stderr",
          "text": [
            "/Users/Albert3/miniconda3/lib/python3.9/site-packages/sklearn/preprocessing/_label.py:98: DataConversionWarning: A column-vector y was passed when a 1d array was expected. Please change the shape of y to (n_samples, ), for example using ravel().\n",
            "  y = column_or_1d(y, warn=True)\n",
            "/Users/Albert3/miniconda3/lib/python3.9/site-packages/sklearn/preprocessing/_label.py:133: DataConversionWarning: A column-vector y was passed when a 1d array was expected. Please change the shape of y to (n_samples, ), for example using ravel().\n",
            "  y = column_or_1d(y, warn=True)\n"
          ]
        }
      ],
      "source": [
        "#let's encode target labels (y) with values between 0 and n_classes-1.\n",
        "# we will be using LabelEncoder to perform the encoding\n",
        "label_encoder=LabelEncoder()\n",
        "label_encoder.fit(X)\n",
        "y=label_encoder.transform(X)\n",
        "labels=label_encoder.classes_\n",
        "classes=np.unique(X)\n",
        "nclasses=np.unique(X).shape[0]"
      ]
    },
    {
      "cell_type": "markdown",
      "id": "5f68c4f6",
      "metadata": {
        "id": "5f68c4f6"
      },
      "source": [
        "\\\n",
        "**Data Splitting**\\\n",
        "Data is split into three: training, validation and test sets\\\n",
        "-validation set is used for evaluating the model during training.\\\n",
        "-training set is used for training\\\n",
        "-test set is used to test the model after training and tuning has been completed."
      ]
    },
    {
      "cell_type": "code",
      "execution_count": 1427,
      "id": "7bcc2bde",
      "metadata": {
        "id": "7bcc2bde",
        "colab": {
          "base_uri": "https://localhost:8080/"
        },
        "outputId": "d9d5b1ad-03a9-4af1-c691-463044755f40"
      },
      "outputs": [
        {
          "output_type": "execute_result",
          "data": {
            "text/plain": [
              "1"
            ]
          },
          "metadata": {},
          "execution_count": 1427
        }
      ],
      "source": [
        "# let's encode target labels (y) with values between 0 and n_classes-1.\n",
        "# we will be using LabelEncoder to perform the encoding\n",
        "\n",
        "label_encoder=LabelEncoder()\n",
        "label_encoder.fit(X)\n",
        "y=label_encoder.transform(X)\n",
        "labels=label_encoder.classes_\n",
        "classes=np.unique(X)\n",
        "nclasses=np.unique(X).shape[0]\n",
        "nclasses"
      ]
    },
    {
      "cell_type": "code",
      "source": [
        "#split data into training,validation and test sets\n",
        "\n",
        "X_train,X_test,y_train,y_test=train_test_split(X,y, test_size=0.8,random_state=1)\n",
        "\n",
        "#split the training set into two (training and validation)\n",
        "\n",
        "X_train, X_val, y_train, y_val = train_test_split(X_train,y_train,test_size=0.8)"
      ],
      "metadata": {
        "id": "m2f2YeonMBaV"
      },
      "id": "m2f2YeonMBaV",
      "execution_count": 1428,
      "outputs": []
    },
    {
      "cell_type": "code",
      "source": [
        "# check the shape of X_train and y_train\n",
        "X_train.shape, y_train.shape"
      ],
      "metadata": {
        "id": "zBFtGqNoJ85D",
        "colab": {
          "base_uri": "https://localhost:8080/"
        },
        "outputId": "9f0dc927-097d-4a1a-84a4-4075c59eb5fe"
      },
      "id": "zBFtGqNoJ85D",
      "execution_count": 1429,
      "outputs": [
        {
          "output_type": "execute_result",
          "data": {
            "text/plain": [
              "((34, 1), (34,))"
            ]
          },
          "metadata": {},
          "execution_count": 1429
        }
      ]
    },
    {
      "cell_type": "markdown",
      "id": "0d1c8d5e",
      "metadata": {
        "id": "0d1c8d5e"
      },
      "source": [
        "\\\n",
        "**Data Normalization**\\\n",
        "Data normalization is done so the values are in the same range to improve model performance and avoid bias.\\\n"
      ]
    },
    {
      "cell_type": "code",
      "execution_count": 1430,
      "id": "4a06d2f6",
      "metadata": {
        "id": "4a06d2f6"
      },
      "outputs": [],
      "source": [
        "min_max_scaler=MinMaxScaler()\n",
        "X_train=min_max_scaler.fit_transform(X_train)\n",
        "X_val=min_max_scaler.fit_transform(X_val)\n",
        "X_test=min_max_scaler.fit_transform(X_test)"
      ]
    },
    {
      "cell_type": "markdown",
      "id": "c0f0ba2c",
      "metadata": {
        "id": "c0f0ba2c"
      },
      "source": [
        "## Building the Neural Network Model"
      ]
    },
    {
      "cell_type": "code",
      "execution_count": 1431,
      "id": "f0f5060f",
      "metadata": {
        "id": "f0f5060f"
      },
      "outputs": [],
      "source": [
        "#define model\n",
        "model = keras.Sequential()\n",
        "\n",
        "#hidden layer 1\n",
        "model.add(Dense(40, input_dim=X_train.shape[1], activation='relu'))\n",
        "\n",
        "#hidden layer 2\n",
        "model.add(Dense(20, activation='relu'))\n",
        "\n",
        "#output layer\n",
        "model.add(Dense(nclasses, activation='softmax'))\n",
        "\n",
        "#define optimizer and learning rate. We will use Adam optimizer\n",
        "opt_adam = keras.optimizers.Adam(learning_rate=0.001)\n",
        "\n",
        "model.compile(loss=tf.keras.losses.SparseCategoricalCrossentropy(), optimizer=opt_adam, metrics=[keras.metrics.SparseCategoricalAccuracy()])\n"
      ]
    },
    {
      "cell_type": "code",
      "execution_count": 1432,
      "id": "080eb398",
      "metadata": {
        "id": "080eb398",
        "scrolled": true,
        "colab": {
          "base_uri": "https://localhost:8080/"
        },
        "outputId": "392b0820-1b38-457c-b875-e7d754968076"
      },
      "outputs": [
        {
          "output_type": "stream",
          "name": "stdout",
          "text": [
            "Epoch 1/200\n",
            "1/1 [==============================] - 0s 400ms/step - loss: 0.0000e+00 - sparse_categorical_accuracy: 1.0000 - val_loss: 0.0000e+00 - val_sparse_categorical_accuracy: 1.0000\n",
            "Epoch 2/200\n",
            "1/1 [==============================] - 0s 22ms/step - loss: 0.0000e+00 - sparse_categorical_accuracy: 1.0000 - val_loss: 0.0000e+00 - val_sparse_categorical_accuracy: 1.0000\n",
            "Epoch 3/200\n",
            "1/1 [==============================] - 0s 24ms/step - loss: 0.0000e+00 - sparse_categorical_accuracy: 1.0000 - val_loss: 0.0000e+00 - val_sparse_categorical_accuracy: 1.0000\n",
            "Epoch 4/200\n",
            "1/1 [==============================] - 0s 24ms/step - loss: 0.0000e+00 - sparse_categorical_accuracy: 1.0000 - val_loss: 0.0000e+00 - val_sparse_categorical_accuracy: 1.0000\n",
            "Epoch 5/200\n",
            "1/1 [==============================] - 0s 25ms/step - loss: 0.0000e+00 - sparse_categorical_accuracy: 1.0000 - val_loss: 0.0000e+00 - val_sparse_categorical_accuracy: 1.0000\n",
            "Epoch 6/200\n",
            "1/1 [==============================] - 0s 29ms/step - loss: 0.0000e+00 - sparse_categorical_accuracy: 1.0000 - val_loss: 0.0000e+00 - val_sparse_categorical_accuracy: 1.0000\n",
            "Epoch 7/200\n",
            "1/1 [==============================] - 0s 28ms/step - loss: 0.0000e+00 - sparse_categorical_accuracy: 1.0000 - val_loss: 0.0000e+00 - val_sparse_categorical_accuracy: 1.0000\n",
            "Epoch 8/200\n",
            "1/1 [==============================] - 0s 30ms/step - loss: 0.0000e+00 - sparse_categorical_accuracy: 1.0000 - val_loss: 0.0000e+00 - val_sparse_categorical_accuracy: 1.0000\n",
            "Epoch 9/200\n",
            "1/1 [==============================] - 0s 32ms/step - loss: 0.0000e+00 - sparse_categorical_accuracy: 1.0000 - val_loss: 0.0000e+00 - val_sparse_categorical_accuracy: 1.0000\n",
            "Epoch 10/200\n",
            "1/1 [==============================] - 0s 31ms/step - loss: 0.0000e+00 - sparse_categorical_accuracy: 1.0000 - val_loss: 0.0000e+00 - val_sparse_categorical_accuracy: 1.0000\n",
            "Epoch 11/200\n",
            "1/1 [==============================] - 0s 29ms/step - loss: 0.0000e+00 - sparse_categorical_accuracy: 1.0000 - val_loss: 0.0000e+00 - val_sparse_categorical_accuracy: 1.0000\n",
            "Epoch 12/200\n",
            "1/1 [==============================] - 0s 29ms/step - loss: 0.0000e+00 - sparse_categorical_accuracy: 1.0000 - val_loss: 0.0000e+00 - val_sparse_categorical_accuracy: 1.0000\n",
            "Epoch 13/200\n",
            "1/1 [==============================] - 0s 29ms/step - loss: 0.0000e+00 - sparse_categorical_accuracy: 1.0000 - val_loss: 0.0000e+00 - val_sparse_categorical_accuracy: 1.0000\n",
            "Epoch 14/200\n",
            "1/1 [==============================] - 0s 34ms/step - loss: 0.0000e+00 - sparse_categorical_accuracy: 1.0000 - val_loss: 0.0000e+00 - val_sparse_categorical_accuracy: 1.0000\n",
            "Epoch 15/200\n",
            "1/1 [==============================] - 0s 34ms/step - loss: 0.0000e+00 - sparse_categorical_accuracy: 1.0000 - val_loss: 0.0000e+00 - val_sparse_categorical_accuracy: 1.0000\n",
            "Epoch 16/200\n",
            "1/1 [==============================] - 0s 33ms/step - loss: 0.0000e+00 - sparse_categorical_accuracy: 1.0000 - val_loss: 0.0000e+00 - val_sparse_categorical_accuracy: 1.0000\n",
            "Epoch 17/200\n",
            "1/1 [==============================] - 0s 37ms/step - loss: 0.0000e+00 - sparse_categorical_accuracy: 1.0000 - val_loss: 0.0000e+00 - val_sparse_categorical_accuracy: 1.0000\n",
            "Epoch 18/200\n",
            "1/1 [==============================] - 0s 39ms/step - loss: 0.0000e+00 - sparse_categorical_accuracy: 1.0000 - val_loss: 0.0000e+00 - val_sparse_categorical_accuracy: 1.0000\n",
            "Epoch 19/200\n",
            "1/1 [==============================] - 0s 33ms/step - loss: 0.0000e+00 - sparse_categorical_accuracy: 1.0000 - val_loss: 0.0000e+00 - val_sparse_categorical_accuracy: 1.0000\n",
            "Epoch 20/200\n",
            "1/1 [==============================] - 0s 31ms/step - loss: 0.0000e+00 - sparse_categorical_accuracy: 1.0000 - val_loss: 0.0000e+00 - val_sparse_categorical_accuracy: 1.0000\n",
            "Epoch 21/200\n",
            "1/1 [==============================] - 0s 26ms/step - loss: 0.0000e+00 - sparse_categorical_accuracy: 1.0000 - val_loss: 0.0000e+00 - val_sparse_categorical_accuracy: 1.0000\n",
            "Epoch 22/200\n",
            "1/1 [==============================] - 0s 26ms/step - loss: 0.0000e+00 - sparse_categorical_accuracy: 1.0000 - val_loss: 0.0000e+00 - val_sparse_categorical_accuracy: 1.0000\n",
            "Epoch 23/200\n",
            "1/1 [==============================] - 0s 25ms/step - loss: 0.0000e+00 - sparse_categorical_accuracy: 1.0000 - val_loss: 0.0000e+00 - val_sparse_categorical_accuracy: 1.0000\n",
            "Epoch 24/200\n",
            "1/1 [==============================] - 0s 24ms/step - loss: 0.0000e+00 - sparse_categorical_accuracy: 1.0000 - val_loss: 0.0000e+00 - val_sparse_categorical_accuracy: 1.0000\n",
            "Epoch 25/200\n",
            "1/1 [==============================] - 0s 26ms/step - loss: 0.0000e+00 - sparse_categorical_accuracy: 1.0000 - val_loss: 0.0000e+00 - val_sparse_categorical_accuracy: 1.0000\n",
            "Epoch 26/200\n",
            "1/1 [==============================] - 0s 24ms/step - loss: 0.0000e+00 - sparse_categorical_accuracy: 1.0000 - val_loss: 0.0000e+00 - val_sparse_categorical_accuracy: 1.0000\n",
            "Epoch 27/200\n",
            "1/1 [==============================] - 0s 28ms/step - loss: 0.0000e+00 - sparse_categorical_accuracy: 1.0000 - val_loss: 0.0000e+00 - val_sparse_categorical_accuracy: 1.0000\n",
            "Epoch 28/200\n",
            "1/1 [==============================] - 0s 28ms/step - loss: 0.0000e+00 - sparse_categorical_accuracy: 1.0000 - val_loss: 0.0000e+00 - val_sparse_categorical_accuracy: 1.0000\n",
            "Epoch 29/200\n",
            "1/1 [==============================] - 0s 27ms/step - loss: 0.0000e+00 - sparse_categorical_accuracy: 1.0000 - val_loss: 0.0000e+00 - val_sparse_categorical_accuracy: 1.0000\n",
            "Epoch 30/200\n",
            "1/1 [==============================] - 0s 25ms/step - loss: 0.0000e+00 - sparse_categorical_accuracy: 1.0000 - val_loss: 0.0000e+00 - val_sparse_categorical_accuracy: 1.0000\n",
            "Epoch 31/200\n",
            "1/1 [==============================] - 0s 29ms/step - loss: 0.0000e+00 - sparse_categorical_accuracy: 1.0000 - val_loss: 0.0000e+00 - val_sparse_categorical_accuracy: 1.0000\n",
            "Epoch 32/200\n",
            "1/1 [==============================] - 0s 29ms/step - loss: 0.0000e+00 - sparse_categorical_accuracy: 1.0000 - val_loss: 0.0000e+00 - val_sparse_categorical_accuracy: 1.0000\n",
            "Epoch 33/200\n",
            "1/1 [==============================] - 0s 31ms/step - loss: 0.0000e+00 - sparse_categorical_accuracy: 1.0000 - val_loss: 0.0000e+00 - val_sparse_categorical_accuracy: 1.0000\n",
            "Epoch 34/200\n",
            "1/1 [==============================] - 0s 26ms/step - loss: 0.0000e+00 - sparse_categorical_accuracy: 1.0000 - val_loss: 0.0000e+00 - val_sparse_categorical_accuracy: 1.0000\n",
            "Epoch 35/200\n",
            "1/1 [==============================] - 0s 26ms/step - loss: 0.0000e+00 - sparse_categorical_accuracy: 1.0000 - val_loss: 0.0000e+00 - val_sparse_categorical_accuracy: 1.0000\n",
            "Epoch 36/200\n",
            "1/1 [==============================] - 0s 29ms/step - loss: 0.0000e+00 - sparse_categorical_accuracy: 1.0000 - val_loss: 0.0000e+00 - val_sparse_categorical_accuracy: 1.0000\n",
            "Epoch 37/200\n",
            "1/1 [==============================] - 0s 32ms/step - loss: 0.0000e+00 - sparse_categorical_accuracy: 1.0000 - val_loss: 0.0000e+00 - val_sparse_categorical_accuracy: 1.0000\n",
            "Epoch 38/200\n",
            "1/1 [==============================] - 0s 28ms/step - loss: 0.0000e+00 - sparse_categorical_accuracy: 1.0000 - val_loss: 0.0000e+00 - val_sparse_categorical_accuracy: 1.0000\n",
            "Epoch 39/200\n",
            "1/1 [==============================] - 0s 30ms/step - loss: 0.0000e+00 - sparse_categorical_accuracy: 1.0000 - val_loss: 0.0000e+00 - val_sparse_categorical_accuracy: 1.0000\n",
            "Epoch 40/200\n",
            "1/1 [==============================] - 0s 30ms/step - loss: 0.0000e+00 - sparse_categorical_accuracy: 1.0000 - val_loss: 0.0000e+00 - val_sparse_categorical_accuracy: 1.0000\n",
            "Epoch 41/200\n",
            "1/1 [==============================] - 0s 30ms/step - loss: 0.0000e+00 - sparse_categorical_accuracy: 1.0000 - val_loss: 0.0000e+00 - val_sparse_categorical_accuracy: 1.0000\n",
            "Epoch 42/200\n",
            "1/1 [==============================] - 0s 31ms/step - loss: 0.0000e+00 - sparse_categorical_accuracy: 1.0000 - val_loss: 0.0000e+00 - val_sparse_categorical_accuracy: 1.0000\n",
            "Epoch 43/200\n",
            "1/1 [==============================] - 0s 28ms/step - loss: 0.0000e+00 - sparse_categorical_accuracy: 1.0000 - val_loss: 0.0000e+00 - val_sparse_categorical_accuracy: 1.0000\n",
            "Epoch 44/200\n",
            "1/1 [==============================] - 0s 27ms/step - loss: 0.0000e+00 - sparse_categorical_accuracy: 1.0000 - val_loss: 0.0000e+00 - val_sparse_categorical_accuracy: 1.0000\n",
            "Epoch 45/200\n",
            "1/1 [==============================] - 0s 26ms/step - loss: 0.0000e+00 - sparse_categorical_accuracy: 1.0000 - val_loss: 0.0000e+00 - val_sparse_categorical_accuracy: 1.0000\n",
            "Epoch 46/200\n",
            "1/1 [==============================] - 0s 28ms/step - loss: 0.0000e+00 - sparse_categorical_accuracy: 1.0000 - val_loss: 0.0000e+00 - val_sparse_categorical_accuracy: 1.0000\n",
            "Epoch 47/200\n",
            "1/1 [==============================] - 0s 34ms/step - loss: 0.0000e+00 - sparse_categorical_accuracy: 1.0000 - val_loss: 0.0000e+00 - val_sparse_categorical_accuracy: 1.0000\n",
            "Epoch 48/200\n",
            "1/1 [==============================] - 0s 30ms/step - loss: 0.0000e+00 - sparse_categorical_accuracy: 1.0000 - val_loss: 0.0000e+00 - val_sparse_categorical_accuracy: 1.0000\n",
            "Epoch 49/200\n",
            "1/1 [==============================] - 0s 31ms/step - loss: 0.0000e+00 - sparse_categorical_accuracy: 1.0000 - val_loss: 0.0000e+00 - val_sparse_categorical_accuracy: 1.0000\n",
            "Epoch 50/200\n",
            "1/1 [==============================] - 0s 32ms/step - loss: 0.0000e+00 - sparse_categorical_accuracy: 1.0000 - val_loss: 0.0000e+00 - val_sparse_categorical_accuracy: 1.0000\n",
            "Epoch 51/200\n",
            "1/1 [==============================] - 0s 30ms/step - loss: 0.0000e+00 - sparse_categorical_accuracy: 1.0000 - val_loss: 0.0000e+00 - val_sparse_categorical_accuracy: 1.0000\n",
            "Epoch 52/200\n",
            "1/1 [==============================] - 0s 30ms/step - loss: 0.0000e+00 - sparse_categorical_accuracy: 1.0000 - val_loss: 0.0000e+00 - val_sparse_categorical_accuracy: 1.0000\n",
            "Epoch 53/200\n",
            "1/1 [==============================] - 0s 33ms/step - loss: 0.0000e+00 - sparse_categorical_accuracy: 1.0000 - val_loss: 0.0000e+00 - val_sparse_categorical_accuracy: 1.0000\n",
            "Epoch 54/200\n",
            "1/1 [==============================] - 0s 33ms/step - loss: 0.0000e+00 - sparse_categorical_accuracy: 1.0000 - val_loss: 0.0000e+00 - val_sparse_categorical_accuracy: 1.0000\n",
            "Epoch 55/200\n",
            "1/1 [==============================] - 0s 28ms/step - loss: 0.0000e+00 - sparse_categorical_accuracy: 1.0000 - val_loss: 0.0000e+00 - val_sparse_categorical_accuracy: 1.0000\n",
            "Epoch 56/200\n",
            "1/1 [==============================] - 0s 28ms/step - loss: 0.0000e+00 - sparse_categorical_accuracy: 1.0000 - val_loss: 0.0000e+00 - val_sparse_categorical_accuracy: 1.0000\n",
            "Epoch 57/200\n",
            "1/1 [==============================] - 0s 35ms/step - loss: 0.0000e+00 - sparse_categorical_accuracy: 1.0000 - val_loss: 0.0000e+00 - val_sparse_categorical_accuracy: 1.0000\n",
            "Epoch 58/200\n",
            "1/1 [==============================] - 0s 32ms/step - loss: 0.0000e+00 - sparse_categorical_accuracy: 1.0000 - val_loss: 0.0000e+00 - val_sparse_categorical_accuracy: 1.0000\n",
            "Epoch 59/200\n",
            "1/1 [==============================] - 0s 36ms/step - loss: 0.0000e+00 - sparse_categorical_accuracy: 1.0000 - val_loss: 0.0000e+00 - val_sparse_categorical_accuracy: 1.0000\n",
            "Epoch 60/200\n",
            "1/1 [==============================] - 0s 39ms/step - loss: 0.0000e+00 - sparse_categorical_accuracy: 1.0000 - val_loss: 0.0000e+00 - val_sparse_categorical_accuracy: 1.0000\n",
            "Epoch 61/200\n",
            "1/1 [==============================] - 0s 31ms/step - loss: 0.0000e+00 - sparse_categorical_accuracy: 1.0000 - val_loss: 0.0000e+00 - val_sparse_categorical_accuracy: 1.0000\n",
            "Epoch 62/200\n",
            "1/1 [==============================] - 0s 33ms/step - loss: 0.0000e+00 - sparse_categorical_accuracy: 1.0000 - val_loss: 0.0000e+00 - val_sparse_categorical_accuracy: 1.0000\n",
            "Epoch 63/200\n",
            "1/1 [==============================] - 0s 38ms/step - loss: 0.0000e+00 - sparse_categorical_accuracy: 1.0000 - val_loss: 0.0000e+00 - val_sparse_categorical_accuracy: 1.0000\n",
            "Epoch 64/200\n",
            "1/1 [==============================] - 0s 33ms/step - loss: 0.0000e+00 - sparse_categorical_accuracy: 1.0000 - val_loss: 0.0000e+00 - val_sparse_categorical_accuracy: 1.0000\n",
            "Epoch 65/200\n",
            "1/1 [==============================] - 0s 32ms/step - loss: 0.0000e+00 - sparse_categorical_accuracy: 1.0000 - val_loss: 0.0000e+00 - val_sparse_categorical_accuracy: 1.0000\n",
            "Epoch 66/200\n",
            "1/1 [==============================] - 0s 37ms/step - loss: 0.0000e+00 - sparse_categorical_accuracy: 1.0000 - val_loss: 0.0000e+00 - val_sparse_categorical_accuracy: 1.0000\n",
            "Epoch 67/200\n",
            "1/1 [==============================] - 0s 41ms/step - loss: 0.0000e+00 - sparse_categorical_accuracy: 1.0000 - val_loss: 0.0000e+00 - val_sparse_categorical_accuracy: 1.0000\n",
            "Epoch 68/200\n",
            "1/1 [==============================] - 0s 40ms/step - loss: 0.0000e+00 - sparse_categorical_accuracy: 1.0000 - val_loss: 0.0000e+00 - val_sparse_categorical_accuracy: 1.0000\n",
            "Epoch 69/200\n",
            "1/1 [==============================] - 0s 41ms/step - loss: 0.0000e+00 - sparse_categorical_accuracy: 1.0000 - val_loss: 0.0000e+00 - val_sparse_categorical_accuracy: 1.0000\n",
            "Epoch 70/200\n",
            "1/1 [==============================] - 0s 47ms/step - loss: 0.0000e+00 - sparse_categorical_accuracy: 1.0000 - val_loss: 0.0000e+00 - val_sparse_categorical_accuracy: 1.0000\n",
            "Epoch 71/200\n",
            "1/1 [==============================] - 0s 46ms/step - loss: 0.0000e+00 - sparse_categorical_accuracy: 1.0000 - val_loss: 0.0000e+00 - val_sparse_categorical_accuracy: 1.0000\n",
            "Epoch 72/200\n",
            "1/1 [==============================] - 0s 40ms/step - loss: 0.0000e+00 - sparse_categorical_accuracy: 1.0000 - val_loss: 0.0000e+00 - val_sparse_categorical_accuracy: 1.0000\n",
            "Epoch 73/200\n",
            "1/1 [==============================] - 0s 47ms/step - loss: 0.0000e+00 - sparse_categorical_accuracy: 1.0000 - val_loss: 0.0000e+00 - val_sparse_categorical_accuracy: 1.0000\n",
            "Epoch 74/200\n",
            "1/1 [==============================] - 0s 58ms/step - loss: 0.0000e+00 - sparse_categorical_accuracy: 1.0000 - val_loss: 0.0000e+00 - val_sparse_categorical_accuracy: 1.0000\n",
            "Epoch 75/200\n",
            "1/1 [==============================] - 0s 41ms/step - loss: 0.0000e+00 - sparse_categorical_accuracy: 1.0000 - val_loss: 0.0000e+00 - val_sparse_categorical_accuracy: 1.0000\n",
            "Epoch 76/200\n",
            "1/1 [==============================] - 0s 36ms/step - loss: 0.0000e+00 - sparse_categorical_accuracy: 1.0000 - val_loss: 0.0000e+00 - val_sparse_categorical_accuracy: 1.0000\n",
            "Epoch 77/200\n",
            "1/1 [==============================] - 0s 33ms/step - loss: 0.0000e+00 - sparse_categorical_accuracy: 1.0000 - val_loss: 0.0000e+00 - val_sparse_categorical_accuracy: 1.0000\n",
            "Epoch 78/200\n",
            "1/1 [==============================] - 0s 35ms/step - loss: 0.0000e+00 - sparse_categorical_accuracy: 1.0000 - val_loss: 0.0000e+00 - val_sparse_categorical_accuracy: 1.0000\n",
            "Epoch 79/200\n",
            "1/1 [==============================] - 0s 40ms/step - loss: 0.0000e+00 - sparse_categorical_accuracy: 1.0000 - val_loss: 0.0000e+00 - val_sparse_categorical_accuracy: 1.0000\n",
            "Epoch 80/200\n",
            "1/1 [==============================] - 0s 39ms/step - loss: 0.0000e+00 - sparse_categorical_accuracy: 1.0000 - val_loss: 0.0000e+00 - val_sparse_categorical_accuracy: 1.0000\n",
            "Epoch 81/200\n",
            "1/1 [==============================] - 0s 38ms/step - loss: 0.0000e+00 - sparse_categorical_accuracy: 1.0000 - val_loss: 0.0000e+00 - val_sparse_categorical_accuracy: 1.0000\n",
            "Epoch 82/200\n",
            "1/1 [==============================] - 0s 39ms/step - loss: 0.0000e+00 - sparse_categorical_accuracy: 1.0000 - val_loss: 0.0000e+00 - val_sparse_categorical_accuracy: 1.0000\n",
            "Epoch 83/200\n",
            "1/1 [==============================] - 0s 36ms/step - loss: 0.0000e+00 - sparse_categorical_accuracy: 1.0000 - val_loss: 0.0000e+00 - val_sparse_categorical_accuracy: 1.0000\n",
            "Epoch 84/200\n",
            "1/1 [==============================] - 0s 38ms/step - loss: 0.0000e+00 - sparse_categorical_accuracy: 1.0000 - val_loss: 0.0000e+00 - val_sparse_categorical_accuracy: 1.0000\n",
            "Epoch 85/200\n",
            "1/1 [==============================] - 0s 34ms/step - loss: 0.0000e+00 - sparse_categorical_accuracy: 1.0000 - val_loss: 0.0000e+00 - val_sparse_categorical_accuracy: 1.0000\n",
            "Epoch 86/200\n",
            "1/1 [==============================] - 0s 40ms/step - loss: 0.0000e+00 - sparse_categorical_accuracy: 1.0000 - val_loss: 0.0000e+00 - val_sparse_categorical_accuracy: 1.0000\n",
            "Epoch 87/200\n",
            "1/1 [==============================] - 0s 41ms/step - loss: 0.0000e+00 - sparse_categorical_accuracy: 1.0000 - val_loss: 0.0000e+00 - val_sparse_categorical_accuracy: 1.0000\n",
            "Epoch 88/200\n",
            "1/1 [==============================] - 0s 33ms/step - loss: 0.0000e+00 - sparse_categorical_accuracy: 1.0000 - val_loss: 0.0000e+00 - val_sparse_categorical_accuracy: 1.0000\n",
            "Epoch 89/200\n",
            "1/1 [==============================] - 0s 30ms/step - loss: 0.0000e+00 - sparse_categorical_accuracy: 1.0000 - val_loss: 0.0000e+00 - val_sparse_categorical_accuracy: 1.0000\n",
            "Epoch 90/200\n",
            "1/1 [==============================] - 0s 30ms/step - loss: 0.0000e+00 - sparse_categorical_accuracy: 1.0000 - val_loss: 0.0000e+00 - val_sparse_categorical_accuracy: 1.0000\n",
            "Epoch 91/200\n",
            "1/1 [==============================] - 0s 27ms/step - loss: 0.0000e+00 - sparse_categorical_accuracy: 1.0000 - val_loss: 0.0000e+00 - val_sparse_categorical_accuracy: 1.0000\n",
            "Epoch 92/200\n",
            "1/1 [==============================] - 0s 34ms/step - loss: 0.0000e+00 - sparse_categorical_accuracy: 1.0000 - val_loss: 0.0000e+00 - val_sparse_categorical_accuracy: 1.0000\n",
            "Epoch 93/200\n",
            "1/1 [==============================] - 0s 34ms/step - loss: 0.0000e+00 - sparse_categorical_accuracy: 1.0000 - val_loss: 0.0000e+00 - val_sparse_categorical_accuracy: 1.0000\n",
            "Epoch 94/200\n",
            "1/1 [==============================] - 0s 34ms/step - loss: 0.0000e+00 - sparse_categorical_accuracy: 1.0000 - val_loss: 0.0000e+00 - val_sparse_categorical_accuracy: 1.0000\n",
            "Epoch 95/200\n",
            "1/1 [==============================] - 0s 32ms/step - loss: 0.0000e+00 - sparse_categorical_accuracy: 1.0000 - val_loss: 0.0000e+00 - val_sparse_categorical_accuracy: 1.0000\n",
            "Epoch 96/200\n",
            "1/1 [==============================] - 0s 38ms/step - loss: 0.0000e+00 - sparse_categorical_accuracy: 1.0000 - val_loss: 0.0000e+00 - val_sparse_categorical_accuracy: 1.0000\n",
            "Epoch 97/200\n",
            "1/1 [==============================] - 0s 32ms/step - loss: 0.0000e+00 - sparse_categorical_accuracy: 1.0000 - val_loss: 0.0000e+00 - val_sparse_categorical_accuracy: 1.0000\n",
            "Epoch 98/200\n",
            "1/1 [==============================] - 0s 29ms/step - loss: 0.0000e+00 - sparse_categorical_accuracy: 1.0000 - val_loss: 0.0000e+00 - val_sparse_categorical_accuracy: 1.0000\n",
            "Epoch 99/200\n",
            "1/1 [==============================] - 0s 27ms/step - loss: 0.0000e+00 - sparse_categorical_accuracy: 1.0000 - val_loss: 0.0000e+00 - val_sparse_categorical_accuracy: 1.0000\n",
            "Epoch 100/200\n",
            "1/1 [==============================] - 0s 29ms/step - loss: 0.0000e+00 - sparse_categorical_accuracy: 1.0000 - val_loss: 0.0000e+00 - val_sparse_categorical_accuracy: 1.0000\n",
            "Epoch 101/200\n",
            "1/1 [==============================] - 0s 45ms/step - loss: 0.0000e+00 - sparse_categorical_accuracy: 1.0000 - val_loss: 0.0000e+00 - val_sparse_categorical_accuracy: 1.0000\n",
            "Epoch 102/200\n",
            "1/1 [==============================] - 0s 176ms/step - loss: 0.0000e+00 - sparse_categorical_accuracy: 1.0000 - val_loss: 0.0000e+00 - val_sparse_categorical_accuracy: 1.0000\n",
            "Epoch 103/200\n",
            "1/1 [==============================] - 0s 72ms/step - loss: 0.0000e+00 - sparse_categorical_accuracy: 1.0000 - val_loss: 0.0000e+00 - val_sparse_categorical_accuracy: 1.0000\n",
            "Epoch 104/200\n",
            "1/1 [==============================] - 0s 65ms/step - loss: 0.0000e+00 - sparse_categorical_accuracy: 1.0000 - val_loss: 0.0000e+00 - val_sparse_categorical_accuracy: 1.0000\n",
            "Epoch 105/200\n",
            "1/1 [==============================] - 0s 64ms/step - loss: 0.0000e+00 - sparse_categorical_accuracy: 1.0000 - val_loss: 0.0000e+00 - val_sparse_categorical_accuracy: 1.0000\n",
            "Epoch 106/200\n",
            "1/1 [==============================] - 0s 46ms/step - loss: 0.0000e+00 - sparse_categorical_accuracy: 1.0000 - val_loss: 0.0000e+00 - val_sparse_categorical_accuracy: 1.0000\n",
            "Epoch 107/200\n",
            "1/1 [==============================] - 0s 35ms/step - loss: 0.0000e+00 - sparse_categorical_accuracy: 1.0000 - val_loss: 0.0000e+00 - val_sparse_categorical_accuracy: 1.0000\n",
            "Epoch 108/200\n",
            "1/1 [==============================] - 0s 32ms/step - loss: 0.0000e+00 - sparse_categorical_accuracy: 1.0000 - val_loss: 0.0000e+00 - val_sparse_categorical_accuracy: 1.0000\n",
            "Epoch 109/200\n",
            "1/1 [==============================] - 0s 31ms/step - loss: 0.0000e+00 - sparse_categorical_accuracy: 1.0000 - val_loss: 0.0000e+00 - val_sparse_categorical_accuracy: 1.0000\n",
            "Epoch 110/200\n",
            "1/1 [==============================] - 0s 31ms/step - loss: 0.0000e+00 - sparse_categorical_accuracy: 1.0000 - val_loss: 0.0000e+00 - val_sparse_categorical_accuracy: 1.0000\n",
            "Epoch 111/200\n",
            "1/1 [==============================] - 0s 31ms/step - loss: 0.0000e+00 - sparse_categorical_accuracy: 1.0000 - val_loss: 0.0000e+00 - val_sparse_categorical_accuracy: 1.0000\n",
            "Epoch 112/200\n",
            "1/1 [==============================] - 0s 28ms/step - loss: 0.0000e+00 - sparse_categorical_accuracy: 1.0000 - val_loss: 0.0000e+00 - val_sparse_categorical_accuracy: 1.0000\n",
            "Epoch 113/200\n",
            "1/1 [==============================] - 0s 32ms/step - loss: 0.0000e+00 - sparse_categorical_accuracy: 1.0000 - val_loss: 0.0000e+00 - val_sparse_categorical_accuracy: 1.0000\n",
            "Epoch 114/200\n",
            "1/1 [==============================] - 0s 34ms/step - loss: 0.0000e+00 - sparse_categorical_accuracy: 1.0000 - val_loss: 0.0000e+00 - val_sparse_categorical_accuracy: 1.0000\n",
            "Epoch 115/200\n",
            "1/1 [==============================] - 0s 31ms/step - loss: 0.0000e+00 - sparse_categorical_accuracy: 1.0000 - val_loss: 0.0000e+00 - val_sparse_categorical_accuracy: 1.0000\n",
            "Epoch 116/200\n",
            "1/1 [==============================] - 0s 30ms/step - loss: 0.0000e+00 - sparse_categorical_accuracy: 1.0000 - val_loss: 0.0000e+00 - val_sparse_categorical_accuracy: 1.0000\n",
            "Epoch 117/200\n",
            "1/1 [==============================] - 0s 39ms/step - loss: 0.0000e+00 - sparse_categorical_accuracy: 1.0000 - val_loss: 0.0000e+00 - val_sparse_categorical_accuracy: 1.0000\n",
            "Epoch 118/200\n",
            "1/1 [==============================] - 0s 34ms/step - loss: 0.0000e+00 - sparse_categorical_accuracy: 1.0000 - val_loss: 0.0000e+00 - val_sparse_categorical_accuracy: 1.0000\n",
            "Epoch 119/200\n",
            "1/1 [==============================] - 0s 38ms/step - loss: 0.0000e+00 - sparse_categorical_accuracy: 1.0000 - val_loss: 0.0000e+00 - val_sparse_categorical_accuracy: 1.0000\n",
            "Epoch 120/200\n",
            "1/1 [==============================] - 0s 34ms/step - loss: 0.0000e+00 - sparse_categorical_accuracy: 1.0000 - val_loss: 0.0000e+00 - val_sparse_categorical_accuracy: 1.0000\n",
            "Epoch 121/200\n",
            "1/1 [==============================] - 0s 34ms/step - loss: 0.0000e+00 - sparse_categorical_accuracy: 1.0000 - val_loss: 0.0000e+00 - val_sparse_categorical_accuracy: 1.0000\n",
            "Epoch 122/200\n",
            "1/1 [==============================] - 0s 35ms/step - loss: 0.0000e+00 - sparse_categorical_accuracy: 1.0000 - val_loss: 0.0000e+00 - val_sparse_categorical_accuracy: 1.0000\n",
            "Epoch 123/200\n",
            "1/1 [==============================] - 0s 31ms/step - loss: 0.0000e+00 - sparse_categorical_accuracy: 1.0000 - val_loss: 0.0000e+00 - val_sparse_categorical_accuracy: 1.0000\n",
            "Epoch 124/200\n",
            "1/1 [==============================] - 0s 42ms/step - loss: 0.0000e+00 - sparse_categorical_accuracy: 1.0000 - val_loss: 0.0000e+00 - val_sparse_categorical_accuracy: 1.0000\n",
            "Epoch 125/200\n",
            "1/1 [==============================] - 0s 31ms/step - loss: 0.0000e+00 - sparse_categorical_accuracy: 1.0000 - val_loss: 0.0000e+00 - val_sparse_categorical_accuracy: 1.0000\n",
            "Epoch 126/200\n",
            "1/1 [==============================] - 0s 32ms/step - loss: 0.0000e+00 - sparse_categorical_accuracy: 1.0000 - val_loss: 0.0000e+00 - val_sparse_categorical_accuracy: 1.0000\n",
            "Epoch 127/200\n",
            "1/1 [==============================] - 0s 36ms/step - loss: 0.0000e+00 - sparse_categorical_accuracy: 1.0000 - val_loss: 0.0000e+00 - val_sparse_categorical_accuracy: 1.0000\n",
            "Epoch 128/200\n",
            "1/1 [==============================] - 0s 32ms/step - loss: 0.0000e+00 - sparse_categorical_accuracy: 1.0000 - val_loss: 0.0000e+00 - val_sparse_categorical_accuracy: 1.0000\n",
            "Epoch 129/200\n",
            "1/1 [==============================] - 0s 29ms/step - loss: 0.0000e+00 - sparse_categorical_accuracy: 1.0000 - val_loss: 0.0000e+00 - val_sparse_categorical_accuracy: 1.0000\n",
            "Epoch 130/200\n",
            "1/1 [==============================] - 0s 37ms/step - loss: 0.0000e+00 - sparse_categorical_accuracy: 1.0000 - val_loss: 0.0000e+00 - val_sparse_categorical_accuracy: 1.0000\n",
            "Epoch 131/200\n",
            "1/1 [==============================] - 0s 27ms/step - loss: 0.0000e+00 - sparse_categorical_accuracy: 1.0000 - val_loss: 0.0000e+00 - val_sparse_categorical_accuracy: 1.0000\n",
            "Epoch 132/200\n",
            "1/1 [==============================] - 0s 27ms/step - loss: 0.0000e+00 - sparse_categorical_accuracy: 1.0000 - val_loss: 0.0000e+00 - val_sparse_categorical_accuracy: 1.0000\n",
            "Epoch 133/200\n",
            "1/1 [==============================] - 0s 31ms/step - loss: 0.0000e+00 - sparse_categorical_accuracy: 1.0000 - val_loss: 0.0000e+00 - val_sparse_categorical_accuracy: 1.0000\n",
            "Epoch 134/200\n",
            "1/1 [==============================] - 0s 30ms/step - loss: 0.0000e+00 - sparse_categorical_accuracy: 1.0000 - val_loss: 0.0000e+00 - val_sparse_categorical_accuracy: 1.0000\n",
            "Epoch 135/200\n",
            "1/1 [==============================] - 0s 31ms/step - loss: 0.0000e+00 - sparse_categorical_accuracy: 1.0000 - val_loss: 0.0000e+00 - val_sparse_categorical_accuracy: 1.0000\n",
            "Epoch 136/200\n",
            "1/1 [==============================] - 0s 34ms/step - loss: 0.0000e+00 - sparse_categorical_accuracy: 1.0000 - val_loss: 0.0000e+00 - val_sparse_categorical_accuracy: 1.0000\n",
            "Epoch 137/200\n",
            "1/1 [==============================] - 0s 181ms/step - loss: 0.0000e+00 - sparse_categorical_accuracy: 1.0000 - val_loss: 0.0000e+00 - val_sparse_categorical_accuracy: 1.0000\n",
            "Epoch 138/200\n",
            "1/1 [==============================] - 0s 51ms/step - loss: 0.0000e+00 - sparse_categorical_accuracy: 1.0000 - val_loss: 0.0000e+00 - val_sparse_categorical_accuracy: 1.0000\n",
            "Epoch 139/200\n",
            "1/1 [==============================] - 0s 49ms/step - loss: 0.0000e+00 - sparse_categorical_accuracy: 1.0000 - val_loss: 0.0000e+00 - val_sparse_categorical_accuracy: 1.0000\n",
            "Epoch 140/200\n",
            "1/1 [==============================] - 0s 60ms/step - loss: 0.0000e+00 - sparse_categorical_accuracy: 1.0000 - val_loss: 0.0000e+00 - val_sparse_categorical_accuracy: 1.0000\n",
            "Epoch 141/200\n",
            "1/1 [==============================] - 0s 57ms/step - loss: 0.0000e+00 - sparse_categorical_accuracy: 1.0000 - val_loss: 0.0000e+00 - val_sparse_categorical_accuracy: 1.0000\n",
            "Epoch 142/200\n",
            "1/1 [==============================] - 0s 60ms/step - loss: 0.0000e+00 - sparse_categorical_accuracy: 1.0000 - val_loss: 0.0000e+00 - val_sparse_categorical_accuracy: 1.0000\n",
            "Epoch 143/200\n",
            "1/1 [==============================] - 0s 76ms/step - loss: 0.0000e+00 - sparse_categorical_accuracy: 1.0000 - val_loss: 0.0000e+00 - val_sparse_categorical_accuracy: 1.0000\n",
            "Epoch 144/200\n",
            "1/1 [==============================] - 0s 30ms/step - loss: 0.0000e+00 - sparse_categorical_accuracy: 1.0000 - val_loss: 0.0000e+00 - val_sparse_categorical_accuracy: 1.0000\n",
            "Epoch 145/200\n",
            "1/1 [==============================] - 0s 29ms/step - loss: 0.0000e+00 - sparse_categorical_accuracy: 1.0000 - val_loss: 0.0000e+00 - val_sparse_categorical_accuracy: 1.0000\n",
            "Epoch 146/200\n",
            "1/1 [==============================] - 0s 30ms/step - loss: 0.0000e+00 - sparse_categorical_accuracy: 1.0000 - val_loss: 0.0000e+00 - val_sparse_categorical_accuracy: 1.0000\n",
            "Epoch 147/200\n",
            "1/1 [==============================] - 0s 30ms/step - loss: 0.0000e+00 - sparse_categorical_accuracy: 1.0000 - val_loss: 0.0000e+00 - val_sparse_categorical_accuracy: 1.0000\n",
            "Epoch 148/200\n",
            "1/1 [==============================] - 0s 31ms/step - loss: 0.0000e+00 - sparse_categorical_accuracy: 1.0000 - val_loss: 0.0000e+00 - val_sparse_categorical_accuracy: 1.0000\n",
            "Epoch 149/200\n",
            "1/1 [==============================] - 0s 33ms/step - loss: 0.0000e+00 - sparse_categorical_accuracy: 1.0000 - val_loss: 0.0000e+00 - val_sparse_categorical_accuracy: 1.0000\n",
            "Epoch 150/200\n",
            "1/1 [==============================] - 0s 34ms/step - loss: 0.0000e+00 - sparse_categorical_accuracy: 1.0000 - val_loss: 0.0000e+00 - val_sparse_categorical_accuracy: 1.0000\n",
            "Epoch 151/200\n",
            "1/1 [==============================] - 0s 34ms/step - loss: 0.0000e+00 - sparse_categorical_accuracy: 1.0000 - val_loss: 0.0000e+00 - val_sparse_categorical_accuracy: 1.0000\n",
            "Epoch 152/200\n",
            "1/1 [==============================] - 0s 34ms/step - loss: 0.0000e+00 - sparse_categorical_accuracy: 1.0000 - val_loss: 0.0000e+00 - val_sparse_categorical_accuracy: 1.0000\n",
            "Epoch 153/200\n",
            "1/1 [==============================] - 0s 37ms/step - loss: 0.0000e+00 - sparse_categorical_accuracy: 1.0000 - val_loss: 0.0000e+00 - val_sparse_categorical_accuracy: 1.0000\n",
            "Epoch 154/200\n",
            "1/1 [==============================] - 0s 33ms/step - loss: 0.0000e+00 - sparse_categorical_accuracy: 1.0000 - val_loss: 0.0000e+00 - val_sparse_categorical_accuracy: 1.0000\n",
            "Epoch 155/200\n",
            "1/1 [==============================] - 0s 32ms/step - loss: 0.0000e+00 - sparse_categorical_accuracy: 1.0000 - val_loss: 0.0000e+00 - val_sparse_categorical_accuracy: 1.0000\n",
            "Epoch 156/200\n",
            "1/1 [==============================] - 0s 32ms/step - loss: 0.0000e+00 - sparse_categorical_accuracy: 1.0000 - val_loss: 0.0000e+00 - val_sparse_categorical_accuracy: 1.0000\n",
            "Epoch 157/200\n",
            "1/1 [==============================] - 0s 34ms/step - loss: 0.0000e+00 - sparse_categorical_accuracy: 1.0000 - val_loss: 0.0000e+00 - val_sparse_categorical_accuracy: 1.0000\n",
            "Epoch 158/200\n",
            "1/1 [==============================] - 0s 33ms/step - loss: 0.0000e+00 - sparse_categorical_accuracy: 1.0000 - val_loss: 0.0000e+00 - val_sparse_categorical_accuracy: 1.0000\n",
            "Epoch 159/200\n",
            "1/1 [==============================] - 0s 32ms/step - loss: 0.0000e+00 - sparse_categorical_accuracy: 1.0000 - val_loss: 0.0000e+00 - val_sparse_categorical_accuracy: 1.0000\n",
            "Epoch 160/200\n",
            "1/1 [==============================] - 0s 29ms/step - loss: 0.0000e+00 - sparse_categorical_accuracy: 1.0000 - val_loss: 0.0000e+00 - val_sparse_categorical_accuracy: 1.0000\n",
            "Epoch 161/200\n",
            "1/1 [==============================] - 0s 32ms/step - loss: 0.0000e+00 - sparse_categorical_accuracy: 1.0000 - val_loss: 0.0000e+00 - val_sparse_categorical_accuracy: 1.0000\n",
            "Epoch 162/200\n",
            "1/1 [==============================] - 0s 32ms/step - loss: 0.0000e+00 - sparse_categorical_accuracy: 1.0000 - val_loss: 0.0000e+00 - val_sparse_categorical_accuracy: 1.0000\n",
            "Epoch 163/200\n",
            "1/1 [==============================] - 0s 33ms/step - loss: 0.0000e+00 - sparse_categorical_accuracy: 1.0000 - val_loss: 0.0000e+00 - val_sparse_categorical_accuracy: 1.0000\n",
            "Epoch 164/200\n",
            "1/1 [==============================] - 0s 28ms/step - loss: 0.0000e+00 - sparse_categorical_accuracy: 1.0000 - val_loss: 0.0000e+00 - val_sparse_categorical_accuracy: 1.0000\n",
            "Epoch 165/200\n",
            "1/1 [==============================] - 0s 27ms/step - loss: 0.0000e+00 - sparse_categorical_accuracy: 1.0000 - val_loss: 0.0000e+00 - val_sparse_categorical_accuracy: 1.0000\n",
            "Epoch 166/200\n",
            "1/1 [==============================] - 0s 27ms/step - loss: 0.0000e+00 - sparse_categorical_accuracy: 1.0000 - val_loss: 0.0000e+00 - val_sparse_categorical_accuracy: 1.0000\n",
            "Epoch 167/200\n",
            "1/1 [==============================] - 0s 31ms/step - loss: 0.0000e+00 - sparse_categorical_accuracy: 1.0000 - val_loss: 0.0000e+00 - val_sparse_categorical_accuracy: 1.0000\n",
            "Epoch 168/200\n",
            "1/1 [==============================] - 0s 28ms/step - loss: 0.0000e+00 - sparse_categorical_accuracy: 1.0000 - val_loss: 0.0000e+00 - val_sparse_categorical_accuracy: 1.0000\n",
            "Epoch 169/200\n",
            "1/1 [==============================] - 0s 26ms/step - loss: 0.0000e+00 - sparse_categorical_accuracy: 1.0000 - val_loss: 0.0000e+00 - val_sparse_categorical_accuracy: 1.0000\n",
            "Epoch 170/200\n",
            "1/1 [==============================] - 0s 24ms/step - loss: 0.0000e+00 - sparse_categorical_accuracy: 1.0000 - val_loss: 0.0000e+00 - val_sparse_categorical_accuracy: 1.0000\n",
            "Epoch 171/200\n",
            "1/1 [==============================] - 0s 30ms/step - loss: 0.0000e+00 - sparse_categorical_accuracy: 1.0000 - val_loss: 0.0000e+00 - val_sparse_categorical_accuracy: 1.0000\n",
            "Epoch 172/200\n",
            "1/1 [==============================] - 0s 26ms/step - loss: 0.0000e+00 - sparse_categorical_accuracy: 1.0000 - val_loss: 0.0000e+00 - val_sparse_categorical_accuracy: 1.0000\n",
            "Epoch 173/200\n",
            "1/1 [==============================] - 0s 25ms/step - loss: 0.0000e+00 - sparse_categorical_accuracy: 1.0000 - val_loss: 0.0000e+00 - val_sparse_categorical_accuracy: 1.0000\n",
            "Epoch 174/200\n",
            "1/1 [==============================] - 0s 26ms/step - loss: 0.0000e+00 - sparse_categorical_accuracy: 1.0000 - val_loss: 0.0000e+00 - val_sparse_categorical_accuracy: 1.0000\n",
            "Epoch 175/200\n",
            "1/1 [==============================] - 0s 29ms/step - loss: 0.0000e+00 - sparse_categorical_accuracy: 1.0000 - val_loss: 0.0000e+00 - val_sparse_categorical_accuracy: 1.0000\n",
            "Epoch 176/200\n",
            "1/1 [==============================] - 0s 24ms/step - loss: 0.0000e+00 - sparse_categorical_accuracy: 1.0000 - val_loss: 0.0000e+00 - val_sparse_categorical_accuracy: 1.0000\n",
            "Epoch 177/200\n",
            "1/1 [==============================] - 0s 25ms/step - loss: 0.0000e+00 - sparse_categorical_accuracy: 1.0000 - val_loss: 0.0000e+00 - val_sparse_categorical_accuracy: 1.0000\n",
            "Epoch 178/200\n",
            "1/1 [==============================] - 0s 28ms/step - loss: 0.0000e+00 - sparse_categorical_accuracy: 1.0000 - val_loss: 0.0000e+00 - val_sparse_categorical_accuracy: 1.0000\n",
            "Epoch 179/200\n",
            "1/1 [==============================] - 0s 33ms/step - loss: 0.0000e+00 - sparse_categorical_accuracy: 1.0000 - val_loss: 0.0000e+00 - val_sparse_categorical_accuracy: 1.0000\n",
            "Epoch 180/200\n",
            "1/1 [==============================] - 0s 27ms/step - loss: 0.0000e+00 - sparse_categorical_accuracy: 1.0000 - val_loss: 0.0000e+00 - val_sparse_categorical_accuracy: 1.0000\n",
            "Epoch 181/200\n",
            "1/1 [==============================] - 0s 27ms/step - loss: 0.0000e+00 - sparse_categorical_accuracy: 1.0000 - val_loss: 0.0000e+00 - val_sparse_categorical_accuracy: 1.0000\n",
            "Epoch 182/200\n",
            "1/1 [==============================] - 0s 26ms/step - loss: 0.0000e+00 - sparse_categorical_accuracy: 1.0000 - val_loss: 0.0000e+00 - val_sparse_categorical_accuracy: 1.0000\n",
            "Epoch 183/200\n",
            "1/1 [==============================] - 0s 26ms/step - loss: 0.0000e+00 - sparse_categorical_accuracy: 1.0000 - val_loss: 0.0000e+00 - val_sparse_categorical_accuracy: 1.0000\n",
            "Epoch 184/200\n",
            "1/1 [==============================] - 0s 28ms/step - loss: 0.0000e+00 - sparse_categorical_accuracy: 1.0000 - val_loss: 0.0000e+00 - val_sparse_categorical_accuracy: 1.0000\n",
            "Epoch 185/200\n",
            "1/1 [==============================] - 0s 26ms/step - loss: 0.0000e+00 - sparse_categorical_accuracy: 1.0000 - val_loss: 0.0000e+00 - val_sparse_categorical_accuracy: 1.0000\n",
            "Epoch 186/200\n",
            "1/1 [==============================] - 0s 25ms/step - loss: 0.0000e+00 - sparse_categorical_accuracy: 1.0000 - val_loss: 0.0000e+00 - val_sparse_categorical_accuracy: 1.0000\n",
            "Epoch 187/200\n",
            "1/1 [==============================] - 0s 29ms/step - loss: 0.0000e+00 - sparse_categorical_accuracy: 1.0000 - val_loss: 0.0000e+00 - val_sparse_categorical_accuracy: 1.0000\n",
            "Epoch 188/200\n",
            "1/1 [==============================] - 0s 27ms/step - loss: 0.0000e+00 - sparse_categorical_accuracy: 1.0000 - val_loss: 0.0000e+00 - val_sparse_categorical_accuracy: 1.0000\n",
            "Epoch 189/200\n",
            "1/1 [==============================] - 0s 28ms/step - loss: 0.0000e+00 - sparse_categorical_accuracy: 1.0000 - val_loss: 0.0000e+00 - val_sparse_categorical_accuracy: 1.0000\n",
            "Epoch 190/200\n",
            "1/1 [==============================] - 0s 24ms/step - loss: 0.0000e+00 - sparse_categorical_accuracy: 1.0000 - val_loss: 0.0000e+00 - val_sparse_categorical_accuracy: 1.0000\n",
            "Epoch 191/200\n",
            "1/1 [==============================] - 0s 25ms/step - loss: 0.0000e+00 - sparse_categorical_accuracy: 1.0000 - val_loss: 0.0000e+00 - val_sparse_categorical_accuracy: 1.0000\n",
            "Epoch 192/200\n",
            "1/1 [==============================] - 0s 29ms/step - loss: 0.0000e+00 - sparse_categorical_accuracy: 1.0000 - val_loss: 0.0000e+00 - val_sparse_categorical_accuracy: 1.0000\n",
            "Epoch 193/200\n",
            "1/1 [==============================] - 0s 25ms/step - loss: 0.0000e+00 - sparse_categorical_accuracy: 1.0000 - val_loss: 0.0000e+00 - val_sparse_categorical_accuracy: 1.0000\n",
            "Epoch 194/200\n",
            "1/1 [==============================] - 0s 31ms/step - loss: 0.0000e+00 - sparse_categorical_accuracy: 1.0000 - val_loss: 0.0000e+00 - val_sparse_categorical_accuracy: 1.0000\n",
            "Epoch 195/200\n",
            "1/1 [==============================] - 0s 35ms/step - loss: 0.0000e+00 - sparse_categorical_accuracy: 1.0000 - val_loss: 0.0000e+00 - val_sparse_categorical_accuracy: 1.0000\n",
            "Epoch 196/200\n",
            "1/1 [==============================] - 0s 31ms/step - loss: 0.0000e+00 - sparse_categorical_accuracy: 1.0000 - val_loss: 0.0000e+00 - val_sparse_categorical_accuracy: 1.0000\n",
            "Epoch 197/200\n",
            "1/1 [==============================] - 0s 26ms/step - loss: 0.0000e+00 - sparse_categorical_accuracy: 1.0000 - val_loss: 0.0000e+00 - val_sparse_categorical_accuracy: 1.0000\n",
            "Epoch 198/200\n",
            "1/1 [==============================] - 0s 31ms/step - loss: 0.0000e+00 - sparse_categorical_accuracy: 1.0000 - val_loss: 0.0000e+00 - val_sparse_categorical_accuracy: 1.0000\n",
            "Epoch 199/200\n",
            "1/1 [==============================] - 0s 31ms/step - loss: 0.0000e+00 - sparse_categorical_accuracy: 1.0000 - val_loss: 0.0000e+00 - val_sparse_categorical_accuracy: 1.0000\n",
            "Epoch 200/200\n",
            "1/1 [==============================] - 0s 38ms/step - loss: 0.0000e+00 - sparse_categorical_accuracy: 1.0000 - val_loss: 0.0000e+00 - val_sparse_categorical_accuracy: 1.0000\n"
          ]
        }
      ],
      "source": [
        "# fit the model to the training data\n",
        "# the higher the epoch value the higher the accuracy but the longer it takes to execute. \n",
        "# An epoch means training the neural network with all the training data for one cycle. \n",
        "# In an epoch, we use all of the data exactly once. A forward pass and a backward pass together are counted as one pass: \n",
        "# An epoch is made up of one or more batches, where we use a part of the dataset to train the neural network.\n",
        "\n",
        "history = model.fit(X_train, y_train, validation_data=(X_val, y_val), batch_size=64,epochs=200, verbose=1)\n",
        "\n",
        "\n"
      ]
    },
    {
      "cell_type": "code",
      "source": [
        "predictions = model.predict(X_test)\n",
        "_, accuracy = model.evaluate(X_test, y_test, verbose=0)"
      ],
      "metadata": {
        "id": "ti2jiqfvEeQB"
      },
      "id": "ti2jiqfvEeQB",
      "execution_count": 1433,
      "outputs": []
    },
    {
      "cell_type": "code",
      "source": [
        "accuracy"
      ],
      "metadata": {
        "id": "zmx2KBHIAQ18",
        "colab": {
          "base_uri": "https://localhost:8080/"
        },
        "outputId": "fc5b8b49-59a6-48ff-dcd6-6a7e092e0482"
      },
      "id": "zmx2KBHIAQ18",
      "execution_count": 1434,
      "outputs": [
        {
          "output_type": "execute_result",
          "data": {
            "text/plain": [
              "1.0"
            ]
          },
          "metadata": {},
          "execution_count": 1434
        }
      ]
    },
    {
      "cell_type": "code",
      "source": [
        "predictions[0]"
      ],
      "metadata": {
        "id": "FnQV9eBnAZx2",
        "colab": {
          "base_uri": "https://localhost:8080/"
        },
        "outputId": "7bf89e96-6e7a-41e0-f737-2e0aaa2217bc"
      },
      "id": "FnQV9eBnAZx2",
      "execution_count": 1435,
      "outputs": [
        {
          "output_type": "execute_result",
          "data": {
            "text/plain": [
              "array([1.], dtype=float32)"
            ]
          },
          "metadata": {},
          "execution_count": 1435
        }
      ]
    },
    {
      "cell_type": "code",
      "source": [
        "np.argmax(predictions)"
      ],
      "metadata": {
        "id": "fBfDbGcnAhj6",
        "colab": {
          "base_uri": "https://localhost:8080/"
        },
        "outputId": "1925cac0-de30-49b0-c10a-3d067199635a"
      },
      "id": "fBfDbGcnAhj6",
      "execution_count": 1436,
      "outputs": [
        {
          "output_type": "execute_result",
          "data": {
            "text/plain": [
              "0"
            ]
          },
          "metadata": {},
          "execution_count": 1436
        }
      ]
    },
    {
      "cell_type": "code",
      "execution_count": 1437,
      "id": "e35f6f4a",
      "metadata": {
        "id": "e35f6f4a",
        "scrolled": true,
        "colab": {
          "base_uri": "https://localhost:8080/"
        },
        "outputId": "ede36095-464f-4030-bd48-f4f4ab5f6368"
      },
      "outputs": [
        {
          "output_type": "stream",
          "name": "stdout",
          "text": [
            "predicted:0 ,actual:0\n",
            "predicted:0 ,actual:0\n",
            "predicted:0 ,actual:0\n",
            "predicted:0 ,actual:0\n",
            "predicted:0 ,actual:0\n",
            "predicted:0 ,actual:0\n",
            "predicted:0 ,actual:0\n",
            "predicted:0 ,actual:0\n",
            "predicted:0 ,actual:0\n",
            "predicted:0 ,actual:0\n"
          ]
        }
      ],
      "source": [
        "# Get the predictions for samples in the test set. You can change by alter the number within the []\n",
        "for index,entry in enumerate(predictions[0:10,:]):\n",
        "    print('predicted:%d ,actual:%d'%(np.argmax(entry),y_test[index]))"
      ]
    },
    {
      "cell_type": "code",
      "execution_count": 1438,
      "id": "b3ed706e",
      "metadata": {
        "id": "b3ed706e",
        "colab": {
          "base_uri": "https://localhost:8080/",
          "height": 295
        },
        "outputId": "6851339e-ac05-424b-da5d-9b26ac55b0b2"
      },
      "outputs": [
        {
          "output_type": "display_data",
          "data": {
            "text/plain": [
              "<Figure size 432x288 with 1 Axes>"
            ],
            "image/png": "[encoded data removed]"
          },
          "metadata": {
            "needs_background": "light"
          }
        }
      ],
      "source": [
        "# Summarize history for accuracy\n",
        "plt.plot(history.history['sparse_categorical_accuracy'])\n",
        "plt.plot(history.history['val_sparse_categorical_accuracy'])\n",
        "plt.title('model performance')\n",
        "plt.ylabel('accuracy')\n",
        "plt.xlabel('epoch')\n",
        "plt.legend(['train', 'val'], loc='lower right')\n",
        "plt.show()\n"
      ]
    },
    {
      "cell_type": "code",
      "execution_count": 1439,
      "id": "e0ddadca",
      "metadata": {
        "id": "e0ddadca",
        "colab": {
          "base_uri": "https://localhost:8080/",
          "height": 295
        },
        "outputId": "c98cf10a-7640-4e2e-ffaa-eabbc571b43c"
      },
      "outputs": [
        {
          "output_type": "display_data",
          "data": {
            "text/plain": [
              "<Figure size 432x288 with 1 Axes>"
            ],
            "image/png": "[encoded data removed]"
          },
          "metadata": {
            "needs_background": "light"
          }
        }
      ],
      "source": [
        "# Summarize history for loss\n",
        "plt.plot(history.history['loss'])\n",
        "plt.plot(history.history['val_loss'])\n",
        "plt.title('model loss')\n",
        "plt.ylabel('loss')\n",
        "plt.xlabel('epoch')\n",
        "plt.legend(['train', 'val'], loc='lower right')\n",
        "plt.show()\n",
        "\n"
      ]
    }
  ],
  "metadata": {
    "colab": {
      "provenance": [],
      "machine_shape": "hm"
    },
    "kernelspec": {
      "display_name": "Python 3 (ipykernel)",
      "language": "python",
      "name": "python3"
    },
    "language_info": {
      "codemirror_mode": {
        "name": "ipython",
        "version": 3
      },
      "file_extension": ".py",
      "mimetype": "text/x-python",
      "name": "python",
      "nbconvert_exporter": "python",
      "pygments_lexer": "ipython3",
      "version": "3.9.13"
    },
    "vscode": {
      "interpreter": {
        "hash": "ebcab99dd29373ca9aaa839c3c39542ccb6ee05f63faba1a6698685f4cc3be0e"
      }
    },
    "gpuClass": "standard"
  },
  "nbformat": 4,
  "nbformat_minor": 5
}