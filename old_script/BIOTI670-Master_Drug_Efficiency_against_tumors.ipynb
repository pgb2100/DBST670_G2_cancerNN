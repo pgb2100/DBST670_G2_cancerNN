{
 "cells": [
  {
   "cell_type": "code",
   "execution_count": 1,
   "metadata": {},
   "outputs": [
    {
     "name": "stdout",
     "output_type": "stream",
     "text": [
      "<bound method NDFrame.head of        Unnamed: 0          Drug Name  Drug ID Cell Line Name  Cosmic ID  \\\n",
      "0               0       Camptothecin     1003           TE-5     735784   \n",
      "1               1       Camptothecin     1003       EC-GI-10     753555   \n",
      "2               2       Camptothecin     1003          HCE-4     753559   \n",
      "3               3       Camptothecin     1003       KYSE-140     753573   \n",
      "4               4       Camptothecin     1003       KYSE-410     753574   \n",
      "...           ...                ...      ...            ...        ...   \n",
      "90996        6091  N-acetyl cysteine     2499           FU97    1290806   \n",
      "90997        6092  N-acetyl cysteine     2499         NUGC-4    1298357   \n",
      "90998        6093  N-acetyl cysteine     2499         OCUM-1    1298358   \n",
      "90999        6094  N-acetyl cysteine     2499         HSC-39    1322224   \n",
      "91000        6095  N-acetyl cysteine     2499        SK-GT-2    1503364   \n",
      "\n",
      "      TCGA Classification                Tissue Tissue Sub-type       IC50  \\\n",
      "0                    ESCA  aero_digestive_tract      oesophagus  -2.555311   \n",
      "1                    ESCA  aero_digestive_tract      oesophagus  -3.125664   \n",
      "2                    ESCA  aero_digestive_tract      oesophagus  -3.536140   \n",
      "3                    ESCA  aero_digestive_tract      oesophagus  -0.402974   \n",
      "4                    ESCA  aero_digestive_tract      oesophagus   0.605862   \n",
      "...                   ...                   ...             ...        ...   \n",
      "90996                STAD      digestive_system         stomach  10.541691   \n",
      "90997                STAD      digestive_system         stomach   9.745149   \n",
      "90998                STAD      digestive_system         stomach  10.959875   \n",
      "90999                STAD      digestive_system         stomach   8.342217   \n",
      "91000                STAD      digestive_system         stomach  10.192296   \n",
      "\n",
      "            AUC  Max Conc      RMSE   Z score Dataset Version  \n",
      "0      0.834076       0.1  0.087242 -0.161952             NaN  \n",
      "1      0.804942       0.1  0.082368 -0.472096             NaN  \n",
      "2      0.778670       0.1  0.087080 -0.695303             NaN  \n",
      "3      0.960632       0.1  0.085004  1.008434             NaN  \n",
      "4      0.944780       0.1  0.053907  1.557014             NaN  \n",
      "...         ...       ...       ...       ...             ...  \n",
      "90996  0.960992    2000.0  0.062524  0.626452           GDSC2  \n",
      "90997  0.916434    2000.0  0.094419 -0.286110           GDSC2  \n",
      "90998  0.967442    2000.0  0.104618  1.105546           GDSC2  \n",
      "90999  0.966459    2000.0  0.129949 -1.893383           GDSC2  \n",
      "91000  0.975615    2000.0  0.021761  0.226166           GDSC2  \n",
      "\n",
      "[91001 rows x 14 columns]>\n"
     ]
    }
   ],
   "source": [
    "import pandas as pd\n",
    "# read the csv file\n",
    "df=pd.read_csv('alldata.csv')\n",
    "print(df.head)"
   ]
  },
  {
   "cell_type": "code",
   "execution_count": 2,
   "metadata": {},
   "outputs": [
    {
     "name": "stdout",
     "output_type": "stream",
     "text": [
      "91001\n"
     ]
    }
   ],
   "source": [
    "#check for null values\n",
    "df.isnull().sum()\n",
    "print(len(list(df['IC50'])))"
   ]
  },
  {
   "cell_type": "code",
   "execution_count": 3,
   "metadata": {},
   "outputs": [
    {
     "name": "stdout",
     "output_type": "stream",
     "text": [
      "['Unnamed: 0', 'Drug Name', 'Drug ID', 'Cell Line Name', 'Cosmic ID', 'TCGA Classification', 'Tissue', 'Tissue Sub-type', 'IC50', 'AUC', 'Max Conc', 'RMSE', 'Z score', 'Dataset Version']\n",
      "91001\n"
     ]
    }
   ],
   "source": [
    "from numpy import array\n",
    "from numpy import argmax\n",
    "from sklearn.preprocessing import LabelEncoder\n",
    "from sklearn.preprocessing import OneHotEncoder\n",
    "column_names=list(df.columns.values)\n",
    "print(column_names)\n",
    "data=df[['Drug Name', 'Cell Line Name', 'Tissue', 'Tissue Sub-type','IC50']]\n",
    "data=data.dropna()\n",
    "print(len(list(data['IC50'])))"
   ]
  },
  {
   "cell_type": "code",
   "execution_count": 4,
   "metadata": {},
   "outputs": [
    {
     "data": {
      "text/plain": [
       "(       Drug Name  Cell Line Name  Tissue  Tissue Sub-type\n",
       " 0             73             853       0               42\n",
       " 1             73             164       0               42\n",
       " 2             73             253       0               42\n",
       " 3             73             379       0               42\n",
       " 4             73             384       0               42\n",
       " ...          ...             ...     ...              ...\n",
       " 90996        174             203       4               50\n",
       " 90997        174             631       4               50\n",
       " 90998        174             644       4               50\n",
       " 90999        174             273       4               50\n",
       " 91000        174             757       4               50\n",
       " \n",
       " [91001 rows x 4 columns],\n",
       "             IC50\n",
       " 0      -2.555311\n",
       " 1      -3.125664\n",
       " 2      -3.536140\n",
       " 3      -0.402974\n",
       " 4       0.605862\n",
       " ...          ...\n",
       " 90996  10.541691\n",
       " 90997   9.745149\n",
       " 90998  10.959875\n",
       " 90999   8.342217\n",
       " 91000  10.192296\n",
       " \n",
       " [91001 rows x 1 columns])"
      ]
     },
     "execution_count": 4,
     "metadata": {},
     "output_type": "execute_result"
    }
   ],
   "source": [
    "from collections import defaultdict\n",
    "d = defaultdict(LabelEncoder)\n",
    "df=data.dropna()\n",
    "# Encoding the variable\n",
    "fit = df.apply(lambda x: d[x.name].fit_transform(x))\n",
    "fit=fit[['Drug Name','Cell Line Name','Tissue','Tissue Sub-type']]\n",
    "X=fit[['Drug Name','Cell Line Name','Tissue','Tissue Sub-type']]\n",
    "Y=data[['IC50']]\n",
    "X,Y"
   ]
  },
  {
   "cell_type": "code",
   "execution_count": 5,
   "metadata": {},
   "outputs": [],
   "source": [
    "#Splitting dataset into training and testing dataset\n",
    "from sklearn.model_selection import train_test_split\n",
    "import numpy as np\n",
    "X_train,X_test,Y_train,Y_test = train_test_split(X,Y,test_size=0.2,random_state=0)"
   ]
  },
  {
   "cell_type": "code",
   "execution_count": 6,
   "metadata": {},
   "outputs": [
    {
     "data": {
      "text/plain": [
       "array([-1.80257327, -1.41593497,  1.55356364, ...,  5.0304007 ,\n",
       "        2.54239184,  2.91726139])"
      ]
     },
     "execution_count": 6,
     "metadata": {},
     "output_type": "execute_result"
    }
   ],
   "source": [
    "D=Y_train[['IC50']]\n",
    "d=np.array(list(Y_train['IC50']))\n",
    "d"
   ]
  },
  {
   "cell_type": "code",
   "execution_count": 29,
   "metadata": {
    "tags": []
   },
   "outputs": [],
   "source": [
    "#Random forest regression to predict IC50 based on the drug name, \n",
    "from sklearn.ensemble import RandomForestRegressor\n",
    "regressor = RandomForestRegressor(n_estimators = 1000, random_state = 0)\n",
    "regressor.fit(X_train, d)  \n",
    "pred=regressor.predict(X_test)"
   ]
  },
  {
   "cell_type": "code",
   "execution_count": 30,
   "metadata": {},
   "outputs": [
    {
     "name": "stdout",
     "output_type": "stream",
     "text": [
      "0.7325508134586167\n"
     ]
    }
   ],
   "source": [
    "print(regressor.score(X_test,Y_test))"
   ]
  },
  {
   "cell_type": "code",
   "execution_count": 31,
   "metadata": {},
   "outputs": [
    {
     "data": {
      "text/plain": [
       "(array([ 4.21450467, -1.25788903,  1.35734044, ...,  3.41185224,\n",
       "         5.44768684,  3.53511919]),\n",
       " array([ 5.80561452, -1.62966712,  1.74246248, ...,  2.27048316,\n",
       "         4.40686894,  4.23467973]))"
      ]
     },
     "execution_count": 31,
     "metadata": {},
     "output_type": "execute_result"
    }
   ],
   "source": [
    "#compare predicted and actual IC50\n",
    "pred,np.array(list(Y_test['IC50']))"
   ]
  },
  {
   "cell_type": "code",
   "execution_count": 14,
   "metadata": {},
   "outputs": [
    {
     "data": {
      "text/plain": [
       "(           IC50\n",
       " 10761  5.805615\n",
       " 15522 -1.629667\n",
       " 918    1.742462\n",
       " 69794  5.492629\n",
       " 44075  5.703251\n",
       " ...         ...\n",
       " 18622  0.060204\n",
       " 83882  2.705581\n",
       " 49765  2.270483\n",
       " 7944   4.406869\n",
       " 86328  4.234680\n",
       " \n",
       " [18201 rows x 1 columns],\n",
       "               0\n",
       " 0      4.208834\n",
       " 1     -1.151270\n",
       " 2      1.342674\n",
       " 3      2.666075\n",
       " 4      4.652400\n",
       " ...         ...\n",
       " 18196  0.576138\n",
       " 18197  3.596389\n",
       " 18198  3.498395\n",
       " 18199  5.501227\n",
       " 18200  3.548837\n",
       " \n",
       " [18201 rows x 1 columns])"
      ]
     },
     "execution_count": 14,
     "metadata": {},
     "output_type": "execute_result"
    }
   ],
   "source": [
    "Y_test,pd.DataFrame(pred)"
   ]
  },
  {
   "cell_type": "code",
   "execution_count": 24,
   "metadata": {},
   "outputs": [],
   "source": [
    "#initializing the artificial neural network\n",
    "import tensorflow as tf\n",
    "from keras.layers import Dense\n",
    "ann=tf.keras.models.Sequential()\n",
    "from keras.layers import Dense\n",
    "#Creating hidden layers\n",
    "ann.add(Dense(units=40,activation=\"relu\"))\n",
    "ann.add(Dense(units=30,activation=\"relu\"))\n",
    "ann.add(Dense(units=20,activation=\"relu\"))\n",
    "ann.add(Dense(units=10,activation=\"relu\"))\n",
    "ann.add(Dense(units=5,activation=\"relu\"))\n",
    "ann.add(Dense(units=1,activation=\"sigmoid\"))#output layer\n",
    "ann.compile(optimizer=tf.keras.optimizers.Adam(learning_rate=0.009),loss=\"mse\",metrics=['mean_absolute_error'])#compile the ANN"
   ]
  },
  {
   "cell_type": "code",
   "execution_count": 25,
   "metadata": {},
   "outputs": [
    {
     "name": "stdout",
     "output_type": "stream",
     "text": [
      "Epoch 1/10\n",
      "1138/1138 [==============================] - 5s 3ms/step - loss: 11.7524 - mean_absolute_error: 2.9475\n",
      "Epoch 2/10\n",
      "1138/1138 [==============================] - 3s 3ms/step - loss: 11.7513 - mean_absolute_error: 2.9473\n",
      "Epoch 3/10\n",
      "1138/1138 [==============================] - 4s 3ms/step - loss: 11.7513 - mean_absolute_error: 2.9473\n",
      "Epoch 4/10\n",
      "1138/1138 [==============================] - 4s 3ms/step - loss: 11.7513 - mean_absolute_error: 2.9473\n",
      "Epoch 5/10\n",
      "1138/1138 [==============================] - 5s 4ms/step - loss: 11.7513 - mean_absolute_error: 2.9473\n",
      "Epoch 6/10\n",
      "1138/1138 [==============================] - 3s 3ms/step - loss: 11.7513 - mean_absolute_error: 2.9473\n",
      "Epoch 7/10\n",
      "1138/1138 [==============================] - 4s 3ms/step - loss: 11.7513 - mean_absolute_error: 2.9473\n",
      "Epoch 8/10\n",
      "1138/1138 [==============================] - 4s 3ms/step - loss: 11.7513 - mean_absolute_error: 2.9473\n",
      "Epoch 9/10\n",
      "1138/1138 [==============================] - 4s 4ms/step - loss: 11.7513 - mean_absolute_error: 2.9473\n",
      "Epoch 10/10\n",
      "1138/1138 [==============================] - 4s 3ms/step - loss: 11.7513 - mean_absolute_error: 2.9473\n"
     ]
    },
    {
     "data": {
      "text/plain": [
       "<keras.callbacks.History at 0x2290dc683d0>"
      ]
     },
     "execution_count": 25,
     "metadata": {},
     "output_type": "execute_result"
    }
   ],
   "source": [
    "#fitting the ANN\n",
    "ann.fit(X_train,d,batch_size=64,epochs = 10)"
   ]
  },
  {
   "cell_type": "code",
   "execution_count": 26,
   "metadata": {},
   "outputs": [
    {
     "name": "stdout",
     "output_type": "stream",
     "text": [
      "569/569 [==============================] - 2s 2ms/step - loss: 11.6857 - mean_absolute_error: 2.9426\n",
      "[11.685698509216309, 2.9425768852233887]\n"
     ]
    }
   ],
   "source": [
    "print(ann.evaluate(X_test,Y_test))\n"
   ]
  },
  {
   "cell_type": "code",
   "execution_count": 28,
   "metadata": {},
   "outputs": [
    {
     "name": "stdout",
     "output_type": "stream",
     "text": [
      "569/569 [==============================] - 1s 2ms/step\n",
      "         0\n",
      "0      1.0\n",
      "1      1.0\n",
      "2      1.0\n",
      "3      1.0\n",
      "4      1.0\n",
      "...    ...\n",
      "18196  1.0\n",
      "18197  1.0\n",
      "18198  1.0\n",
      "18199  1.0\n",
      "18200  1.0\n",
      "\n",
      "[18201 rows x 1 columns]\n"
     ]
    }
   ],
   "source": [
    "pred=pd.DataFrame(ann.predict(X_test))\n",
    "print(pred)"
   ]
  }
 ],
 "metadata": {
  "kernelspec": {
   "display_name": "Python 3.10.7 64-bit",
   "language": "python",
   "name": "python3"
  },
  "language_info": {
   "codemirror_mode": {
    "name": "ipython",
    "version": 3
   },
   "file_extension": ".py",
   "mimetype": "text/x-python",
   "name": "python",
   "nbconvert_exporter": "python",
   "pygments_lexer": "ipython3",
   "version": "3.10.7"
  },
  "orig_nbformat": 4,
  "vscode": {
   "interpreter": {
    "hash": "369f2c481f4da34e4445cda3fffd2e751bd1c4d706f27375911949ba6bb62e1c"
   }
  }
 },
 "nbformat": 4,
 "nbformat_minor": 2
}
