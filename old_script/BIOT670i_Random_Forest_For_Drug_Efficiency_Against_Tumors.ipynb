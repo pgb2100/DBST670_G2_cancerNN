{
  "cells": [
    {
      "cell_type": "markdown",
      "source": [
        "Random forest is an excellent technique that uses an ensemble learning method for both classification and regression with trees in the random forest running in parallel (Implementing Random Forest Regression in Python: An Introduction | Built In, n.d.) This means there is no interaction between the trees while building the trees. Ensemble methods combine several models to produce one with higher accuracy (Ensemble Methods in Machine Learning: What Are They and Why Use Them? | by Evan Lutins | Towards Data Science, n.d.). It is for this reason that the random forest classifier is chosen. We could apply multiple datasets to the random forest program, which predicted much greater than the artificial nerual network in python. "
      ],
      "metadata": {
        "id": "8HHXWKK9k54V"
      },
      "id": "8HHXWKK9k54V"
    },
    {
      "cell_type": "code",
      "execution_count": 71,
      "id": "3e6b2b9d",
      "metadata": {
        "id": "3e6b2b9d"
      },
      "outputs": [],
      "source": [
        "# Importing libraries\n",
        "import numpy as np\n",
        "import pandas as pd\n",
        "from scipy.stats import mode\n",
        "import matplotlib.pyplot as plt\n",
        "import seaborn as sns\n",
        "from sklearn.preprocessing import LabelEncoder\n",
        "from sklearn.model_selection import train_test_split, cross_val_score\n",
        "from sklearn.svm import SVC\n",
        "from sklearn.naive_bayes import GaussianNB\n",
        "from sklearn.ensemble import RandomForestClassifier\n",
        "from sklearn.metrics import accuracy_score, confusion_matrix\n",
        "%matplotlib inline"
      ]
    },
    {
      "cell_type": "code",
      "execution_count": 72,
      "id": "1e8a2076",
      "metadata": {
        "colab": {
          "base_uri": "https://localhost:8080/",
          "height": 459
        },
        "id": "1e8a2076",
        "outputId": "132aeff1-e2be-4b2d-a908-403558abb552"
      },
      "outputs": [
        {
          "output_type": "stream",
          "name": "stderr",
          "text": [
            "/var/folders/d9/f8xx3ggn7y5f7tr2jyd4nkk80000gp/T/ipykernel_74661/742776680.py:1: DtypeWarning: Columns (8003) have mixed types. Specify dtype option on import or set low_memory=False.\n",
            "  data=pd.read_csv('/Users/Albert3/Downloads/M_LUAD_cancer_expression.csv')\n"
          ]
        },
        {
          "output_type": "execute_result",
          "data": {
            "text/plain": [
              "               Drug Name Cell Line Name Tissue            Tissue Sub-type  \\\n",
              "0              Erlotinib      NCI-H1648   lung  lung_NSCLC_adenocarcinoma   \n",
              "1              Erlotinib      NCI-H1650   lung  lung_NSCLC_adenocarcinoma   \n",
              "2              Erlotinib      NCI-H1838   lung  lung_NSCLC_adenocarcinoma   \n",
              "3              Erlotinib         Calu-6   lung  lung_NSCLC_adenocarcinoma   \n",
              "4              Erlotinib      NCI-H1355   lung  lung_NSCLC_adenocarcinoma   \n",
              "...                  ...            ...    ...                        ...   \n",
              "37299  N-acetyl cysteine      NCI-H1435   lung  lung_NSCLC_adenocarcinoma   \n",
              "37300  N-acetyl cysteine      NCI-H1568   lung  lung_NSCLC_adenocarcinoma   \n",
              "37301  N-acetyl cysteine      NCI-H1781   lung  lung_NSCLC_adenocarcinoma   \n",
              "37302  N-acetyl cysteine     RERF-LC-KJ   lung  lung_NSCLC_adenocarcinoma   \n",
              "37303  N-acetyl cysteine      EMC-BAC-2   lung  lung_NSCLC_adenocarcinoma   \n",
              "\n",
              "            IC50  \n",
              "0      -3.130315  \n",
              "1       3.661843  \n",
              "2       2.322838  \n",
              "3       3.009075  \n",
              "4       0.954770  \n",
              "...          ...  \n",
              "37299   8.507421  \n",
              "37300  11.118324  \n",
              "37301  10.132069  \n",
              "37302   8.763763  \n",
              "37303  10.539892  \n",
              "\n",
              "[37304 rows x 5 columns]"
            ],
            "text/html": [
              "<div>\n",
              "<style scoped>\n",
              "    .dataframe tbody tr th:only-of-type {\n",
              "        vertical-align: middle;\n",
              "    }\n",
              "\n",
              "    .dataframe tbody tr th {\n",
              "        vertical-align: top;\n",
              "    }\n",
              "\n",
              "    .dataframe thead th {\n",
              "        text-align: right;\n",
              "    }\n",
              "</style>\n",
              "<table border=\"1\" class=\"dataframe\">\n",
              "  <thead>\n",
              "    <tr style=\"text-align: right;\">\n",
              "      <th></th>\n",
              "      <th>Drug Name</th>\n",
              "      <th>Cell Line Name</th>\n",
              "      <th>Tissue</th>\n",
              "      <th>Tissue Sub-type</th>\n",
              "      <th>IC50</th>\n",
              "    </tr>\n",
              "  </thead>\n",
              "  <tbody>\n",
              "    <tr>\n",
              "      <th>0</th>\n",
              "      <td>Erlotinib</td>\n",
              "      <td>NCI-H1648</td>\n",
              "      <td>lung</td>\n",
              "      <td>lung_NSCLC_adenocarcinoma</td>\n",
              "      <td>-3.130315</td>\n",
              "    </tr>\n",
              "    <tr>\n",
              "      <th>1</th>\n",
              "      <td>Erlotinib</td>\n",
              "      <td>NCI-H1650</td>\n",
              "      <td>lung</td>\n",
              "      <td>lung_NSCLC_adenocarcinoma</td>\n",
              "      <td>3.661843</td>\n",
              "    </tr>\n",
              "    <tr>\n",
              "      <th>2</th>\n",
              "      <td>Erlotinib</td>\n",
              "      <td>NCI-H1838</td>\n",
              "      <td>lung</td>\n",
              "      <td>lung_NSCLC_adenocarcinoma</td>\n",
              "      <td>2.322838</td>\n",
              "    </tr>\n",
              "    <tr>\n",
              "      <th>3</th>\n",
              "      <td>Erlotinib</td>\n",
              "      <td>Calu-6</td>\n",
              "      <td>lung</td>\n",
              "      <td>lung_NSCLC_adenocarcinoma</td>\n",
              "      <td>3.009075</td>\n",
              "    </tr>\n",
              "    <tr>\n",
              "      <th>4</th>\n",
              "      <td>Erlotinib</td>\n",
              "      <td>NCI-H1355</td>\n",
              "      <td>lung</td>\n",
              "      <td>lung_NSCLC_adenocarcinoma</td>\n",
              "      <td>0.954770</td>\n",
              "    </tr>\n",
              "    <tr>\n",
              "      <th>...</th>\n",
              "      <td>...</td>\n",
              "      <td>...</td>\n",
              "      <td>...</td>\n",
              "      <td>...</td>\n",
              "      <td>...</td>\n",
              "    </tr>\n",
              "    <tr>\n",
              "      <th>37299</th>\n",
              "      <td>N-acetyl cysteine</td>\n",
              "      <td>NCI-H1435</td>\n",
              "      <td>lung</td>\n",
              "      <td>lung_NSCLC_adenocarcinoma</td>\n",
              "      <td>8.507421</td>\n",
              "    </tr>\n",
              "    <tr>\n",
              "      <th>37300</th>\n",
              "      <td>N-acetyl cysteine</td>\n",
              "      <td>NCI-H1568</td>\n",
              "      <td>lung</td>\n",
              "      <td>lung_NSCLC_adenocarcinoma</td>\n",
              "      <td>11.118324</td>\n",
              "    </tr>\n",
              "    <tr>\n",
              "      <th>37301</th>\n",
              "      <td>N-acetyl cysteine</td>\n",
              "      <td>NCI-H1781</td>\n",
              "      <td>lung</td>\n",
              "      <td>lung_NSCLC_adenocarcinoma</td>\n",
              "      <td>10.132069</td>\n",
              "    </tr>\n",
              "    <tr>\n",
              "      <th>37302</th>\n",
              "      <td>N-acetyl cysteine</td>\n",
              "      <td>RERF-LC-KJ</td>\n",
              "      <td>lung</td>\n",
              "      <td>lung_NSCLC_adenocarcinoma</td>\n",
              "      <td>8.763763</td>\n",
              "    </tr>\n",
              "    <tr>\n",
              "      <th>37303</th>\n",
              "      <td>N-acetyl cysteine</td>\n",
              "      <td>EMC-BAC-2</td>\n",
              "      <td>lung</td>\n",
              "      <td>lung_NSCLC_adenocarcinoma</td>\n",
              "      <td>10.539892</td>\n",
              "    </tr>\n",
              "  </tbody>\n",
              "</table>\n",
              "<p>37304 rows × 5 columns</p>\n",
              "</div>"
            ]
          },
          "metadata": {},
          "execution_count": 72
        }
      ],
      "source": [
        "data=pd.read_csv('/Users/Albert3/Downloads/M_LUAD_cancer_expression.csv')\n",
        "df=data[['Drug Name','Cell Line Name','Tissue','Tissue Sub-type','IC50']]\n",
        "df"
      ]
    },
    {
      "cell_type": "code",
      "execution_count": 74,
      "id": "5eb6b495",
      "metadata": {
        "colab": {
          "base_uri": "https://localhost:8080/",
          "height": 424
        },
        "id": "5eb6b495",
        "outputId": "279d0807-0dfa-4e05-cfdd-c3766b399d05"
      },
      "outputs": [
        {
          "output_type": "execute_result",
          "data": {
            "text/plain": [
              "       Drug Name  Cell Line Name  Tissue  Tissue Sub-type       IC50\n",
              "0            183              22       0                0  -3.130315\n",
              "1            183              23       0                0   3.661843\n",
              "2            183              32       0                0   2.322838\n",
              "3            183               4       0                0   3.009075\n",
              "4            183              15       0                0   0.954770\n",
              "...          ...             ...     ...              ...        ...\n",
              "37299        323              16       0                0   8.507421\n",
              "37300        323              19       0                0  11.118324\n",
              "37301        323              29       0                0  10.132069\n",
              "37302        323              57       0                0   8.763763\n",
              "37303        323               7       0                0  10.539892\n",
              "\n",
              "[37304 rows x 5 columns]"
            ],
            "text/html": [
              "<div>\n",
              "<style scoped>\n",
              "    .dataframe tbody tr th:only-of-type {\n",
              "        vertical-align: middle;\n",
              "    }\n",
              "\n",
              "    .dataframe tbody tr th {\n",
              "        vertical-align: top;\n",
              "    }\n",
              "\n",
              "    .dataframe thead th {\n",
              "        text-align: right;\n",
              "    }\n",
              "</style>\n",
              "<table border=\"1\" class=\"dataframe\">\n",
              "  <thead>\n",
              "    <tr style=\"text-align: right;\">\n",
              "      <th></th>\n",
              "      <th>Drug Name</th>\n",
              "      <th>Cell Line Name</th>\n",
              "      <th>Tissue</th>\n",
              "      <th>Tissue Sub-type</th>\n",
              "      <th>IC50</th>\n",
              "    </tr>\n",
              "  </thead>\n",
              "  <tbody>\n",
              "    <tr>\n",
              "      <th>0</th>\n",
              "      <td>183</td>\n",
              "      <td>22</td>\n",
              "      <td>0</td>\n",
              "      <td>0</td>\n",
              "      <td>-3.130315</td>\n",
              "    </tr>\n",
              "    <tr>\n",
              "      <th>1</th>\n",
              "      <td>183</td>\n",
              "      <td>23</td>\n",
              "      <td>0</td>\n",
              "      <td>0</td>\n",
              "      <td>3.661843</td>\n",
              "    </tr>\n",
              "    <tr>\n",
              "      <th>2</th>\n",
              "      <td>183</td>\n",
              "      <td>32</td>\n",
              "      <td>0</td>\n",
              "      <td>0</td>\n",
              "      <td>2.322838</td>\n",
              "    </tr>\n",
              "    <tr>\n",
              "      <th>3</th>\n",
              "      <td>183</td>\n",
              "      <td>4</td>\n",
              "      <td>0</td>\n",
              "      <td>0</td>\n",
              "      <td>3.009075</td>\n",
              "    </tr>\n",
              "    <tr>\n",
              "      <th>4</th>\n",
              "      <td>183</td>\n",
              "      <td>15</td>\n",
              "      <td>0</td>\n",
              "      <td>0</td>\n",
              "      <td>0.954770</td>\n",
              "    </tr>\n",
              "    <tr>\n",
              "      <th>...</th>\n",
              "      <td>...</td>\n",
              "      <td>...</td>\n",
              "      <td>...</td>\n",
              "      <td>...</td>\n",
              "      <td>...</td>\n",
              "    </tr>\n",
              "    <tr>\n",
              "      <th>37299</th>\n",
              "      <td>323</td>\n",
              "      <td>16</td>\n",
              "      <td>0</td>\n",
              "      <td>0</td>\n",
              "      <td>8.507421</td>\n",
              "    </tr>\n",
              "    <tr>\n",
              "      <th>37300</th>\n",
              "      <td>323</td>\n",
              "      <td>19</td>\n",
              "      <td>0</td>\n",
              "      <td>0</td>\n",
              "      <td>11.118324</td>\n",
              "    </tr>\n",
              "    <tr>\n",
              "      <th>37301</th>\n",
              "      <td>323</td>\n",
              "      <td>29</td>\n",
              "      <td>0</td>\n",
              "      <td>0</td>\n",
              "      <td>10.132069</td>\n",
              "    </tr>\n",
              "    <tr>\n",
              "      <th>37302</th>\n",
              "      <td>323</td>\n",
              "      <td>57</td>\n",
              "      <td>0</td>\n",
              "      <td>0</td>\n",
              "      <td>8.763763</td>\n",
              "    </tr>\n",
              "    <tr>\n",
              "      <th>37303</th>\n",
              "      <td>323</td>\n",
              "      <td>7</td>\n",
              "      <td>0</td>\n",
              "      <td>0</td>\n",
              "      <td>10.539892</td>\n",
              "    </tr>\n",
              "  </tbody>\n",
              "</table>\n",
              "<p>37304 rows × 5 columns</p>\n",
              "</div>"
            ]
          },
          "metadata": {},
          "execution_count": 74
        }
      ],
      "source": [
        "encoder = LabelEncoder()\n",
        "dframe=pd.DataFrame()\n",
        "dframe[\"Drug Name\"] = encoder.fit_transform(df[\"Drug Name\"])\n",
        "dframe[\"Cell Line Name\"] = encoder.fit_transform(df[\"Cell Line Name\"])\n",
        "dframe[\"Tissue\"] = encoder.fit_transform(df[\"Tissue\"])\n",
        "dframe[\"Tissue Sub-type\"] = encoder.fit_transform(df[\"Tissue Sub-type\"])\n",
        "dframe['IC50']=df['IC50']\n",
        "dframe"
      ]
    },
    {
      "cell_type": "code",
      "execution_count": 75,
      "id": "6f148f3e",
      "metadata": {
        "colab": {
          "base_uri": "https://localhost:8080/",
          "height": 206
        },
        "id": "6f148f3e",
        "outputId": "380f61fb-b8a4-477f-cb41-bd3eb2f54117"
      },
      "outputs": [
        {
          "output_type": "execute_result",
          "data": {
            "text/plain": [
              "                 Drug Name  Cell Line Name  Tissue  Tissue Sub-type      IC50\n",
              "Drug Name         1.000000        0.000661     NaN              NaN  0.022032\n",
              "Cell Line Name    0.000661        1.000000     NaN              NaN  0.039694\n",
              "Tissue                 NaN             NaN     NaN              NaN       NaN\n",
              "Tissue Sub-type        NaN             NaN     NaN              NaN       NaN\n",
              "IC50              0.022032        0.039694     NaN              NaN  1.000000"
            ],
            "text/html": [
              "<div>\n",
              "<style scoped>\n",
              "    .dataframe tbody tr th:only-of-type {\n",
              "        vertical-align: middle;\n",
              "    }\n",
              "\n",
              "    .dataframe tbody tr th {\n",
              "        vertical-align: top;\n",
              "    }\n",
              "\n",
              "    .dataframe thead th {\n",
              "        text-align: right;\n",
              "    }\n",
              "</style>\n",
              "<table border=\"1\" class=\"dataframe\">\n",
              "  <thead>\n",
              "    <tr style=\"text-align: right;\">\n",
              "      <th></th>\n",
              "      <th>Drug Name</th>\n",
              "      <th>Cell Line Name</th>\n",
              "      <th>Tissue</th>\n",
              "      <th>Tissue Sub-type</th>\n",
              "      <th>IC50</th>\n",
              "    </tr>\n",
              "  </thead>\n",
              "  <tbody>\n",
              "    <tr>\n",
              "      <th>Drug Name</th>\n",
              "      <td>1.000000</td>\n",
              "      <td>0.000661</td>\n",
              "      <td>NaN</td>\n",
              "      <td>NaN</td>\n",
              "      <td>0.022032</td>\n",
              "    </tr>\n",
              "    <tr>\n",
              "      <th>Cell Line Name</th>\n",
              "      <td>0.000661</td>\n",
              "      <td>1.000000</td>\n",
              "      <td>NaN</td>\n",
              "      <td>NaN</td>\n",
              "      <td>0.039694</td>\n",
              "    </tr>\n",
              "    <tr>\n",
              "      <th>Tissue</th>\n",
              "      <td>NaN</td>\n",
              "      <td>NaN</td>\n",
              "      <td>NaN</td>\n",
              "      <td>NaN</td>\n",
              "      <td>NaN</td>\n",
              "    </tr>\n",
              "    <tr>\n",
              "      <th>Tissue Sub-type</th>\n",
              "      <td>NaN</td>\n",
              "      <td>NaN</td>\n",
              "      <td>NaN</td>\n",
              "      <td>NaN</td>\n",
              "      <td>NaN</td>\n",
              "    </tr>\n",
              "    <tr>\n",
              "      <th>IC50</th>\n",
              "      <td>0.022032</td>\n",
              "      <td>0.039694</td>\n",
              "      <td>NaN</td>\n",
              "      <td>NaN</td>\n",
              "      <td>1.000000</td>\n",
              "    </tr>\n",
              "  </tbody>\n",
              "</table>\n",
              "</div>"
            ]
          },
          "metadata": {},
          "execution_count": 75
        }
      ],
      "source": [
        "# get the correlation matrix\n",
        "dframe.corr()"
      ]
    },
    {
      "cell_type": "code",
      "execution_count": 76,
      "id": "3ae0473f",
      "metadata": {
        "colab": {
          "base_uri": "https://localhost:8080/",
          "height": 610
        },
        "id": "3ae0473f",
        "outputId": "af4ad951-9419-44ae-ecb9-5d3da8dda59f"
      },
      "outputs": [
        {
          "output_type": "execute_result",
          "data": {
            "text/plain": [
              "<pandas.plotting._core.PlotAccessor object at 0x7f7fc20fee50>"
            ]
          },
          "metadata": {},
          "execution_count": 76
        },
        {
          "output_type": "display_data",
          "data": {
            "text/plain": [
              "<Figure size 720x720 with 1 Axes>"
            ],
            "image/png": "[encoded data removed]"
          },
          "metadata": {
            "needs_background": "light"
          }
        }
      ],
      "source": [
        "#plot histogram for the data\n",
        "plt.figure(figsize=(10,10))\n",
        "dframe['Drug Name'].plot(kind='hist',color=\"green\")\n",
        "dframe['Tissue'].plot(kind='hist',color=\"yellow\")\n",
        "dframe['Tissue Sub-type'].plot(kind='hist',color=\"orange\")\n",
        "dframe['IC50'].plot(kind='hist',color='purple')\n",
        "dframe['Cell Line Name'].plot"
      ]
    },
    {
      "cell_type": "code",
      "execution_count": 77,
      "id": "e1e4a2d1",
      "metadata": {
        "colab": {
          "base_uri": "https://localhost:8080/",
          "height": 283
        },
        "id": "e1e4a2d1",
        "outputId": "4afbba0d-54d7-4599-ef04-4b40463d9067"
      },
      "outputs": [
        {
          "output_type": "execute_result",
          "data": {
            "text/plain": [
              "<matplotlib.collections.PathCollection at 0x7f79cc0fcc10>"
            ]
          },
          "metadata": {},
          "execution_count": 77
        },
        {
          "output_type": "display_data",
          "data": {
            "text/plain": [
              "<Figure size 432x288 with 1 Axes>"
            ],
            "image/png": "[encoded data removed]"
          },
          "metadata": {
            "needs_background": "light"
          }
        }
      ],
      "source": [
        "# plot a scatter plot\n",
        "import matplotlib.pyplot as plt\n",
        "\n",
        "plt.scatter(x=dframe['Tissue Sub-type'],y=dframe['Drug Name'])\n",
        "plt.scatter(x=dframe['Tissue'],y=dframe['Drug Name'])\n",
        "plt.scatter(x=dframe['Cell Line Name'],y=dframe['Drug Name'])\n",
        "plt.scatter(x=dframe['Drug Name'],y=dframe['Drug Name'])\n",
        "plt.scatter(x=dframe['Tissue Sub-type'],y=dframe['Drug Name'])\n",
        "\n"
      ]
    },
    {
      "cell_type": "code",
      "source": [
        "#plot a heatmap\n",
        "\n",
        "dataframe= np.random.rand( 10 , 10 )\n",
        "ax = sns.heatmap( dataframe , linewidth = 1.5 , cmap = 'coolwarm' )\n",
        "  \n",
        "plt.title( \"Random Forest For Drug Efficiency Against Tumors\" )\n",
        "plt.show()\n"
      ],
      "metadata": {
        "colab": {
          "base_uri": "https://localhost:8080/",
          "height": 281
        },
        "id": "dnWzfOmwudTx",
        "outputId": "85636b9e-8a67-4c50-d8f7-ae726c2f6954"
      },
      "id": "dnWzfOmwudTx",
      "execution_count": 78,
      "outputs": [
        {
          "output_type": "display_data",
          "data": {
            "text/plain": [
              "<Figure size 432x288 with 2 Axes>"
            ],
            "image/png": "[encoded data removed]"
          },
          "metadata": {
            "needs_background": "light"
          }
        }
      ]
    },
    {
      "cell_type": "code",
      "execution_count": 79,
      "id": "7c6fd33a",
      "metadata": {
        "id": "7c6fd33a"
      },
      "outputs": [],
      "source": [
        "#X and Y\n",
        "X=dframe[['Cell Line Name','Tissue','Tissue Sub-type','IC50']]\n",
        "Y=dframe[['Drug Name']]"
      ]
    },
    {
      "cell_type": "code",
      "execution_count": 80,
      "id": "4cfba476",
      "metadata": {
        "colab": {
          "base_uri": "https://localhost:8080/"
        },
        "id": "4cfba476",
        "outputId": "5175f92b-14bb-4010-f655-31afaa133f5a"
      },
      "outputs": [
        {
          "output_type": "execute_result",
          "data": {
            "text/plain": [
              "array([[-0.45660762,  0.        ,  0.        , -2.22711287],\n",
              "       [-0.40068192,  0.        ,  0.        ,  0.31373664],\n",
              "       [ 0.10264939,  0.        ,  0.        , -0.18716609],\n",
              "       ...,\n",
              "       [-0.06512772,  0.        ,  0.        ,  2.7341564 ],\n",
              "       [ 1.50079191,  0.        ,  0.        ,  2.22229235],\n",
              "       [-1.29549313,  0.        ,  0.        ,  2.88671701]])"
            ]
          },
          "metadata": {},
          "execution_count": 80
        }
      ],
      "source": [
        "#scaling\n",
        "from sklearn.preprocessing import StandardScaler\n",
        "scaler=StandardScaler()\n",
        "X=scaler.fit_transform(X)\n",
        "X"
      ]
    },
    {
      "cell_type": "code",
      "execution_count": 81,
      "id": "81a95e0d",
      "metadata": {
        "colab": {
          "base_uri": "https://localhost:8080/"
        },
        "id": "81a95e0d",
        "outputId": "70320c56-3721-4316-f5c8-cdcc55e1efd9"
      },
      "outputs": [
        {
          "output_type": "stream",
          "name": "stdout",
          "text": [
            "Train: (33573, 4), (33573, 1)\n",
            "Test: (3731, 4), (3731, 1)\n"
          ]
        }
      ],
      "source": [
        "#Split the dataset\n",
        "X_train, X_test, y_train, y_test =train_test_split(X, Y, test_size = 0.1, random_state = 24)\n",
        "print(f\"Train: {X_train.shape}, {y_train.shape}\")\n",
        "print(f\"Test: {X_test.shape}, {y_test.shape}\")"
      ]
    },
    {
      "cell_type": "code",
      "execution_count": 82,
      "id": "dbec2750",
      "metadata": {
        "colab": {
          "base_uri": "https://localhost:8080/",
          "height": 130
        },
        "id": "dbec2750",
        "outputId": "7a329948-b0c6-488d-c97d-894438ee15dc"
      },
      "outputs": [
        {
          "output_type": "stream",
          "name": "stderr",
          "text": [
            "/var/folders/d9/f8xx3ggn7y5f7tr2jyd4nkk80000gp/T/ipykernel_74661/638098497.py:3: DataConversionWarning: A column-vector y was passed when a 1d array was expected. Please change the shape of y to (n_samples,), for example using ravel().\n",
            "  rf_model.fit(X, Y)\n"
          ]
        },
        {
          "output_type": "execute_result",
          "data": {
            "text/plain": [
              "RandomForestClassifier(random_state=18)"
            ],
            "text/html": [
              "<style>#sk-container-id-4 {color: black;background-color: white;}#sk-container-id-4 pre{padding: 0;}#sk-container-id-4 div.sk-toggleable {background-color: white;}#sk-container-id-4 label.sk-toggleable__label {cursor: pointer;display: block;width: 100%;margin-bottom: 0;padding: 0.3em;box-sizing: border-box;text-align: center;}#sk-container-id-4 label.sk-toggleable__label-arrow:before {content: \"▸\";float: left;margin-right: 0.25em;color: #696969;}#sk-container-id-4 label.sk-toggleable__label-arrow:hover:before {color: black;}#sk-container-id-4 div.sk-estimator:hover label.sk-toggleable__label-arrow:before {color: black;}#sk-container-id-4 div.sk-toggleable__content {max-height: 0;max-width: 0;overflow: hidden;text-align: left;background-color: #f0f8ff;}#sk-container-id-4 div.sk-toggleable__content pre {margin: 0.2em;color: black;border-radius: 0.25em;background-color: #f0f8ff;}#sk-container-id-4 input.sk-toggleable__control:checked~div.sk-toggleable__content {max-height: 200px;max-width: 100%;overflow: auto;}#sk-container-id-4 input.sk-toggleable__control:checked~label.sk-toggleable__label-arrow:before {content: \"▾\";}#sk-container-id-4 div.sk-estimator input.sk-toggleable__control:checked~label.sk-toggleable__label {background-color: #d4ebff;}#sk-container-id-4 div.sk-label input.sk-toggleable__control:checked~label.sk-toggleable__label {background-color: #d4ebff;}#sk-container-id-4 input.sk-hidden--visually {border: 0;clip: rect(1px 1px 1px 1px);clip: rect(1px, 1px, 1px, 1px);height: 1px;margin: -1px;overflow: hidden;padding: 0;position: absolute;width: 1px;}#sk-container-id-4 div.sk-estimator {font-family: monospace;background-color: #f0f8ff;border: 1px dotted black;border-radius: 0.25em;box-sizing: border-box;margin-bottom: 0.5em;}#sk-container-id-4 div.sk-estimator:hover {background-color: #d4ebff;}#sk-container-id-4 div.sk-parallel-item::after {content: \"\";width: 100%;border-bottom: 1px solid gray;flex-grow: 1;}#sk-container-id-4 div.sk-label:hover label.sk-toggleable__label {background-color: #d4ebff;}#sk-container-id-4 div.sk-serial::before {content: \"\";position: absolute;border-left: 1px solid gray;box-sizing: border-box;top: 0;bottom: 0;left: 50%;z-index: 0;}#sk-container-id-4 div.sk-serial {display: flex;flex-direction: column;align-items: center;background-color: white;padding-right: 0.2em;padding-left: 0.2em;position: relative;}#sk-container-id-4 div.sk-item {position: relative;z-index: 1;}#sk-container-id-4 div.sk-parallel {display: flex;align-items: stretch;justify-content: center;background-color: white;position: relative;}#sk-container-id-4 div.sk-item::before, #sk-container-id-4 div.sk-parallel-item::before {content: \"\";position: absolute;border-left: 1px solid gray;box-sizing: border-box;top: 0;bottom: 0;left: 50%;z-index: -1;}#sk-container-id-4 div.sk-parallel-item {display: flex;flex-direction: column;z-index: 1;position: relative;background-color: white;}#sk-container-id-4 div.sk-parallel-item:first-child::after {align-self: flex-end;width: 50%;}#sk-container-id-4 div.sk-parallel-item:last-child::after {align-self: flex-start;width: 50%;}#sk-container-id-4 div.sk-parallel-item:only-child::after {width: 0;}#sk-container-id-4 div.sk-dashed-wrapped {border: 1px dashed gray;margin: 0 0.4em 0.5em 0.4em;box-sizing: border-box;padding-bottom: 0.4em;background-color: white;}#sk-container-id-4 div.sk-label label {font-family: monospace;font-weight: bold;display: inline-block;line-height: 1.2em;}#sk-container-id-4 div.sk-label-container {text-align: center;}#sk-container-id-4 div.sk-container {/* jupyter's `normalize.less` sets `[hidden] { display: none; }` but bootstrap.min.css set `[hidden] { display: none !important; }` so we also need the `!important` here to be able to override the default hidden behavior on the sphinx rendered scikit-learn.org. See: https://github.com/scikit-learn/scikit-learn/issues/21755 */display: inline-block !important;position: relative;}#sk-container-id-4 div.sk-text-repr-fallback {display: none;}</style><div id=\"sk-container-id-4\" class=\"sk-top-container\"><div class=\"sk-text-repr-fallback\"><pre>RandomForestClassifier(random_state=18)</pre><b>In a Jupyter environment, please rerun this cell to show the HTML representation or trust the notebook. <br />On GitHub, the HTML representation is unable to render, please try loading this page with nbviewer.org.</b></div><div class=\"sk-container\" hidden><div class=\"sk-item\"><div class=\"sk-estimator sk-toggleable\"><input class=\"sk-toggleable__control sk-hidden--visually\" id=\"sk-estimator-id-4\" type=\"checkbox\" checked><label for=\"sk-estimator-id-4\" class=\"sk-toggleable__label sk-toggleable__label-arrow\">RandomForestClassifier</label><div class=\"sk-toggleable__content\"><pre>RandomForestClassifier(random_state=18)</pre></div></div></div></div></div>"
            ]
          },
          "metadata": {},
          "execution_count": 82
        }
      ],
      "source": [
        "# Training and testing Random Forest Classifier\n",
        "rf_model = RandomForestClassifier(random_state=18)\n",
        "rf_model.fit(X, Y)"
      ]
    },
    {
      "cell_type": "code",
      "execution_count": 83,
      "id": "7c876983",
      "metadata": {
        "colab": {
          "base_uri": "https://localhost:8080/"
        },
        "id": "7c876983",
        "outputId": "05f3fa7d-f0b3-4305-b824-97c6ba8cd9c3"
      },
      "outputs": [
        {
          "output_type": "execute_result",
          "data": {
            "text/plain": [
              "array([420, 194, 533, ..., 164, 490,  72])"
            ]
          },
          "metadata": {},
          "execution_count": 83
        }
      ],
      "source": [
        "preds = rf_model.predict(X_test)\n",
        "preds"
      ]
    },
    {
      "cell_type": "code",
      "execution_count": 84,
      "id": "bc68d75b",
      "metadata": {
        "colab": {
          "base_uri": "https://localhost:8080/"
        },
        "id": "bc68d75b",
        "outputId": "08ce9354-47ba-453e-bd89-29479be7b8a0"
      },
      "outputs": [
        {
          "output_type": "stream",
          "name": "stderr",
          "text": [
            "/Users/Albert3/miniconda3/lib/python3.9/site-packages/sklearn/base.py:450: UserWarning: X does not have valid feature names, but StandardScaler was fitted with feature names\n",
            "  warnings.warn(\n"
          ]
        },
        {
          "output_type": "execute_result",
          "data": {
            "text/plain": [
              "array([[ 9.66594423,  4.        , 50.        ,  2.88738999]])"
            ]
          },
          "metadata": {},
          "execution_count": 84
        }
      ],
      "source": [
        "#predict a specific value\n",
        "scaled_x=scaler.transform([[203,4,50,10.541691]])\n",
        "scaled_x"
      ]
    },
    {
      "cell_type": "code",
      "execution_count": 86,
      "id": "39edc3cc",
      "metadata": {
        "id": "39edc3cc"
      },
      "outputs": [],
      "source": [
        "predicted=rf_model.predict([scaled_x[0]])"
      ]
    },
    {
      "cell_type": "code",
      "execution_count": 87,
      "id": "3d5bdfc2",
      "metadata": {
        "colab": {
          "base_uri": "https://localhost:8080/"
        },
        "id": "3d5bdfc2",
        "outputId": "5b8f347e-de1b-436a-c7e0-3236bd8aa5a1"
      },
      "outputs": [
        {
          "output_type": "execute_result",
          "data": {
            "text/plain": [
              "array([323])"
            ]
          },
          "metadata": {},
          "execution_count": 87
        }
      ],
      "source": [
        "predicted"
      ]
    },
    {
      "cell_type": "code",
      "execution_count": 88,
      "id": "317a3cc8",
      "metadata": {
        "colab": {
          "base_uri": "https://localhost:8080/"
        },
        "id": "317a3cc8",
        "outputId": "5fd7d168-98e0-41ce-db4f-965269372336"
      },
      "outputs": [
        {
          "output_type": "stream",
          "name": "stdout",
          "text": [
            "Accuracy on train data by Random Forest Classifier: 99.11536055759093\n"
          ]
        }
      ],
      "source": [
        "print(f\"Accuracy on train data by Random Forest Classifier\\\n",
        ": {accuracy_score(y_train, rf_model.predict(X_train))*100}\")"
      ]
    },
    {
      "cell_type": "code",
      "execution_count": 89,
      "id": "72a6a96a",
      "metadata": {
        "colab": {
          "base_uri": "https://localhost:8080/"
        },
        "id": "72a6a96a",
        "outputId": "bff1c0a0-54cf-43be-8139-701a12107439"
      },
      "outputs": [
        {
          "output_type": "stream",
          "name": "stdout",
          "text": [
            "Accuracy on test data by Random Forest Classifier: 99.03511123023318\n"
          ]
        }
      ],
      "source": [
        "print(f\"Accuracy on test data by Random Forest Classifier\\\n",
        ": {accuracy_score(y_test, preds)*100}\")"
      ]
    },
    {
      "cell_type": "code",
      "execution_count": 90,
      "id": "37888b7e",
      "metadata": {
        "id": "37888b7e",
        "colab": {
          "base_uri": "https://localhost:8080/"
        },
        "outputId": "1d7c7827-6b24-4e11-f8b7-443214853c9b"
      },
      "outputs": [
        {
          "output_type": "execute_result",
          "data": {
            "text/plain": [
              "['/Users/Albert3/Downloads/M_luad.joblib']"
            ]
          },
          "metadata": {},
          "execution_count": 90
        }
      ],
      "source": [
        "#Save the classifier\n",
        "import joblib\n",
        "joblib.dump(rf_model,'/Users/Albert3/Downloads/M_luad.joblib',compress=5)\n"
      ]
    },
    {
      "cell_type": "code",
      "source": [
        "model=joblib.load('/Users/Albert3/Downloads/M_luad.joblib')"
      ],
      "metadata": {
        "id": "zyukd2ANRihK"
      },
      "id": "zyukd2ANRihK",
      "execution_count": 91,
      "outputs": []
    },
    {
      "cell_type": "code",
      "execution_count": 92,
      "id": "82ad862d",
      "metadata": {
        "id": "82ad862d",
        "outputId": "c615e228-7011-46cf-8e3f-f1897e02e67c",
        "colab": {
          "base_uri": "https://localhost:8080/",
          "height": 424
        }
      },
      "outputs": [
        {
          "output_type": "execute_result",
          "data": {
            "text/plain": [
              "               Drug Name Cell Line Name Tissue            Tissue Sub-type  \\\n",
              "0              Erlotinib      NCI-H1648   lung  lung_NSCLC_adenocarcinoma   \n",
              "1              Erlotinib      NCI-H1650   lung  lung_NSCLC_adenocarcinoma   \n",
              "2              Erlotinib      NCI-H1838   lung  lung_NSCLC_adenocarcinoma   \n",
              "3              Erlotinib         Calu-6   lung  lung_NSCLC_adenocarcinoma   \n",
              "4              Erlotinib      NCI-H1355   lung  lung_NSCLC_adenocarcinoma   \n",
              "...                  ...            ...    ...                        ...   \n",
              "37299  N-acetyl cysteine      NCI-H1435   lung  lung_NSCLC_adenocarcinoma   \n",
              "37300  N-acetyl cysteine      NCI-H1568   lung  lung_NSCLC_adenocarcinoma   \n",
              "37301  N-acetyl cysteine      NCI-H1781   lung  lung_NSCLC_adenocarcinoma   \n",
              "37302  N-acetyl cysteine     RERF-LC-KJ   lung  lung_NSCLC_adenocarcinoma   \n",
              "37303  N-acetyl cysteine      EMC-BAC-2   lung  lung_NSCLC_adenocarcinoma   \n",
              "\n",
              "            IC50  Drug Nameenc  Cell Line Nameenc  Tissueenc  \\\n",
              "0      -3.130315           183                 22          0   \n",
              "1       3.661843           183                 23          0   \n",
              "2       2.322838           183                 32          0   \n",
              "3       3.009075           183                  4          0   \n",
              "4       0.954770           183                 15          0   \n",
              "...          ...           ...                ...        ...   \n",
              "37299   8.507421           323                 16          0   \n",
              "37300  11.118324           323                 19          0   \n",
              "37301  10.132069           323                 29          0   \n",
              "37302   8.763763           323                 57          0   \n",
              "37303  10.539892           323                  7          0   \n",
              "\n",
              "       Tissue Sub-typeenc    IC50enc  \n",
              "0                       0  -3.130315  \n",
              "1                       0   3.661843  \n",
              "2                       0   2.322838  \n",
              "3                       0   3.009075  \n",
              "4                       0   0.954770  \n",
              "...                   ...        ...  \n",
              "37299                   0   8.507421  \n",
              "37300                   0  11.118324  \n",
              "37301                   0  10.132069  \n",
              "37302                   0   8.763763  \n",
              "37303                   0  10.539892  \n",
              "\n",
              "[37304 rows x 10 columns]"
            ],
            "text/html": [
              "<div>\n",
              "<style scoped>\n",
              "    .dataframe tbody tr th:only-of-type {\n",
              "        vertical-align: middle;\n",
              "    }\n",
              "\n",
              "    .dataframe tbody tr th {\n",
              "        vertical-align: top;\n",
              "    }\n",
              "\n",
              "    .dataframe thead th {\n",
              "        text-align: right;\n",
              "    }\n",
              "</style>\n",
              "<table border=\"1\" class=\"dataframe\">\n",
              "  <thead>\n",
              "    <tr style=\"text-align: right;\">\n",
              "      <th></th>\n",
              "      <th>Drug Name</th>\n",
              "      <th>Cell Line Name</th>\n",
              "      <th>Tissue</th>\n",
              "      <th>Tissue Sub-type</th>\n",
              "      <th>IC50</th>\n",
              "      <th>Drug Nameenc</th>\n",
              "      <th>Cell Line Nameenc</th>\n",
              "      <th>Tissueenc</th>\n",
              "      <th>Tissue Sub-typeenc</th>\n",
              "      <th>IC50enc</th>\n",
              "    </tr>\n",
              "  </thead>\n",
              "  <tbody>\n",
              "    <tr>\n",
              "      <th>0</th>\n",
              "      <td>Erlotinib</td>\n",
              "      <td>NCI-H1648</td>\n",
              "      <td>lung</td>\n",
              "      <td>lung_NSCLC_adenocarcinoma</td>\n",
              "      <td>-3.130315</td>\n",
              "      <td>183</td>\n",
              "      <td>22</td>\n",
              "      <td>0</td>\n",
              "      <td>0</td>\n",
              "      <td>-3.130315</td>\n",
              "    </tr>\n",
              "    <tr>\n",
              "      <th>1</th>\n",
              "      <td>Erlotinib</td>\n",
              "      <td>NCI-H1650</td>\n",
              "      <td>lung</td>\n",
              "      <td>lung_NSCLC_adenocarcinoma</td>\n",
              "      <td>3.661843</td>\n",
              "      <td>183</td>\n",
              "      <td>23</td>\n",
              "      <td>0</td>\n",
              "      <td>0</td>\n",
              "      <td>3.661843</td>\n",
              "    </tr>\n",
              "    <tr>\n",
              "      <th>2</th>\n",
              "      <td>Erlotinib</td>\n",
              "      <td>NCI-H1838</td>\n",
              "      <td>lung</td>\n",
              "      <td>lung_NSCLC_adenocarcinoma</td>\n",
              "      <td>2.322838</td>\n",
              "      <td>183</td>\n",
              "      <td>32</td>\n",
              "      <td>0</td>\n",
              "      <td>0</td>\n",
              "      <td>2.322838</td>\n",
              "    </tr>\n",
              "    <tr>\n",
              "      <th>3</th>\n",
              "      <td>Erlotinib</td>\n",
              "      <td>Calu-6</td>\n",
              "      <td>lung</td>\n",
              "      <td>lung_NSCLC_adenocarcinoma</td>\n",
              "      <td>3.009075</td>\n",
              "      <td>183</td>\n",
              "      <td>4</td>\n",
              "      <td>0</td>\n",
              "      <td>0</td>\n",
              "      <td>3.009075</td>\n",
              "    </tr>\n",
              "    <tr>\n",
              "      <th>4</th>\n",
              "      <td>Erlotinib</td>\n",
              "      <td>NCI-H1355</td>\n",
              "      <td>lung</td>\n",
              "      <td>lung_NSCLC_adenocarcinoma</td>\n",
              "      <td>0.954770</td>\n",
              "      <td>183</td>\n",
              "      <td>15</td>\n",
              "      <td>0</td>\n",
              "      <td>0</td>\n",
              "      <td>0.954770</td>\n",
              "    </tr>\n",
              "    <tr>\n",
              "      <th>...</th>\n",
              "      <td>...</td>\n",
              "      <td>...</td>\n",
              "      <td>...</td>\n",
              "      <td>...</td>\n",
              "      <td>...</td>\n",
              "      <td>...</td>\n",
              "      <td>...</td>\n",
              "      <td>...</td>\n",
              "      <td>...</td>\n",
              "      <td>...</td>\n",
              "    </tr>\n",
              "    <tr>\n",
              "      <th>37299</th>\n",
              "      <td>N-acetyl cysteine</td>\n",
              "      <td>NCI-H1435</td>\n",
              "      <td>lung</td>\n",
              "      <td>lung_NSCLC_adenocarcinoma</td>\n",
              "      <td>8.507421</td>\n",
              "      <td>323</td>\n",
              "      <td>16</td>\n",
              "      <td>0</td>\n",
              "      <td>0</td>\n",
              "      <td>8.507421</td>\n",
              "    </tr>\n",
              "    <tr>\n",
              "      <th>37300</th>\n",
              "      <td>N-acetyl cysteine</td>\n",
              "      <td>NCI-H1568</td>\n",
              "      <td>lung</td>\n",
              "      <td>lung_NSCLC_adenocarcinoma</td>\n",
              "      <td>11.118324</td>\n",
              "      <td>323</td>\n",
              "      <td>19</td>\n",
              "      <td>0</td>\n",
              "      <td>0</td>\n",
              "      <td>11.118324</td>\n",
              "    </tr>\n",
              "    <tr>\n",
              "      <th>37301</th>\n",
              "      <td>N-acetyl cysteine</td>\n",
              "      <td>NCI-H1781</td>\n",
              "      <td>lung</td>\n",
              "      <td>lung_NSCLC_adenocarcinoma</td>\n",
              "      <td>10.132069</td>\n",
              "      <td>323</td>\n",
              "      <td>29</td>\n",
              "      <td>0</td>\n",
              "      <td>0</td>\n",
              "      <td>10.132069</td>\n",
              "    </tr>\n",
              "    <tr>\n",
              "      <th>37302</th>\n",
              "      <td>N-acetyl cysteine</td>\n",
              "      <td>RERF-LC-KJ</td>\n",
              "      <td>lung</td>\n",
              "      <td>lung_NSCLC_adenocarcinoma</td>\n",
              "      <td>8.763763</td>\n",
              "      <td>323</td>\n",
              "      <td>57</td>\n",
              "      <td>0</td>\n",
              "      <td>0</td>\n",
              "      <td>8.763763</td>\n",
              "    </tr>\n",
              "    <tr>\n",
              "      <th>37303</th>\n",
              "      <td>N-acetyl cysteine</td>\n",
              "      <td>EMC-BAC-2</td>\n",
              "      <td>lung</td>\n",
              "      <td>lung_NSCLC_adenocarcinoma</td>\n",
              "      <td>10.539892</td>\n",
              "      <td>323</td>\n",
              "      <td>7</td>\n",
              "      <td>0</td>\n",
              "      <td>0</td>\n",
              "      <td>10.539892</td>\n",
              "    </tr>\n",
              "  </tbody>\n",
              "</table>\n",
              "<p>37304 rows × 10 columns</p>\n",
              "</div>"
            ]
          },
          "metadata": {},
          "execution_count": 92
        }
      ],
      "source": [
        "tframe=df.join(dframe,rsuffix='enc')\n",
        "tframe"
      ]
    },
    {
      "cell_type": "code",
      "execution_count": 94,
      "id": "fd693784",
      "metadata": {
        "id": "fd693784",
        "outputId": "4e411b1f-a9f9-42ad-ef35-4b828a9b8914",
        "colab": {
          "base_uri": "https://localhost:8080/"
        }
      },
      "outputs": [
        {
          "output_type": "execute_result",
          "data": {
            "text/plain": [
              "array([4.      , 0.      , 0.      , 3.009075])"
            ]
          },
          "metadata": {},
          "execution_count": 94
        }
      ],
      "source": [
        "#predict actual values\n",
        "cln='Calu-6'\n",
        "tis='lung'\n",
        "subt='lung_NSCLC_adenocarcinoma'\n",
        "i50=3.009075\n",
        "test=pd.DataFrame()\n",
        "test['clnenc']=tframe['Cell Line Nameenc'].where((tframe['Cell Line Name']==cln))\n",
        "test['tis']=tframe['Tissueenc'].where((tframe['Tissue']==tis))\n",
        "test['subt']=tframe['Tissue Sub-typeenc'].where((tframe['Tissue Sub-type']==subt))\n",
        "test['ic50']=3.009075\n",
        "test.dropna(inplace=True)\n",
        "x=np.array(test.iloc[0,0:])\n",
        "x"
      ]
    },
    {
      "cell_type": "code",
      "execution_count": 95,
      "id": "4c638a60",
      "metadata": {
        "id": "4c638a60",
        "outputId": "1ae24513-9dae-4096-8126-91603323a50d",
        "colab": {
          "base_uri": "https://localhost:8080/"
        }
      },
      "outputs": [
        {
          "output_type": "stream",
          "name": "stderr",
          "text": [
            "/Users/Albert3/miniconda3/lib/python3.9/site-packages/sklearn/base.py:450: UserWarning: X does not have valid feature names, but StandardScaler was fitted with feature names\n",
            "  warnings.warn(\n"
          ]
        },
        {
          "output_type": "execute_result",
          "data": {
            "text/plain": [
              "array([[-1.46327024,  0.        ,  0.        ,  0.06954556]])"
            ]
          },
          "metadata": {},
          "execution_count": 95
        }
      ],
      "source": [
        "#scale the input values\n",
        "scaled_x=scaler.transform([x])\n",
        "scaled_x"
      ]
    },
    {
      "cell_type": "code",
      "execution_count": 96,
      "id": "23f8941e",
      "metadata": {
        "id": "23f8941e",
        "outputId": "495392c8-1fcc-4d40-a908-3dfaa88319e4",
        "colab": {
          "base_uri": "https://localhost:8080/"
        }
      },
      "outputs": [
        {
          "output_type": "execute_result",
          "data": {
            "text/plain": [
              "183"
            ]
          },
          "metadata": {},
          "execution_count": 96
        }
      ],
      "source": [
        "#predict drug encode\n",
        "drugenc=model.predict([scaled_x[0]])\n",
        "drugenc[0]"
      ]
    },
    {
      "cell_type": "code",
      "execution_count": 97,
      "id": "18118f31",
      "metadata": {
        "id": "18118f31",
        "outputId": "11ecebfa-ed81-486e-f593-def532359d75",
        "colab": {
          "base_uri": "https://localhost:8080/"
        }
      },
      "outputs": [
        {
          "output_type": "execute_result",
          "data": {
            "text/plain": [
              "'Erlotinib'"
            ]
          },
          "metadata": {},
          "execution_count": 97
        }
      ],
      "source": [
        "#return the drugname\n",
        "drugname=tframe['Drug Name'].where(tframe['Drug Nameenc']==drugenc[0])\n",
        "drugname.dropna(inplace=True)\n",
        "drugname.iloc[0]"
      ]
    }
  ],
  "metadata": {
    "kernelspec": {
      "display_name": "Python 3 (ipykernel)",
      "language": "python",
      "name": "python3"
    },
    "language_info": {
      "codemirror_mode": {
        "name": "ipython",
        "version": 3
      },
      "file_extension": ".py",
      "mimetype": "text/x-python",
      "name": "python",
      "nbconvert_exporter": "python",
      "pygments_lexer": "ipython3",
      "version": "3.10.7"
    },
    "colab": {
      "provenance": []
    }
  },
  "nbformat": 4,
  "nbformat_minor": 5
}