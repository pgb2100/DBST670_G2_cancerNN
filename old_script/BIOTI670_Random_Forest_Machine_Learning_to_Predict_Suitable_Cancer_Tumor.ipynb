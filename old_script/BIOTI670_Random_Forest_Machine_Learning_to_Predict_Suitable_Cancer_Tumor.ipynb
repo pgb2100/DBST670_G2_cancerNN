{
  "cells": [
    {
      "cell_type": "code",
      "execution_count": 1,
      "id": "3e6b2b9d",
      "metadata": {
        "id": "3e6b2b9d"
      },
      "outputs": [],
      "source": [
        "# Importing libraries\n",
        "import numpy as np\n",
        "import pandas as pd\n",
        "from scipy.stats import mode\n",
        "import matplotlib.pyplot as plt\n",
        "import seaborn as sns\n",
        "from sklearn.preprocessing import LabelEncoder\n",
        "from sklearn.model_selection import train_test_split, cross_val_score\n",
        "from sklearn.svm import SVC\n",
        "from sklearn.naive_bayes import GaussianNB\n",
        "from sklearn.ensemble import RandomForestClassifier\n",
        "from sklearn.metrics import accuracy_score, confusion_matrix\n",
        "%matplotlib inline"
      ]
    },
    {
      "cell_type": "code",
      "execution_count": 3,
      "id": "1e8a2076",
      "metadata": {
        "colab": {
          "base_uri": "https://localhost:8080/",
          "height": 424
        },
        "id": "1e8a2076",
        "outputId": "41b4bcdd-8a89-48aa-84a0-e07f933acf77"
      },
      "outputs": [
        {
          "output_type": "execute_result",
          "data": {
            "text/plain": [
              "               Drug Name Cell Line Name                Tissue Tissue Sub-type  \\\n",
              "0           Camptothecin           TE-5  aero_digestive_tract      oesophagus   \n",
              "1           Camptothecin       EC-GI-10  aero_digestive_tract      oesophagus   \n",
              "2           Camptothecin          HCE-4  aero_digestive_tract      oesophagus   \n",
              "3           Camptothecin       KYSE-140  aero_digestive_tract      oesophagus   \n",
              "4           Camptothecin       KYSE-410  aero_digestive_tract      oesophagus   \n",
              "...                  ...            ...                   ...             ...   \n",
              "90996  N-acetyl cysteine           FU97      digestive_system         stomach   \n",
              "90997  N-acetyl cysteine         NUGC-4      digestive_system         stomach   \n",
              "90998  N-acetyl cysteine         OCUM-1      digestive_system         stomach   \n",
              "90999  N-acetyl cysteine         HSC-39      digestive_system         stomach   \n",
              "91000  N-acetyl cysteine        SK-GT-2      digestive_system         stomach   \n",
              "\n",
              "            IC50  \n",
              "0      -2.555311  \n",
              "1      -3.125664  \n",
              "2      -3.536140  \n",
              "3      -0.402974  \n",
              "4       0.605862  \n",
              "...          ...  \n",
              "90996  10.541691  \n",
              "90997   9.745149  \n",
              "90998  10.959875  \n",
              "90999   8.342217  \n",
              "91000  10.192296  \n",
              "\n",
              "[91001 rows x 5 columns]"
            ],
            "text/html": [
              "<div>\n",
              "<style scoped>\n",
              "    .dataframe tbody tr th:only-of-type {\n",
              "        vertical-align: middle;\n",
              "    }\n",
              "\n",
              "    .dataframe tbody tr th {\n",
              "        vertical-align: top;\n",
              "    }\n",
              "\n",
              "    .dataframe thead th {\n",
              "        text-align: right;\n",
              "    }\n",
              "</style>\n",
              "<table border=\"1\" class=\"dataframe\">\n",
              "  <thead>\n",
              "    <tr style=\"text-align: right;\">\n",
              "      <th></th>\n",
              "      <th>Drug Name</th>\n",
              "      <th>Cell Line Name</th>\n",
              "      <th>Tissue</th>\n",
              "      <th>Tissue Sub-type</th>\n",
              "      <th>IC50</th>\n",
              "    </tr>\n",
              "  </thead>\n",
              "  <tbody>\n",
              "    <tr>\n",
              "      <th>0</th>\n",
              "      <td>Camptothecin</td>\n",
              "      <td>TE-5</td>\n",
              "      <td>aero_digestive_tract</td>\n",
              "      <td>oesophagus</td>\n",
              "      <td>-2.555311</td>\n",
              "    </tr>\n",
              "    <tr>\n",
              "      <th>1</th>\n",
              "      <td>Camptothecin</td>\n",
              "      <td>EC-GI-10</td>\n",
              "      <td>aero_digestive_tract</td>\n",
              "      <td>oesophagus</td>\n",
              "      <td>-3.125664</td>\n",
              "    </tr>\n",
              "    <tr>\n",
              "      <th>2</th>\n",
              "      <td>Camptothecin</td>\n",
              "      <td>HCE-4</td>\n",
              "      <td>aero_digestive_tract</td>\n",
              "      <td>oesophagus</td>\n",
              "      <td>-3.536140</td>\n",
              "    </tr>\n",
              "    <tr>\n",
              "      <th>3</th>\n",
              "      <td>Camptothecin</td>\n",
              "      <td>KYSE-140</td>\n",
              "      <td>aero_digestive_tract</td>\n",
              "      <td>oesophagus</td>\n",
              "      <td>-0.402974</td>\n",
              "    </tr>\n",
              "    <tr>\n",
              "      <th>4</th>\n",
              "      <td>Camptothecin</td>\n",
              "      <td>KYSE-410</td>\n",
              "      <td>aero_digestive_tract</td>\n",
              "      <td>oesophagus</td>\n",
              "      <td>0.605862</td>\n",
              "    </tr>\n",
              "    <tr>\n",
              "      <th>...</th>\n",
              "      <td>...</td>\n",
              "      <td>...</td>\n",
              "      <td>...</td>\n",
              "      <td>...</td>\n",
              "      <td>...</td>\n",
              "    </tr>\n",
              "    <tr>\n",
              "      <th>90996</th>\n",
              "      <td>N-acetyl cysteine</td>\n",
              "      <td>FU97</td>\n",
              "      <td>digestive_system</td>\n",
              "      <td>stomach</td>\n",
              "      <td>10.541691</td>\n",
              "    </tr>\n",
              "    <tr>\n",
              "      <th>90997</th>\n",
              "      <td>N-acetyl cysteine</td>\n",
              "      <td>NUGC-4</td>\n",
              "      <td>digestive_system</td>\n",
              "      <td>stomach</td>\n",
              "      <td>9.745149</td>\n",
              "    </tr>\n",
              "    <tr>\n",
              "      <th>90998</th>\n",
              "      <td>N-acetyl cysteine</td>\n",
              "      <td>OCUM-1</td>\n",
              "      <td>digestive_system</td>\n",
              "      <td>stomach</td>\n",
              "      <td>10.959875</td>\n",
              "    </tr>\n",
              "    <tr>\n",
              "      <th>90999</th>\n",
              "      <td>N-acetyl cysteine</td>\n",
              "      <td>HSC-39</td>\n",
              "      <td>digestive_system</td>\n",
              "      <td>stomach</td>\n",
              "      <td>8.342217</td>\n",
              "    </tr>\n",
              "    <tr>\n",
              "      <th>91000</th>\n",
              "      <td>N-acetyl cysteine</td>\n",
              "      <td>SK-GT-2</td>\n",
              "      <td>digestive_system</td>\n",
              "      <td>stomach</td>\n",
              "      <td>10.192296</td>\n",
              "    </tr>\n",
              "  </tbody>\n",
              "</table>\n",
              "<p>91001 rows × 5 columns</p>\n",
              "</div>"
            ]
          },
          "metadata": {},
          "execution_count": 3
        }
      ],
      "source": [
        "data=pd.read_csv('/Users/Albert3/Downloads/alldata.csv')\n",
        "df=data[['Drug Name','Cell Line Name','Tissue','Tissue Sub-type','IC50']]\n",
        "df"
      ]
    },
    {
      "cell_type": "code",
      "execution_count": 5,
      "id": "5eb6b495",
      "metadata": {
        "colab": {
          "base_uri": "https://localhost:8080/",
          "height": 424
        },
        "id": "5eb6b495",
        "outputId": "1ea2412d-2e69-443f-9001-7518f82733bd"
      },
      "outputs": [
        {
          "output_type": "execute_result",
          "data": {
            "text/plain": [
              "       Drug Name  Cell Line Name  Tissue  Tissue Sub-type       IC50\n",
              "0             73             853       0               42  -2.555311\n",
              "1             73             164       0               42  -3.125664\n",
              "2             73             253       0               42  -3.536140\n",
              "3             73             379       0               42  -0.402974\n",
              "4             73             384       0               42   0.605862\n",
              "...          ...             ...     ...              ...        ...\n",
              "90996        174             203       4               50  10.541691\n",
              "90997        174             631       4               50   9.745149\n",
              "90998        174             644       4               50  10.959875\n",
              "90999        174             273       4               50   8.342217\n",
              "91000        174             757       4               50  10.192296\n",
              "\n",
              "[91001 rows x 5 columns]"
            ],
            "text/html": [
              "<div>\n",
              "<style scoped>\n",
              "    .dataframe tbody tr th:only-of-type {\n",
              "        vertical-align: middle;\n",
              "    }\n",
              "\n",
              "    .dataframe tbody tr th {\n",
              "        vertical-align: top;\n",
              "    }\n",
              "\n",
              "    .dataframe thead th {\n",
              "        text-align: right;\n",
              "    }\n",
              "</style>\n",
              "<table border=\"1\" class=\"dataframe\">\n",
              "  <thead>\n",
              "    <tr style=\"text-align: right;\">\n",
              "      <th></th>\n",
              "      <th>Drug Name</th>\n",
              "      <th>Cell Line Name</th>\n",
              "      <th>Tissue</th>\n",
              "      <th>Tissue Sub-type</th>\n",
              "      <th>IC50</th>\n",
              "    </tr>\n",
              "  </thead>\n",
              "  <tbody>\n",
              "    <tr>\n",
              "      <th>0</th>\n",
              "      <td>73</td>\n",
              "      <td>853</td>\n",
              "      <td>0</td>\n",
              "      <td>42</td>\n",
              "      <td>-2.555311</td>\n",
              "    </tr>\n",
              "    <tr>\n",
              "      <th>1</th>\n",
              "      <td>73</td>\n",
              "      <td>164</td>\n",
              "      <td>0</td>\n",
              "      <td>42</td>\n",
              "      <td>-3.125664</td>\n",
              "    </tr>\n",
              "    <tr>\n",
              "      <th>2</th>\n",
              "      <td>73</td>\n",
              "      <td>253</td>\n",
              "      <td>0</td>\n",
              "      <td>42</td>\n",
              "      <td>-3.536140</td>\n",
              "    </tr>\n",
              "    <tr>\n",
              "      <th>3</th>\n",
              "      <td>73</td>\n",
              "      <td>379</td>\n",
              "      <td>0</td>\n",
              "      <td>42</td>\n",
              "      <td>-0.402974</td>\n",
              "    </tr>\n",
              "    <tr>\n",
              "      <th>4</th>\n",
              "      <td>73</td>\n",
              "      <td>384</td>\n",
              "      <td>0</td>\n",
              "      <td>42</td>\n",
              "      <td>0.605862</td>\n",
              "    </tr>\n",
              "    <tr>\n",
              "      <th>...</th>\n",
              "      <td>...</td>\n",
              "      <td>...</td>\n",
              "      <td>...</td>\n",
              "      <td>...</td>\n",
              "      <td>...</td>\n",
              "    </tr>\n",
              "    <tr>\n",
              "      <th>90996</th>\n",
              "      <td>174</td>\n",
              "      <td>203</td>\n",
              "      <td>4</td>\n",
              "      <td>50</td>\n",
              "      <td>10.541691</td>\n",
              "    </tr>\n",
              "    <tr>\n",
              "      <th>90997</th>\n",
              "      <td>174</td>\n",
              "      <td>631</td>\n",
              "      <td>4</td>\n",
              "      <td>50</td>\n",
              "      <td>9.745149</td>\n",
              "    </tr>\n",
              "    <tr>\n",
              "      <th>90998</th>\n",
              "      <td>174</td>\n",
              "      <td>644</td>\n",
              "      <td>4</td>\n",
              "      <td>50</td>\n",
              "      <td>10.959875</td>\n",
              "    </tr>\n",
              "    <tr>\n",
              "      <th>90999</th>\n",
              "      <td>174</td>\n",
              "      <td>273</td>\n",
              "      <td>4</td>\n",
              "      <td>50</td>\n",
              "      <td>8.342217</td>\n",
              "    </tr>\n",
              "    <tr>\n",
              "      <th>91000</th>\n",
              "      <td>174</td>\n",
              "      <td>757</td>\n",
              "      <td>4</td>\n",
              "      <td>50</td>\n",
              "      <td>10.192296</td>\n",
              "    </tr>\n",
              "  </tbody>\n",
              "</table>\n",
              "<p>91001 rows × 5 columns</p>\n",
              "</div>"
            ]
          },
          "metadata": {},
          "execution_count": 5
        }
      ],
      "source": [
        "encoder = LabelEncoder()\n",
        "dframe=pd.DataFrame()\n",
        "dframe[\"Drug Name\"] = encoder.fit_transform(df[\"Drug Name\"])\n",
        "dframe[\"Cell Line Name\"] = encoder.fit_transform(df[\"Cell Line Name\"])\n",
        "dframe[\"Tissue\"] = encoder.fit_transform(df[\"Tissue\"])\n",
        "dframe[\"Tissue Sub-type\"] = encoder.fit_transform(df[\"Tissue Sub-type\"])\n",
        "dframe['IC50']=df['IC50']\n",
        "dframe"
      ]
    },
    {
      "cell_type": "code",
      "execution_count": 6,
      "id": "4e49755c",
      "metadata": {
        "colab": {
          "base_uri": "https://localhost:8080/",
          "height": 206
        },
        "id": "4e49755c",
        "outputId": "e007ca23-90c4-47e2-f532-7bf05ed3cce2"
      },
      "outputs": [
        {
          "output_type": "execute_result",
          "data": {
            "text/plain": [
              "                 Drug Name  Cell Line Name    Tissue  Tissue Sub-type  \\\n",
              "Drug Name         1.000000        0.001494  0.016186         0.003248   \n",
              "Cell Line Name    0.001494        1.000000  0.021434         0.237142   \n",
              "Tissue            0.016186        0.021434  1.000000        -0.027549   \n",
              "Tissue Sub-type   0.003248        0.237142 -0.027549         1.000000   \n",
              "IC50              0.032587        0.026803  0.022697        -0.025047   \n",
              "\n",
              "                     IC50  \n",
              "Drug Name        0.032587  \n",
              "Cell Line Name   0.026803  \n",
              "Tissue           0.022697  \n",
              "Tissue Sub-type -0.025047  \n",
              "IC50             1.000000  "
            ],
            "text/html": [
              "<div>\n",
              "<style scoped>\n",
              "    .dataframe tbody tr th:only-of-type {\n",
              "        vertical-align: middle;\n",
              "    }\n",
              "\n",
              "    .dataframe tbody tr th {\n",
              "        vertical-align: top;\n",
              "    }\n",
              "\n",
              "    .dataframe thead th {\n",
              "        text-align: right;\n",
              "    }\n",
              "</style>\n",
              "<table border=\"1\" class=\"dataframe\">\n",
              "  <thead>\n",
              "    <tr style=\"text-align: right;\">\n",
              "      <th></th>\n",
              "      <th>Drug Name</th>\n",
              "      <th>Cell Line Name</th>\n",
              "      <th>Tissue</th>\n",
              "      <th>Tissue Sub-type</th>\n",
              "      <th>IC50</th>\n",
              "    </tr>\n",
              "  </thead>\n",
              "  <tbody>\n",
              "    <tr>\n",
              "      <th>Drug Name</th>\n",
              "      <td>1.000000</td>\n",
              "      <td>0.001494</td>\n",
              "      <td>0.016186</td>\n",
              "      <td>0.003248</td>\n",
              "      <td>0.032587</td>\n",
              "    </tr>\n",
              "    <tr>\n",
              "      <th>Cell Line Name</th>\n",
              "      <td>0.001494</td>\n",
              "      <td>1.000000</td>\n",
              "      <td>0.021434</td>\n",
              "      <td>0.237142</td>\n",
              "      <td>0.026803</td>\n",
              "    </tr>\n",
              "    <tr>\n",
              "      <th>Tissue</th>\n",
              "      <td>0.016186</td>\n",
              "      <td>0.021434</td>\n",
              "      <td>1.000000</td>\n",
              "      <td>-0.027549</td>\n",
              "      <td>0.022697</td>\n",
              "    </tr>\n",
              "    <tr>\n",
              "      <th>Tissue Sub-type</th>\n",
              "      <td>0.003248</td>\n",
              "      <td>0.237142</td>\n",
              "      <td>-0.027549</td>\n",
              "      <td>1.000000</td>\n",
              "      <td>-0.025047</td>\n",
              "    </tr>\n",
              "    <tr>\n",
              "      <th>IC50</th>\n",
              "      <td>0.032587</td>\n",
              "      <td>0.026803</td>\n",
              "      <td>0.022697</td>\n",
              "      <td>-0.025047</td>\n",
              "      <td>1.000000</td>\n",
              "    </tr>\n",
              "  </tbody>\n",
              "</table>\n",
              "</div>"
            ]
          },
          "metadata": {},
          "execution_count": 6
        }
      ],
      "source": [
        "# get the correlation matrix\n",
        "dframe.corr()"
      ]
    },
    {
      "cell_type": "code",
      "execution_count": 7,
      "id": "8dcd76c3",
      "metadata": {
        "colab": {
          "base_uri": "https://localhost:8080/",
          "height": 284
        },
        "id": "8dcd76c3",
        "outputId": "546a0db5-821a-496b-a678-38e255b6e07e"
      },
      "outputs": [
        {
          "output_type": "execute_result",
          "data": {
            "text/plain": [
              "<AxesSubplot:ylabel='Frequency'>"
            ]
          },
          "metadata": {},
          "execution_count": 7
        },
        {
          "output_type": "display_data",
          "data": {
            "text/plain": [
              "<Figure size 432x288 with 1 Axes>"
            ],
            "image/png": "[encoded data removed]"
          },
          "metadata": {
            "needs_background": "light"
          }
        }
      ],
      "source": [
        "#plot histogram for the data\n",
        "dframe['Cell Line Name'].plot(kind='hist')\n",
        "dframe['Tissue'].plot(kind='hist')\n",
        "dframe['Tissue Sub-type'].plot(kind='hist')"
      ]
    },
    {
      "cell_type": "code",
      "execution_count": 10,
      "id": "742c77a4",
      "metadata": {
        "colab": {
          "base_uri": "https://localhost:8080/",
          "height": 286
        },
        "id": "742c77a4",
        "outputId": "5f7e0f6e-1206-434e-d166-9272a3b1d0c0"
      },
      "outputs": [
        {
          "output_type": "execute_result",
          "data": {
            "text/plain": [
              "<matplotlib.collections.PathCollection at 0x7f79f637c7f0>"
            ]
          },
          "metadata": {},
          "execution_count": 10
        },
        {
          "output_type": "display_data",
          "data": {
            "text/plain": [
              "<Figure size 432x288 with 1 Axes>"
            ],
            "image/png": "[encoded data removed]"
          },
          "metadata": {
            "needs_background": "light"
          }
        }
      ],
      "source": [
        "#plot a scatter plot\n",
        "import matplotlib.pyplot as plt\n",
        "plt.scatter(x=dframe['Cell Line Name'],y=dframe['Drug Name'])\n",
        "plt.scatter(x=dframe['Tissue'],y=dframe['Drug Name'])\n",
        "plt.scatter(x=dframe['Tissue Sub-type'],y=dframe['Drug Name'])\n",
        "#plt.scatter(x=dframe['Cell Line Name'],y=dframe['Drug Name'])"
      ]
    },
    {
      "cell_type": "code",
      "execution_count": 11,
      "id": "7c6fd33a",
      "metadata": {
        "id": "7c6fd33a"
      },
      "outputs": [],
      "source": [
        "#X and Y\n",
        "X=dframe[['Cell Line Name','Tissue','Tissue Sub-type','IC50']]\n",
        "Y=dframe[['Drug Name']]"
      ]
    },
    {
      "cell_type": "code",
      "execution_count": 12,
      "id": "4cfba476",
      "metadata": {
        "colab": {
          "base_uri": "https://localhost:8080/"
        },
        "id": "4cfba476",
        "outputId": "ea7b975f-372d-4198-903a-c689e0587345"
      },
      "outputs": [
        {
          "output_type": "execute_result",
          "data": {
            "text/plain": [
              "array([[ 1.69345217, -2.30592897,  1.16613602, -2.07469148],\n",
              "       [-1.32157697, -2.30592897,  1.16613602, -2.28448591],\n",
              "       [-0.93211747, -2.30592897,  1.16613602, -2.4354723 ],\n",
              "       ...,\n",
              "       [ 0.77887875, -0.25873143,  1.92319793,  2.89663228],\n",
              "       [-0.84459848, -0.25873143,  1.92319793,  1.93377265],\n",
              "       [ 1.27336103, -0.25873143,  1.92319793,  2.61429184]])"
            ]
          },
          "metadata": {},
          "execution_count": 12
        }
      ],
      "source": [
        "#scaling\n",
        "from sklearn.preprocessing import StandardScaler\n",
        "scaler=StandardScaler()\n",
        "X=scaler.fit_transform(X)\n",
        "X"
      ]
    },
    {
      "cell_type": "code",
      "execution_count": 13,
      "id": "81a95e0d",
      "metadata": {
        "colab": {
          "base_uri": "https://localhost:8080/"
        },
        "id": "81a95e0d",
        "outputId": "0c5d66eb-bab8-4d7d-e3aa-1037d5258fed"
      },
      "outputs": [
        {
          "output_type": "stream",
          "name": "stdout",
          "text": [
            "Train: (81900, 4), (81900, 1)\n",
            "Test: (9101, 4), (9101, 1)\n"
          ]
        }
      ],
      "source": [
        "#Split the dataset\n",
        "X_train, X_test, y_train, y_test =train_test_split(X, Y, test_size = 0.1, random_state = 24)\n",
        "print(f\"Train: {X_train.shape}, {y_train.shape}\")\n",
        "print(f\"Test: {X_test.shape}, {y_test.shape}\")"
      ]
    },
    {
      "cell_type": "code",
      "execution_count": 14,
      "id": "dbec2750",
      "metadata": {
        "colab": {
          "base_uri": "https://localhost:8080/",
          "height": 130
        },
        "id": "dbec2750",
        "outputId": "4520bb4a-c0ab-4d5b-e3dd-8dd468936336"
      },
      "outputs": [
        {
          "output_type": "stream",
          "name": "stderr",
          "text": [
            "/var/folders/d9/f8xx3ggn7y5f7tr2jyd4nkk80000gp/T/ipykernel_8576/638098497.py:3: DataConversionWarning: A column-vector y was passed when a 1d array was expected. Please change the shape of y to (n_samples,), for example using ravel().\n",
            "  rf_model.fit(X, Y)\n"
          ]
        },
        {
          "output_type": "execute_result",
          "data": {
            "text/plain": [
              "RandomForestClassifier(random_state=18)"
            ],
            "text/html": [
              "<style>#sk-container-id-1 {color: black;background-color: white;}#sk-container-id-1 pre{padding: 0;}#sk-container-id-1 div.sk-toggleable {background-color: white;}#sk-container-id-1 label.sk-toggleable__label {cursor: pointer;display: block;width: 100%;margin-bottom: 0;padding: 0.3em;box-sizing: border-box;text-align: center;}#sk-container-id-1 label.sk-toggleable__label-arrow:before {content: \"▸\";float: left;margin-right: 0.25em;color: #696969;}#sk-container-id-1 label.sk-toggleable__label-arrow:hover:before {color: black;}#sk-container-id-1 div.sk-estimator:hover label.sk-toggleable__label-arrow:before {color: black;}#sk-container-id-1 div.sk-toggleable__content {max-height: 0;max-width: 0;overflow: hidden;text-align: left;background-color: #f0f8ff;}#sk-container-id-1 div.sk-toggleable__content pre {margin: 0.2em;color: black;border-radius: 0.25em;background-color: #f0f8ff;}#sk-container-id-1 input.sk-toggleable__control:checked~div.sk-toggleable__content {max-height: 200px;max-width: 100%;overflow: auto;}#sk-container-id-1 input.sk-toggleable__control:checked~label.sk-toggleable__label-arrow:before {content: \"▾\";}#sk-container-id-1 div.sk-estimator input.sk-toggleable__control:checked~label.sk-toggleable__label {background-color: #d4ebff;}#sk-container-id-1 div.sk-label input.sk-toggleable__control:checked~label.sk-toggleable__label {background-color: #d4ebff;}#sk-container-id-1 input.sk-hidden--visually {border: 0;clip: rect(1px 1px 1px 1px);clip: rect(1px, 1px, 1px, 1px);height: 1px;margin: -1px;overflow: hidden;padding: 0;position: absolute;width: 1px;}#sk-container-id-1 div.sk-estimator {font-family: monospace;background-color: #f0f8ff;border: 1px dotted black;border-radius: 0.25em;box-sizing: border-box;margin-bottom: 0.5em;}#sk-container-id-1 div.sk-estimator:hover {background-color: #d4ebff;}#sk-container-id-1 div.sk-parallel-item::after {content: \"\";width: 100%;border-bottom: 1px solid gray;flex-grow: 1;}#sk-container-id-1 div.sk-label:hover label.sk-toggleable__label {background-color: #d4ebff;}#sk-container-id-1 div.sk-serial::before {content: \"\";position: absolute;border-left: 1px solid gray;box-sizing: border-box;top: 0;bottom: 0;left: 50%;z-index: 0;}#sk-container-id-1 div.sk-serial {display: flex;flex-direction: column;align-items: center;background-color: white;padding-right: 0.2em;padding-left: 0.2em;position: relative;}#sk-container-id-1 div.sk-item {position: relative;z-index: 1;}#sk-container-id-1 div.sk-parallel {display: flex;align-items: stretch;justify-content: center;background-color: white;position: relative;}#sk-container-id-1 div.sk-item::before, #sk-container-id-1 div.sk-parallel-item::before {content: \"\";position: absolute;border-left: 1px solid gray;box-sizing: border-box;top: 0;bottom: 0;left: 50%;z-index: -1;}#sk-container-id-1 div.sk-parallel-item {display: flex;flex-direction: column;z-index: 1;position: relative;background-color: white;}#sk-container-id-1 div.sk-parallel-item:first-child::after {align-self: flex-end;width: 50%;}#sk-container-id-1 div.sk-parallel-item:last-child::after {align-self: flex-start;width: 50%;}#sk-container-id-1 div.sk-parallel-item:only-child::after {width: 0;}#sk-container-id-1 div.sk-dashed-wrapped {border: 1px dashed gray;margin: 0 0.4em 0.5em 0.4em;box-sizing: border-box;padding-bottom: 0.4em;background-color: white;}#sk-container-id-1 div.sk-label label {font-family: monospace;font-weight: bold;display: inline-block;line-height: 1.2em;}#sk-container-id-1 div.sk-label-container {text-align: center;}#sk-container-id-1 div.sk-container {/* jupyter's `normalize.less` sets `[hidden] { display: none; }` but bootstrap.min.css set `[hidden] { display: none !important; }` so we also need the `!important` here to be able to override the default hidden behavior on the sphinx rendered scikit-learn.org. See: https://github.com/scikit-learn/scikit-learn/issues/21755 */display: inline-block !important;position: relative;}#sk-container-id-1 div.sk-text-repr-fallback {display: none;}</style><div id=\"sk-container-id-1\" class=\"sk-top-container\"><div class=\"sk-text-repr-fallback\"><pre>RandomForestClassifier(random_state=18)</pre><b>In a Jupyter environment, please rerun this cell to show the HTML representation or trust the notebook. <br />On GitHub, the HTML representation is unable to render, please try loading this page with nbviewer.org.</b></div><div class=\"sk-container\" hidden><div class=\"sk-item\"><div class=\"sk-estimator sk-toggleable\"><input class=\"sk-toggleable__control sk-hidden--visually\" id=\"sk-estimator-id-1\" type=\"checkbox\" checked><label for=\"sk-estimator-id-1\" class=\"sk-toggleable__label sk-toggleable__label-arrow\">RandomForestClassifier</label><div class=\"sk-toggleable__content\"><pre>RandomForestClassifier(random_state=18)</pre></div></div></div></div></div>"
            ]
          },
          "metadata": {},
          "execution_count": 14
        }
      ],
      "source": [
        "# Training and testing Random Forest Classifier\n",
        "rf_model = RandomForestClassifier(random_state=18)\n",
        "rf_model.fit(X, Y)"
      ]
    },
    {
      "cell_type": "code",
      "execution_count": 15,
      "id": "7c876983",
      "metadata": {
        "colab": {
          "base_uri": "https://localhost:8080/"
        },
        "id": "7c876983",
        "outputId": "93cc6750-a316-441e-90aa-15568bc88e4a"
      },
      "outputs": [
        {
          "output_type": "execute_result",
          "data": {
            "text/plain": [
              "array([233, 244, 166, ..., 172, 268, 270])"
            ]
          },
          "metadata": {},
          "execution_count": 15
        }
      ],
      "source": [
        "preds = rf_model.predict(X_test)\n",
        "preds"
      ]
    },
    {
      "cell_type": "code",
      "execution_count": 16,
      "id": "bc68d75b",
      "metadata": {
        "colab": {
          "base_uri": "https://localhost:8080/"
        },
        "id": "bc68d75b",
        "outputId": "6c3c1783-ef41-46ab-cd5e-a0bfdd208793"
      },
      "outputs": [
        {
          "output_type": "stream",
          "name": "stderr",
          "text": [
            "/Users/Albert3/miniconda3/lib/python3.9/site-packages/sklearn/base.py:450: UserWarning: X does not have valid feature names, but StandardScaler was fitted with feature names\n",
            "  warnings.warn(\n"
          ]
        },
        {
          "output_type": "execute_result",
          "data": {
            "text/plain": [
              "array([[-1.15091494, -0.25873143,  1.92319793,  2.74281057]])"
            ]
          },
          "metadata": {},
          "execution_count": 16
        }
      ],
      "source": [
        "#predict a specific value\n",
        "scaled_x=scaler.transform([[203,4,50,10.541691]])\n",
        "scaled_x"
      ]
    },
    {
      "cell_type": "code",
      "execution_count": 17,
      "id": "39edc3cc",
      "metadata": {
        "id": "39edc3cc"
      },
      "outputs": [],
      "source": [
        "predicted=rf_model.predict([scaled_x[0]])"
      ]
    },
    {
      "cell_type": "code",
      "execution_count": 18,
      "id": "3d5bdfc2",
      "metadata": {
        "colab": {
          "base_uri": "https://localhost:8080/"
        },
        "id": "3d5bdfc2",
        "outputId": "c78f5fc3-61f1-4d1e-8849-39afbb46c65d"
      },
      "outputs": [
        {
          "output_type": "execute_result",
          "data": {
            "text/plain": [
              "array([174])"
            ]
          },
          "metadata": {},
          "execution_count": 18
        }
      ],
      "source": [
        "predicted"
      ]
    },
    {
      "cell_type": "code",
      "execution_count": 19,
      "id": "317a3cc8",
      "metadata": {
        "colab": {
          "base_uri": "https://localhost:8080/"
        },
        "id": "317a3cc8",
        "outputId": "6144c6e9-9e5e-4c60-c1ea-1b0fb1da2f4c"
      },
      "outputs": [
        {
          "output_type": "stream",
          "name": "stdout",
          "text": [
            "Accuracy on train data by Random Forest Classifier: 99.52014652014653\n"
          ]
        }
      ],
      "source": [
        "print(f\"Accuracy on train data by Random Forest Classifier\\\n",
        ": {accuracy_score(y_train, rf_model.predict(X_train))*100}\")"
      ]
    },
    {
      "cell_type": "code",
      "execution_count": 20,
      "id": "72a6a96a",
      "metadata": {
        "colab": {
          "base_uri": "https://localhost:8080/"
        },
        "id": "72a6a96a",
        "outputId": "09dce080-05e2-4b57-9dab-f93c13c47aa0"
      },
      "outputs": [
        {
          "output_type": "stream",
          "name": "stdout",
          "text": [
            "Accuracy on test data by Random Forest Classifier: 99.5934512690913\n"
          ]
        }
      ],
      "source": [
        "print(f\"Accuracy on test data by Random Forest Classifier\\\n",
        ": {accuracy_score(y_test, preds)*100}\")"
      ]
    },
    {
      "cell_type": "code",
      "execution_count": 25,
      "id": "82ad862d",
      "metadata": {
        "colab": {
          "base_uri": "https://localhost:8080/",
          "height": 133
        },
        "id": "82ad862d",
        "outputId": "e6090b59-feff-482b-97ae-c6974dd97d9d"
      },
      "outputs": [
        {
          "output_type": "error",
          "ename": "SyntaxError",
          "evalue": "ignored",
          "traceback": [
            "\u001b[0;36m  Input \u001b[0;32mIn [25]\u001b[0;36m\u001b[0m\n\u001b[0;31m    `          tframe=df.join(dframe,rsuffix='enc')\u001b[0m\n\u001b[0m    ^\u001b[0m\n\u001b[0;31mSyntaxError\u001b[0m\u001b[0;31m:\u001b[0m invalid syntax\n"
          ]
        }
      ],
      "source": [
        "`          tframe=df.join(dframe,rsuffix='enc')\n",
        "tframe"
      ]
    },
    {
      "cell_type": "code",
      "execution_count": 23,
      "id": "fd693784",
      "metadata": {
        "colab": {
          "base_uri": "https://localhost:8080/",
          "height": 240
        },
        "id": "fd693784",
        "outputId": "5c8487f9-02b7-43e2-a546-e68b8dea9bb8"
      },
      "outputs": [
        {
          "output_type": "error",
          "ename": "NameError",
          "evalue": "ignored",
          "traceback": [
            "\u001b[0;31m---------------------------------------------------------------------------\u001b[0m",
            "\u001b[0;31mNameError\u001b[0m                                 Traceback (most recent call last)",
            "Input \u001b[0;32mIn [23]\u001b[0m, in \u001b[0;36m<cell line: 7>\u001b[0;34m()\u001b[0m\n\u001b[1;32m      5\u001b[0m i50\u001b[38;5;241m=\u001b[39m\u001b[38;5;241m-\u001b[39m\u001b[38;5;241m3.125664\u001b[39m\n\u001b[1;32m      6\u001b[0m test\u001b[38;5;241m=\u001b[39mpd\u001b[38;5;241m.\u001b[39mDataFrame()\n\u001b[0;32m----> 7\u001b[0m test[\u001b[38;5;124m'\u001b[39m\u001b[38;5;124mclnenc\u001b[39m\u001b[38;5;124m'\u001b[39m]\u001b[38;5;241m=\u001b[39m\u001b[43mtframe\u001b[49m[\u001b[38;5;124m'\u001b[39m\u001b[38;5;124mCell Line Nameenc\u001b[39m\u001b[38;5;124m'\u001b[39m]\u001b[38;5;241m.\u001b[39mwhere((tframe[\u001b[38;5;124m'\u001b[39m\u001b[38;5;124mCell Line Name\u001b[39m\u001b[38;5;124m'\u001b[39m]\u001b[38;5;241m==\u001b[39mcln))\n\u001b[1;32m      8\u001b[0m test[\u001b[38;5;124m'\u001b[39m\u001b[38;5;124mtis\u001b[39m\u001b[38;5;124m'\u001b[39m]\u001b[38;5;241m=\u001b[39mtframe[\u001b[38;5;124m'\u001b[39m\u001b[38;5;124mTissueenc\u001b[39m\u001b[38;5;124m'\u001b[39m]\u001b[38;5;241m.\u001b[39mwhere((tframe[\u001b[38;5;124m'\u001b[39m\u001b[38;5;124mTissue\u001b[39m\u001b[38;5;124m'\u001b[39m]\u001b[38;5;241m==\u001b[39mtis))\n\u001b[1;32m      9\u001b[0m test[\u001b[38;5;124m'\u001b[39m\u001b[38;5;124msubt\u001b[39m\u001b[38;5;124m'\u001b[39m]\u001b[38;5;241m=\u001b[39mtframe[\u001b[38;5;124m'\u001b[39m\u001b[38;5;124mTissue Sub-typeenc\u001b[39m\u001b[38;5;124m'\u001b[39m]\u001b[38;5;241m.\u001b[39mwhere((tframe[\u001b[38;5;124m'\u001b[39m\u001b[38;5;124mTissue Sub-type\u001b[39m\u001b[38;5;124m'\u001b[39m]\u001b[38;5;241m==\u001b[39msubt))\n",
            "\u001b[0;31mNameError\u001b[0m: name 'tframe' is not defined"
          ]
        }
      ],
      "source": [
        "#predict actual values\n",
        "cln='EC-GI-10'\n",
        "tis='aero_digestive_tract'\n",
        "subt='oesophagus'\n",
        "i50=-3.125664\n",
        "test=pd.DataFrame()\n",
        "test['clnenc']=tframe['Cell Line Nameenc'].where((tframe['Cell Line Name']==cln))\n",
        "test['tis']=tframe['Tissueenc'].where((tframe['Tissue']==tis))\n",
        "test['subt']=tframe['Tissue Sub-typeenc'].where((tframe['Tissue Sub-type']==subt))\n",
        "test['ic50']=-3.125664\n",
        "test.dropna(inplace=True)\n",
        "x=np.array(test.iloc[0,0:])\n",
        "x"
      ]
    },
    {
      "cell_type": "code",
      "execution_count": 26,
      "id": "4c638a60",
      "metadata": {
        "colab": {
          "base_uri": "https://localhost:8080/",
          "height": 204
        },
        "id": "4c638a60",
        "outputId": "2bc18abe-3bd8-482c-c8e4-1e5d62551794"
      },
      "outputs": [
        {
          "output_type": "error",
          "ename": "NameError",
          "evalue": "ignored",
          "traceback": [
            "\u001b[0;31m---------------------------------------------------------------------------\u001b[0m",
            "\u001b[0;31mNameError\u001b[0m                                 Traceback (most recent call last)",
            "Input \u001b[0;32mIn [26]\u001b[0m, in \u001b[0;36m<cell line: 2>\u001b[0;34m()\u001b[0m\n\u001b[1;32m      1\u001b[0m \u001b[38;5;66;03m#scale the input values\u001b[39;00m\n\u001b[0;32m----> 2\u001b[0m scaled_x\u001b[38;5;241m=\u001b[39mscaler\u001b[38;5;241m.\u001b[39mtransform([\u001b[43mx\u001b[49m])\n\u001b[1;32m      3\u001b[0m scaled_x\n",
            "\u001b[0;31mNameError\u001b[0m: name 'x' is not defined"
          ]
        }
      ],
      "source": [
        "#scale the input values\n",
        "scaled_x=scaler.transform([x])\n",
        "scaled_x"
      ]
    },
    {
      "cell_type": "code",
      "execution_count": 27,
      "id": "23f8941e",
      "metadata": {
        "colab": {
          "base_uri": "https://localhost:8080/"
        },
        "id": "23f8941e",
        "outputId": "63b12418-9d26-4dbb-dd22-428ac08aaf90"
      },
      "outputs": [
        {
          "output_type": "execute_result",
          "data": {
            "text/plain": [
              "174"
            ]
          },
          "metadata": {},
          "execution_count": 27
        }
      ],
      "source": [
        "#predict drug encode\n",
        "drugenc=rf_model.predict([scaled_x[0]])\n",
        "drugenc[0]"
      ]
    },
    {
      "cell_type": "code",
      "execution_count": null,
      "id": "72e0d02d",
      "metadata": {
        "colab": {
          "base_uri": "https://localhost:8080/"
        },
        "id": "72e0d02d",
        "outputId": "66d4cb2b-8610-45bc-81dd-aa32a27788a0"
      },
      "outputs": [
        {
          "output_type": "stream",
          "name": "stderr",
          "text": [
            "/Users/Albert3/miniconda3/lib/python3.9/site-packages/sklearn/neural_network/_multilayer_perceptron.py:1118: DataConversionWarning: A column-vector y was passed when a 1d array was expected. Please change the shape of y to (n_samples, ), for example using ravel().\n",
            "  y = column_or_1d(y, warn=True)\n"
          ]
        }
      ],
      "source": [
        "#Neural Network\n",
        "from sklearn.neural_network import MLPClassifier\n",
        "clf = MLPClassifier(random_state=18, max_iter=1000)\n",
        "clf.fit(X,Y)"
      ]
    },
    {
      "cell_type": "code",
      "execution_count": null,
      "id": "a576e8d5",
      "metadata": {
        "id": "a576e8d5"
      },
      "outputs": [],
      "source": [
        "print(f\"Accuracy on train data by Random Forest Classifier\\: {accuracy_score(y_train,clf.predict(X_train))*100}\")"
      ]
    },
    {
      "cell_type": "code",
      "execution_count": null,
      "id": "088ee7a2",
      "metadata": {
        "id": "088ee7a2",
        "outputId": "46cbd1e3-4b29-45ae-eca9-954c5f255d21"
      },
      "outputs": [
        {
          "name": "stderr",
          "output_type": "stream",
          "text": [
            "C:\\Python310\\lib\\site-packages\\sklearn\\base.py:450: UserWarning: X does not have valid feature names, but StandardScaler was fitted with feature names\n",
            "  warnings.warn(\n"
          ]
        },
        {
          "data": {
            "text/plain": [
              "array([[-1.15091494, -0.25873143,  1.92319793,  2.74281057]])"
            ]
          },
          "execution_count": 11,
          "metadata": {},
          "output_type": "execute_result"
        }
      ],
      "source": [
        "#predict a specific value\n",
        "scaled_x=scaler.transform([[203,4,50,10.541691]])\n",
        "scaled_x"
      ]
    },
    {
      "cell_type": "code",
      "execution_count": null,
      "id": "66ff53c9",
      "metadata": {
        "id": "66ff53c9",
        "outputId": "99d872f3-a730-4675-b0a2-fd8bcb15d5ff"
      },
      "outputs": [
        {
          "data": {
            "text/plain": [
              "287"
            ]
          },
          "execution_count": 12,
          "metadata": {},
          "output_type": "execute_result"
        }
      ],
      "source": [
        "#predict drug encode\n",
        "drugenc=clf.predict([scaled_x[0]])\n",
        "drugenc[0]"
      ]
    },
    {
      "cell_type": "code",
      "execution_count": null,
      "id": "18118f31",
      "metadata": {
        "id": "18118f31",
        "outputId": "09c47a1c-5514-4889-c831-279daeafb323"
      },
      "outputs": [
        {
          "data": {
            "text/plain": [
              "'Camptothecin'"
            ]
          },
          "execution_count": 61,
          "metadata": {},
          "output_type": "execute_result"
        }
      ],
      "source": [
        "#return the drugname\n",
        "drugname=tframe['Drug Name'].where(tframe['Drug Nameenc']==drugenc[0])\n",
        "drugname.dropna(inplace=True)\n",
        "drugname.iloc[0]"
      ]
    },
    {
      "cell_type": "code",
      "execution_count": null,
      "id": "96d358e7",
      "metadata": {
        "id": "96d358e7",
        "outputId": "5fad39e8-dc5e-4c85-ba78-659c34da21ef"
      },
      "outputs": [
        {
          "data": {
            "text/plain": [
              "['rfclassifier.joblib']"
            ]
          },
          "execution_count": 63,
          "metadata": {},
          "output_type": "execute_result"
        }
      ],
      "source": [
        "#Save the classifier\n",
        "import joblib\n",
        "joblib.dump(rf_model,'rfclassifier.joblib',compress=5)"
      ]
    },
    {
      "cell_type": "code",
      "execution_count": null,
      "id": "b3bb5400",
      "metadata": {
        "id": "b3bb5400"
      },
      "outputs": [],
      "source": []
    }
  ],
  "metadata": {
    "kernelspec": {
      "display_name": "Python 3 (ipykernel)",
      "language": "python",
      "name": "python3"
    },
    "language_info": {
      "codemirror_mode": {
        "name": "ipython",
        "version": 3
      },
      "file_extension": ".py",
      "mimetype": "text/x-python",
      "name": "python",
      "nbconvert_exporter": "python",
      "pygments_lexer": "ipython3",
      "version": "3.10.7"
    },
    "colab": {
      "provenance": []
    }
  },
  "nbformat": 4,
  "nbformat_minor": 5
}