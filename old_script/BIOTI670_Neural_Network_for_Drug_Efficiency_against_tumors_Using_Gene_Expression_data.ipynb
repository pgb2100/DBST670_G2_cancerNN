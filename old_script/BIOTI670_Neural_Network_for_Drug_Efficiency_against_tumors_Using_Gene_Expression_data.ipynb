{
  "cells": [
    {
      "cell_type": "markdown",
      "id": "b05c990e",
      "metadata": {
        "id": "b05c990e"
      },
      "source": [
        "# BIOTI670-Neural Network for Drug Efficiency Against Tumors Using Gene Expression data\n",
        "We will use data from http://cancerrgene.org\n",
        "The drug with the lowest IC50 index is the drug that has the highest efficiency.The concentration of a drug or inhibitor needed to inhibit a biological process or response by 50%.IC50 is commonly used as a measure of drug potency in whole cell assays. IC50 assays are also used for screening in target-based drug discovery campaigns. I have included the gene expression cancer RNA-Seq Data Set from the https://archive.ics.uci.edu/ml/datasets/gene+expression+cancer+RNA-Seq# This collection of data is part of the RNA-Seq (HiSeq) PANCAN data set, it is a random extraction of gene expressions of patients having different types of tumor: BRCA, KIRC, COAD, LUAD and PRAD. The way this new code functions is selecting a cancer drug IC50 data (dfa) and comparing it to a cancer gene (dfb) to predict drug accuracy. \n",
        "\n"
      ]
    },
    {
      "cell_type": "markdown",
      "id": "5d7202fe",
      "metadata": {
        "id": "5d7202fe"
      },
      "source": [
        "## Libraries Needed\n",
        " - numpy\n",
        " - matplotlib\n",
        " - pandas\n",
        " - tensorflow\n",
        " - keras\n",
        " - scikit-learn"
      ]
    },
    {
      "cell_type": "markdown",
      "id": "91f3dde3",
      "metadata": {
        "id": "91f3dde3"
      },
      "source": [
        "## Import Python libraries"
      ]
    },
    {
      "cell_type": "code",
      "execution_count": 246,
      "id": "a0515dec",
      "metadata": {
        "id": "a0515dec"
      },
      "outputs": [],
      "source": [
        "# data handling\n",
        "import pandas as pd\n",
        "import numpy as np\n",
        "\n",
        "# data visualization\n",
        "import matplotlib.pyplot as plt\n",
        "import seaborn as sns\n",
        "\n",
        "# preprocessing\n",
        "from sklearn.model_selection import train_test_split\n",
        "from sklearn.preprocessing import LabelEncoder\n",
        "from sklearn.preprocessing import label_binarize\n",
        "from sklearn.preprocessing import MinMaxScaler\n",
        "\n",
        "# feature selection\n",
        "from sklearn.feature_selection import mutual_info_classif\n",
        "\n",
        "# classification\n",
        "from sklearn.multiclass import OneVsRestClassifier\n",
        "from sklearn.ensemble import RandomForestClassifier\n",
        "\n",
        "# neural building Libraries\n",
        "import tensorflow as tf\n",
        "from tensorflow import keras\n",
        "from keras.models import Sequential\n",
        "from keras.layers import Dense\n",
        "\n",
        "\n",
        "# performance metrics\n",
        "from sklearn.metrics import balanced_accuracy_score,f1_score,precision_score, recall_score\n",
        "from sklearn.metrics import classification_report\n",
        "from sklearn.metrics import confusion_matrix\n",
        "from sklearn.metrics import plot_confusion_matrix\n",
        "from sklearn.metrics import roc_curve,auc\n",
        "from sklearn.metrics import roc_auc_score\n",
        "from sklearn.svm import SVC\n"
      ]
    },
    {
      "cell_type": "markdown",
      "id": "b45976a3",
      "metadata": {
        "id": "b45976a3"
      },
      "source": [
        "## Read data"
      ]
    },
    {
      "cell_type": "code",
      "execution_count": 247,
      "id": "25a5cb29",
      "metadata": {
        "id": "25a5cb29"
      },
      "outputs": [],
      "source": [
        "#Read in data from csv files\n",
        "dfa = pd.read_csv(\"/Users/Albert3/Downloads/Cetuximab.csv\")\n",
        "dfb = pd.read_csv(\"/Users/Albert3/Downloads/cancer_gene_expression.csv\")\n",
        "\n",
        "\n"
      ]
    },
    {
      "cell_type": "code",
      "source": [
        "Cetuximab = pd.concat([dfa, dfb], ignore_index=True, sort =False)\n"
      ],
      "metadata": {
        "id": "fAVnFG5bju_G"
      },
      "id": "fAVnFG5bju_G",
      "execution_count": 248,
      "outputs": []
    },
    {
      "cell_type": "code",
      "source": [
        "# let's check the number of samples and features\n",
        "# note:the last column contain the labels. it is not considered as a feature\n",
        "\n",
        "print(dfb.shape)\n",
        "print(dfa.shape)"
      ],
      "metadata": {
        "colab": {
          "base_uri": "https://localhost:8080/"
        },
        "id": "rw9Lc2lPqE1e",
        "outputId": "6440ecfd-1841-44da-c4da-2cdbda271992"
      },
      "id": "rw9Lc2lPqE1e",
      "execution_count": 249,
      "outputs": [
        {
          "output_type": "stream",
          "name": "stdout",
          "text": [
            "(801, 8001)\n",
            "(862, 12)\n"
          ]
        }
      ]
    },
    {
      "cell_type": "code",
      "source": [
        "print(dfb['Cancer_Type'].value_counts())"
      ],
      "metadata": {
        "colab": {
          "base_uri": "https://localhost:8080/"
        },
        "id": "O30CtCLHGltV",
        "outputId": "13169d76-2c65-416c-c74a-286433f0661e"
      },
      "id": "O30CtCLHGltV",
      "execution_count": 250,
      "outputs": [
        {
          "output_type": "stream",
          "name": "stdout",
          "text": [
            "BRCA    300\n",
            "KIRC    146\n",
            "LUAD    141\n",
            "PRAD    136\n",
            "COAD     78\n",
            "Name: Cancer_Type, dtype: int64\n"
          ]
        }
      ]
    },
    {
      "cell_type": "code",
      "source": [
        "#let's check some of the columns \n",
        "print(dfb.columns[0:14])\n",
        "print(dfa.columns [0:15])"
      ],
      "metadata": {
        "colab": {
          "base_uri": "https://localhost:8080/"
        },
        "id": "gNPt1CqZp5u5",
        "outputId": "d669f8fc-3c7b-45a2-ab15-ecea69ad9c6f"
      },
      "id": "gNPt1CqZp5u5",
      "execution_count": 252,
      "outputs": [
        {
          "output_type": "stream",
          "name": "stdout",
          "text": [
            "Index(['gene_1', 'gene_2', 'gene_3', 'gene_4', 'gene_5', 'gene_6', 'gene_7',\n",
            "       'gene_8', 'gene_9', 'gene_10', 'gene_11', 'gene_12', 'gene_13',\n",
            "       'gene_14'],\n",
            "      dtype='object')\n",
            "Index(['Drug Name', 'Drug ID', 'Cell Line Name', 'Cosmic ID',\n",
            "       'TCGA Classification', 'Tissue', 'Tissue Sub-type', 'IC50', 'AUC',\n",
            "       'Max Conc', 'RMSE', 'Z score'],\n",
            "      dtype='object')\n"
          ]
        }
      ]
    },
    {
      "cell_type": "code",
      "execution_count": 253,
      "metadata": {
        "colab": {
          "base_uri": "https://localhost:8080/"
        },
        "outputId": "b532e2bb-7f98-4170-ef56-36ba347e4dff",
        "id": "eXBnlwWGq8jI"
      },
      "outputs": [
        {
          "output_type": "execute_result",
          "data": {
            "text/plain": [
              "Index(['Drug Name'], dtype='object')"
            ]
          },
          "metadata": {},
          "execution_count": 253
        }
      ],
      "source": [
        "#lets check the name of the columns of this dataframe\n",
        "dfb.columns[0:5]\n",
        "dfa.columns[0:1]\n"
      ],
      "id": "eXBnlwWGq8jI"
    },
    {
      "cell_type": "code",
      "execution_count": 254,
      "metadata": {
        "colab": {
          "base_uri": "https://localhost:8080/"
        },
        "id": "229679e0",
        "outputId": "8763514c-d46e-4ccb-9ee7-f6ac6b13e9b3"
      },
      "outputs": [
        {
          "output_type": "stream",
          "name": "stdout",
          "text": [
            "columns with missing values:0\n"
          ]
        }
      ],
      "source": [
        "#check for missing values\n",
        "datanul=dfb.isnull().sum()\n",
        "g=[i for i in datanul if i>0]\n",
        "\n",
        "print('columns with missing values:%d'%len(g))"
      ],
      "id": "229679e0"
    },
    {
      "cell_type": "markdown",
      "id": "e214ad93",
      "metadata": {
        "id": "e214ad93"
      },
      "source": [
        "## Data Exploration & Cleaning\n",
        "Data cleaning is very important in machine learning as it makes our data to be of a high quality for better results.\n",
        "- Here we will check for Null values and remove them for greater accuracy\\\n",
        "- In the exploration stage we will see the structure of our data, the columns, rows and their numbers\n",
        "\n",
        "\n"
      ]
    },
    {
      "cell_type": "code",
      "execution_count": 255,
      "id": "18e48d71",
      "metadata": {
        "id": "18e48d71",
        "scrolled": true,
        "colab": {
          "base_uri": "https://localhost:8080/",
          "height": 256
        },
        "outputId": "a0f16042-4bb4-4fb4-cf53-df93445f035b"
      },
      "outputs": [
        {
          "output_type": "execute_result",
          "data": {
            "text/plain": [
              "   gene_1  gene_2  gene_3    gene_4  gene_5  gene_6  gene_7  gene_8    gene_9  \\\n",
              "0     0.0     0.0     0.0  2.088413     0.0     0.0     0.0     0.0  0.550605   \n",
              "1     0.0     0.0     0.0  3.205955     0.0     0.0     0.0     0.0  0.425244   \n",
              "2     0.0     0.0     0.0  4.746646     0.0     0.0     0.0     0.0  2.639417   \n",
              "3     0.0     0.0     0.0  1.173191     0.0     0.0     0.0     0.0  1.527371   \n",
              "4     0.0     0.0     0.0  1.366532     0.0     0.0     0.0     0.0  0.000000   \n",
              "\n",
              "    gene_10  ...  gene_7992  gene_7993  gene_7994  gene_7995  gene_7996  \\\n",
              "0  2.815760  ...  11.558803   8.881802   6.014840   6.643534  11.740624   \n",
              "1  2.354396  ...  11.062829   9.032864   5.054193   6.432320  12.104985   \n",
              "2  1.657091  ...  12.497640   7.198160   0.943434   7.371690  11.202356   \n",
              "3  2.732899  ...  11.261713   8.725676   6.300418   6.036451  11.732303   \n",
              "4  3.388355  ...  12.241965   7.685204   5.142948   6.355788  11.493950   \n",
              "\n",
              "   gene_7997  gene_7998  gene_7999  gene_8000  Cancer_Type  \n",
              "0   7.065012   9.932659   6.928584   2.088413         KIRC  \n",
              "1   7.300746   9.872796   5.039231   2.448002         KIRC  \n",
              "2   8.426588  11.176890   3.119738   4.433988         BRCA  \n",
              "3   7.559469   9.596453   2.863046   3.380342         KIRC  \n",
              "4   8.139444  10.189256   6.544487   0.839395         COAD  \n",
              "\n",
              "[5 rows x 8001 columns]"
            ],
            "text/html": [
              "<div>\n",
              "<style scoped>\n",
              "    .dataframe tbody tr th:only-of-type {\n",
              "        vertical-align: middle;\n",
              "    }\n",
              "\n",
              "    .dataframe tbody tr th {\n",
              "        vertical-align: top;\n",
              "    }\n",
              "\n",
              "    .dataframe thead th {\n",
              "        text-align: right;\n",
              "    }\n",
              "</style>\n",
              "<table border=\"1\" class=\"dataframe\">\n",
              "  <thead>\n",
              "    <tr style=\"text-align: right;\">\n",
              "      <th></th>\n",
              "      <th>gene_1</th>\n",
              "      <th>gene_2</th>\n",
              "      <th>gene_3</th>\n",
              "      <th>gene_4</th>\n",
              "      <th>gene_5</th>\n",
              "      <th>gene_6</th>\n",
              "      <th>gene_7</th>\n",
              "      <th>gene_8</th>\n",
              "      <th>gene_9</th>\n",
              "      <th>gene_10</th>\n",
              "      <th>...</th>\n",
              "      <th>gene_7992</th>\n",
              "      <th>gene_7993</th>\n",
              "      <th>gene_7994</th>\n",
              "      <th>gene_7995</th>\n",
              "      <th>gene_7996</th>\n",
              "      <th>gene_7997</th>\n",
              "      <th>gene_7998</th>\n",
              "      <th>gene_7999</th>\n",
              "      <th>gene_8000</th>\n",
              "      <th>Cancer_Type</th>\n",
              "    </tr>\n",
              "  </thead>\n",
              "  <tbody>\n",
              "    <tr>\n",
              "      <th>0</th>\n",
              "      <td>0.0</td>\n",
              "      <td>0.0</td>\n",
              "      <td>0.0</td>\n",
              "      <td>2.088413</td>\n",
              "      <td>0.0</td>\n",
              "      <td>0.0</td>\n",
              "      <td>0.0</td>\n",
              "      <td>0.0</td>\n",
              "      <td>0.550605</td>\n",
              "      <td>2.815760</td>\n",
              "      <td>...</td>\n",
              "      <td>11.558803</td>\n",
              "      <td>8.881802</td>\n",
              "      <td>6.014840</td>\n",
              "      <td>6.643534</td>\n",
              "      <td>11.740624</td>\n",
              "      <td>7.065012</td>\n",
              "      <td>9.932659</td>\n",
              "      <td>6.928584</td>\n",
              "      <td>2.088413</td>\n",
              "      <td>KIRC</td>\n",
              "    </tr>\n",
              "    <tr>\n",
              "      <th>1</th>\n",
              "      <td>0.0</td>\n",
              "      <td>0.0</td>\n",
              "      <td>0.0</td>\n",
              "      <td>3.205955</td>\n",
              "      <td>0.0</td>\n",
              "      <td>0.0</td>\n",
              "      <td>0.0</td>\n",
              "      <td>0.0</td>\n",
              "      <td>0.425244</td>\n",
              "      <td>2.354396</td>\n",
              "      <td>...</td>\n",
              "      <td>11.062829</td>\n",
              "      <td>9.032864</td>\n",
              "      <td>5.054193</td>\n",
              "      <td>6.432320</td>\n",
              "      <td>12.104985</td>\n",
              "      <td>7.300746</td>\n",
              "      <td>9.872796</td>\n",
              "      <td>5.039231</td>\n",
              "      <td>2.448002</td>\n",
              "      <td>KIRC</td>\n",
              "    </tr>\n",
              "    <tr>\n",
              "      <th>2</th>\n",
              "      <td>0.0</td>\n",
              "      <td>0.0</td>\n",
              "      <td>0.0</td>\n",
              "      <td>4.746646</td>\n",
              "      <td>0.0</td>\n",
              "      <td>0.0</td>\n",
              "      <td>0.0</td>\n",
              "      <td>0.0</td>\n",
              "      <td>2.639417</td>\n",
              "      <td>1.657091</td>\n",
              "      <td>...</td>\n",
              "      <td>12.497640</td>\n",
              "      <td>7.198160</td>\n",
              "      <td>0.943434</td>\n",
              "      <td>7.371690</td>\n",
              "      <td>11.202356</td>\n",
              "      <td>8.426588</td>\n",
              "      <td>11.176890</td>\n",
              "      <td>3.119738</td>\n",
              "      <td>4.433988</td>\n",
              "      <td>BRCA</td>\n",
              "    </tr>\n",
              "    <tr>\n",
              "      <th>3</th>\n",
              "      <td>0.0</td>\n",
              "      <td>0.0</td>\n",
              "      <td>0.0</td>\n",
              "      <td>1.173191</td>\n",
              "      <td>0.0</td>\n",
              "      <td>0.0</td>\n",
              "      <td>0.0</td>\n",
              "      <td>0.0</td>\n",
              "      <td>1.527371</td>\n",
              "      <td>2.732899</td>\n",
              "      <td>...</td>\n",
              "      <td>11.261713</td>\n",
              "      <td>8.725676</td>\n",
              "      <td>6.300418</td>\n",
              "      <td>6.036451</td>\n",
              "      <td>11.732303</td>\n",
              "      <td>7.559469</td>\n",
              "      <td>9.596453</td>\n",
              "      <td>2.863046</td>\n",
              "      <td>3.380342</td>\n",
              "      <td>KIRC</td>\n",
              "    </tr>\n",
              "    <tr>\n",
              "      <th>4</th>\n",
              "      <td>0.0</td>\n",
              "      <td>0.0</td>\n",
              "      <td>0.0</td>\n",
              "      <td>1.366532</td>\n",
              "      <td>0.0</td>\n",
              "      <td>0.0</td>\n",
              "      <td>0.0</td>\n",
              "      <td>0.0</td>\n",
              "      <td>0.000000</td>\n",
              "      <td>3.388355</td>\n",
              "      <td>...</td>\n",
              "      <td>12.241965</td>\n",
              "      <td>7.685204</td>\n",
              "      <td>5.142948</td>\n",
              "      <td>6.355788</td>\n",
              "      <td>11.493950</td>\n",
              "      <td>8.139444</td>\n",
              "      <td>10.189256</td>\n",
              "      <td>6.544487</td>\n",
              "      <td>0.839395</td>\n",
              "      <td>COAD</td>\n",
              "    </tr>\n",
              "  </tbody>\n",
              "</table>\n",
              "<p>5 rows × 8001 columns</p>\n",
              "</div>"
            ]
          },
          "metadata": {},
          "execution_count": 255
        }
      ],
      "source": [
        "# How to check the rows of your data. By placing a number within the () you can control how much you can see.\n",
        "dfa.head(3)\n",
        "dfb.head(5)"
      ]
    },
    {
      "cell_type": "markdown",
      "source": [
        "# New Section"
      ],
      "metadata": {
        "id": "dn6QYjhAORNu"
      },
      "id": "dn6QYjhAORNu"
    },
    {
      "cell_type": "code",
      "execution_count": 256,
      "id": "7e833043",
      "metadata": {
        "id": "7e833043",
        "colab": {
          "base_uri": "https://localhost:8080/"
        },
        "outputId": "3e549020-4bab-42f9-a33b-190bc60ea829"
      },
      "outputs": [
        {
          "output_type": "execute_result",
          "data": {
            "text/plain": [
              "gene_1         0\n",
              "gene_2         0\n",
              "gene_3         0\n",
              "gene_4         0\n",
              "gene_5         0\n",
              "              ..\n",
              "gene_7997      0\n",
              "gene_7998      0\n",
              "gene_7999      0\n",
              "gene_8000      0\n",
              "Cancer_Type    0\n",
              "Length: 8001, dtype: int64"
            ]
          },
          "metadata": {},
          "execution_count": 256
        }
      ],
      "source": [
        "# Checking for any null values in our dataset\n",
        "dfb.isnull().sum()\n"
      ]
    },
    {
      "cell_type": "markdown",
      "id": "642759be",
      "metadata": {
        "id": "642759be"
      },
      "source": []
    },
    {
      "cell_type": "markdown",
      "id": "79b44abc",
      "metadata": {
        "id": "79b44abc"
      },
      "source": [
        "## Dropping the null values"
      ]
    },
    {
      "cell_type": "code",
      "execution_count": 257,
      "id": "2aee3bf1",
      "metadata": {
        "id": "2aee3bf1",
        "colab": {
          "base_uri": "https://localhost:8080/",
          "height": 444
        },
        "outputId": "09a14050-e563-4401-d9c6-6739364f6054"
      },
      "outputs": [
        {
          "output_type": "execute_result",
          "data": {
            "text/plain": [
              "     gene_1    gene_2  gene_3    gene_4  gene_5  gene_6  gene_7  gene_8  \\\n",
              "0       0.0  0.000000     0.0  2.088413     0.0     0.0     0.0     0.0   \n",
              "1       0.0  0.000000     0.0  3.205955     0.0     0.0     0.0     0.0   \n",
              "2       0.0  0.000000     0.0  4.746646     0.0     0.0     0.0     0.0   \n",
              "3       0.0  0.000000     0.0  1.173191     0.0     0.0     0.0     0.0   \n",
              "4       0.0  0.000000     0.0  1.366532     0.0     0.0     0.0     0.0   \n",
              "..      ...       ...     ...       ...     ...     ...     ...     ...   \n",
              "796     0.0  2.933384     0.0  1.683921     0.0     0.0     0.0     0.0   \n",
              "797     0.0  0.000000     0.0  2.772625     0.0     0.0     0.0     0.0   \n",
              "798     0.0  0.408277     0.0  1.854754     0.0     0.0     0.0     0.0   \n",
              "799     0.0  0.639232     0.0  3.226971     0.0     0.0     0.0     0.0   \n",
              "800     0.0  0.000000     0.0  2.336912     0.0     0.0     0.0     0.0   \n",
              "\n",
              "       gene_9   gene_10  ...  gene_7992  gene_7993  gene_7994  gene_7995  \\\n",
              "0    0.550605  2.815760  ...  11.558803   8.881802   6.014840   6.643534   \n",
              "1    0.425244  2.354396  ...  11.062829   9.032864   5.054193   6.432320   \n",
              "2    2.639417  1.657091  ...  12.497640   7.198160   0.943434   7.371690   \n",
              "3    1.527371  2.732899  ...  11.261713   8.725676   6.300418   6.036451   \n",
              "4    0.000000  3.388355  ...  12.241965   7.685204   5.142948   6.355788   \n",
              "..        ...       ...  ...        ...        ...        ...        ...   \n",
              "796  0.635336  1.252839  ...   9.985842   9.469967   4.225275   6.955336   \n",
              "797  0.534759  3.761764  ...  12.334681   8.157327   1.482797   6.758183   \n",
              "798  0.000000  0.986520  ...  11.671992   8.859616   6.393828   6.427115   \n",
              "799  1.921322  0.639232  ...  12.237087   5.753976   4.192478   6.614875   \n",
              "800  0.926379  1.233090  ...  11.086966   8.345086   7.789018   6.472460   \n",
              "\n",
              "     gene_7996  gene_7997  gene_7998  gene_7999  gene_8000  Cancer_Type  \n",
              "0    11.740624   7.065012   9.932659   6.928584   2.088413         KIRC  \n",
              "1    12.104985   7.300746   9.872796   5.039231   2.448002         KIRC  \n",
              "2    11.202356   8.426588  11.176890   3.119738   4.433988         BRCA  \n",
              "3    11.732303   7.559469   9.596453   2.863046   3.380342         KIRC  \n",
              "4    11.493950   8.139444  10.189256   6.544487   0.839395         COAD  \n",
              "..         ...        ...        ...        ...        ...          ...  \n",
              "796  11.722206   7.309940  10.986119   6.396848   1.252839         BRCA  \n",
              "797  11.403838   9.005347  11.012045   5.386625   1.697640         COAD  \n",
              "798  11.596586   7.454127  10.718533   5.507417   1.398131         BRCA  \n",
              "799  11.183245   7.544261  10.649382   5.282158   0.639232         BRCA  \n",
              "800  11.819836   8.082942  10.397717   7.550000   0.926379         COAD  \n",
              "\n",
              "[801 rows x 8001 columns]"
            ],
            "text/html": [
              "<div>\n",
              "<style scoped>\n",
              "    .dataframe tbody tr th:only-of-type {\n",
              "        vertical-align: middle;\n",
              "    }\n",
              "\n",
              "    .dataframe tbody tr th {\n",
              "        vertical-align: top;\n",
              "    }\n",
              "\n",
              "    .dataframe thead th {\n",
              "        text-align: right;\n",
              "    }\n",
              "</style>\n",
              "<table border=\"1\" class=\"dataframe\">\n",
              "  <thead>\n",
              "    <tr style=\"text-align: right;\">\n",
              "      <th></th>\n",
              "      <th>gene_1</th>\n",
              "      <th>gene_2</th>\n",
              "      <th>gene_3</th>\n",
              "      <th>gene_4</th>\n",
              "      <th>gene_5</th>\n",
              "      <th>gene_6</th>\n",
              "      <th>gene_7</th>\n",
              "      <th>gene_8</th>\n",
              "      <th>gene_9</th>\n",
              "      <th>gene_10</th>\n",
              "      <th>...</th>\n",
              "      <th>gene_7992</th>\n",
              "      <th>gene_7993</th>\n",
              "      <th>gene_7994</th>\n",
              "      <th>gene_7995</th>\n",
              "      <th>gene_7996</th>\n",
              "      <th>gene_7997</th>\n",
              "      <th>gene_7998</th>\n",
              "      <th>gene_7999</th>\n",
              "      <th>gene_8000</th>\n",
              "      <th>Cancer_Type</th>\n",
              "    </tr>\n",
              "  </thead>\n",
              "  <tbody>\n",
              "    <tr>\n",
              "      <th>0</th>\n",
              "      <td>0.0</td>\n",
              "      <td>0.000000</td>\n",
              "      <td>0.0</td>\n",
              "      <td>2.088413</td>\n",
              "      <td>0.0</td>\n",
              "      <td>0.0</td>\n",
              "      <td>0.0</td>\n",
              "      <td>0.0</td>\n",
              "      <td>0.550605</td>\n",
              "      <td>2.815760</td>\n",
              "      <td>...</td>\n",
              "      <td>11.558803</td>\n",
              "      <td>8.881802</td>\n",
              "      <td>6.014840</td>\n",
              "      <td>6.643534</td>\n",
              "      <td>11.740624</td>\n",
              "      <td>7.065012</td>\n",
              "      <td>9.932659</td>\n",
              "      <td>6.928584</td>\n",
              "      <td>2.088413</td>\n",
              "      <td>KIRC</td>\n",
              "    </tr>\n",
              "    <tr>\n",
              "      <th>1</th>\n",
              "      <td>0.0</td>\n",
              "      <td>0.000000</td>\n",
              "      <td>0.0</td>\n",
              "      <td>3.205955</td>\n",
              "      <td>0.0</td>\n",
              "      <td>0.0</td>\n",
              "      <td>0.0</td>\n",
              "      <td>0.0</td>\n",
              "      <td>0.425244</td>\n",
              "      <td>2.354396</td>\n",
              "      <td>...</td>\n",
              "      <td>11.062829</td>\n",
              "      <td>9.032864</td>\n",
              "      <td>5.054193</td>\n",
              "      <td>6.432320</td>\n",
              "      <td>12.104985</td>\n",
              "      <td>7.300746</td>\n",
              "      <td>9.872796</td>\n",
              "      <td>5.039231</td>\n",
              "      <td>2.448002</td>\n",
              "      <td>KIRC</td>\n",
              "    </tr>\n",
              "    <tr>\n",
              "      <th>2</th>\n",
              "      <td>0.0</td>\n",
              "      <td>0.000000</td>\n",
              "      <td>0.0</td>\n",
              "      <td>4.746646</td>\n",
              "      <td>0.0</td>\n",
              "      <td>0.0</td>\n",
              "      <td>0.0</td>\n",
              "      <td>0.0</td>\n",
              "      <td>2.639417</td>\n",
              "      <td>1.657091</td>\n",
              "      <td>...</td>\n",
              "      <td>12.497640</td>\n",
              "      <td>7.198160</td>\n",
              "      <td>0.943434</td>\n",
              "      <td>7.371690</td>\n",
              "      <td>11.202356</td>\n",
              "      <td>8.426588</td>\n",
              "      <td>11.176890</td>\n",
              "      <td>3.119738</td>\n",
              "      <td>4.433988</td>\n",
              "      <td>BRCA</td>\n",
              "    </tr>\n",
              "    <tr>\n",
              "      <th>3</th>\n",
              "      <td>0.0</td>\n",
              "      <td>0.000000</td>\n",
              "      <td>0.0</td>\n",
              "      <td>1.173191</td>\n",
              "      <td>0.0</td>\n",
              "      <td>0.0</td>\n",
              "      <td>0.0</td>\n",
              "      <td>0.0</td>\n",
              "      <td>1.527371</td>\n",
              "      <td>2.732899</td>\n",
              "      <td>...</td>\n",
              "      <td>11.261713</td>\n",
              "      <td>8.725676</td>\n",
              "      <td>6.300418</td>\n",
              "      <td>6.036451</td>\n",
              "      <td>11.732303</td>\n",
              "      <td>7.559469</td>\n",
              "      <td>9.596453</td>\n",
              "      <td>2.863046</td>\n",
              "      <td>3.380342</td>\n",
              "      <td>KIRC</td>\n",
              "    </tr>\n",
              "    <tr>\n",
              "      <th>4</th>\n",
              "      <td>0.0</td>\n",
              "      <td>0.000000</td>\n",
              "      <td>0.0</td>\n",
              "      <td>1.366532</td>\n",
              "      <td>0.0</td>\n",
              "      <td>0.0</td>\n",
              "      <td>0.0</td>\n",
              "      <td>0.0</td>\n",
              "      <td>0.000000</td>\n",
              "      <td>3.388355</td>\n",
              "      <td>...</td>\n",
              "      <td>12.241965</td>\n",
              "      <td>7.685204</td>\n",
              "      <td>5.142948</td>\n",
              "      <td>6.355788</td>\n",
              "      <td>11.493950</td>\n",
              "      <td>8.139444</td>\n",
              "      <td>10.189256</td>\n",
              "      <td>6.544487</td>\n",
              "      <td>0.839395</td>\n",
              "      <td>COAD</td>\n",
              "    </tr>\n",
              "    <tr>\n",
              "      <th>...</th>\n",
              "      <td>...</td>\n",
              "      <td>...</td>\n",
              "      <td>...</td>\n",
              "      <td>...</td>\n",
              "      <td>...</td>\n",
              "      <td>...</td>\n",
              "      <td>...</td>\n",
              "      <td>...</td>\n",
              "      <td>...</td>\n",
              "      <td>...</td>\n",
              "      <td>...</td>\n",
              "      <td>...</td>\n",
              "      <td>...</td>\n",
              "      <td>...</td>\n",
              "      <td>...</td>\n",
              "      <td>...</td>\n",
              "      <td>...</td>\n",
              "      <td>...</td>\n",
              "      <td>...</td>\n",
              "      <td>...</td>\n",
              "      <td>...</td>\n",
              "    </tr>\n",
              "    <tr>\n",
              "      <th>796</th>\n",
              "      <td>0.0</td>\n",
              "      <td>2.933384</td>\n",
              "      <td>0.0</td>\n",
              "      <td>1.683921</td>\n",
              "      <td>0.0</td>\n",
              "      <td>0.0</td>\n",
              "      <td>0.0</td>\n",
              "      <td>0.0</td>\n",
              "      <td>0.635336</td>\n",
              "      <td>1.252839</td>\n",
              "      <td>...</td>\n",
              "      <td>9.985842</td>\n",
              "      <td>9.469967</td>\n",
              "      <td>4.225275</td>\n",
              "      <td>6.955336</td>\n",
              "      <td>11.722206</td>\n",
              "      <td>7.309940</td>\n",
              "      <td>10.986119</td>\n",
              "      <td>6.396848</td>\n",
              "      <td>1.252839</td>\n",
              "      <td>BRCA</td>\n",
              "    </tr>\n",
              "    <tr>\n",
              "      <th>797</th>\n",
              "      <td>0.0</td>\n",
              "      <td>0.000000</td>\n",
              "      <td>0.0</td>\n",
              "      <td>2.772625</td>\n",
              "      <td>0.0</td>\n",
              "      <td>0.0</td>\n",
              "      <td>0.0</td>\n",
              "      <td>0.0</td>\n",
              "      <td>0.534759</td>\n",
              "      <td>3.761764</td>\n",
              "      <td>...</td>\n",
              "      <td>12.334681</td>\n",
              "      <td>8.157327</td>\n",
              "      <td>1.482797</td>\n",
              "      <td>6.758183</td>\n",
              "      <td>11.403838</td>\n",
              "      <td>9.005347</td>\n",
              "      <td>11.012045</td>\n",
              "      <td>5.386625</td>\n",
              "      <td>1.697640</td>\n",
              "      <td>COAD</td>\n",
              "    </tr>\n",
              "    <tr>\n",
              "      <th>798</th>\n",
              "      <td>0.0</td>\n",
              "      <td>0.408277</td>\n",
              "      <td>0.0</td>\n",
              "      <td>1.854754</td>\n",
              "      <td>0.0</td>\n",
              "      <td>0.0</td>\n",
              "      <td>0.0</td>\n",
              "      <td>0.0</td>\n",
              "      <td>0.000000</td>\n",
              "      <td>0.986520</td>\n",
              "      <td>...</td>\n",
              "      <td>11.671992</td>\n",
              "      <td>8.859616</td>\n",
              "      <td>6.393828</td>\n",
              "      <td>6.427115</td>\n",
              "      <td>11.596586</td>\n",
              "      <td>7.454127</td>\n",
              "      <td>10.718533</td>\n",
              "      <td>5.507417</td>\n",
              "      <td>1.398131</td>\n",
              "      <td>BRCA</td>\n",
              "    </tr>\n",
              "    <tr>\n",
              "      <th>799</th>\n",
              "      <td>0.0</td>\n",
              "      <td>0.639232</td>\n",
              "      <td>0.0</td>\n",
              "      <td>3.226971</td>\n",
              "      <td>0.0</td>\n",
              "      <td>0.0</td>\n",
              "      <td>0.0</td>\n",
              "      <td>0.0</td>\n",
              "      <td>1.921322</td>\n",
              "      <td>0.639232</td>\n",
              "      <td>...</td>\n",
              "      <td>12.237087</td>\n",
              "      <td>5.753976</td>\n",
              "      <td>4.192478</td>\n",
              "      <td>6.614875</td>\n",
              "      <td>11.183245</td>\n",
              "      <td>7.544261</td>\n",
              "      <td>10.649382</td>\n",
              "      <td>5.282158</td>\n",
              "      <td>0.639232</td>\n",
              "      <td>BRCA</td>\n",
              "    </tr>\n",
              "    <tr>\n",
              "      <th>800</th>\n",
              "      <td>0.0</td>\n",
              "      <td>0.000000</td>\n",
              "      <td>0.0</td>\n",
              "      <td>2.336912</td>\n",
              "      <td>0.0</td>\n",
              "      <td>0.0</td>\n",
              "      <td>0.0</td>\n",
              "      <td>0.0</td>\n",
              "      <td>0.926379</td>\n",
              "      <td>1.233090</td>\n",
              "      <td>...</td>\n",
              "      <td>11.086966</td>\n",
              "      <td>8.345086</td>\n",
              "      <td>7.789018</td>\n",
              "      <td>6.472460</td>\n",
              "      <td>11.819836</td>\n",
              "      <td>8.082942</td>\n",
              "      <td>10.397717</td>\n",
              "      <td>7.550000</td>\n",
              "      <td>0.926379</td>\n",
              "      <td>COAD</td>\n",
              "    </tr>\n",
              "  </tbody>\n",
              "</table>\n",
              "<p>801 rows × 8001 columns</p>\n",
              "</div>"
            ]
          },
          "metadata": {},
          "execution_count": 257
        }
      ],
      "source": [
        "# Dropping The rows that have the null values so our data may be accurate as possible\n",
        "dfa = dfa.dropna(axis=0, how = \"any\", thresh=None, inplace=False)\n",
        "dfb\n"
      ]
    },
    {
      "cell_type": "code",
      "execution_count": 258,
      "id": "d0560c5a",
      "metadata": {
        "id": "d0560c5a",
        "scrolled": true,
        "colab": {
          "base_uri": "https://localhost:8080/"
        },
        "outputId": "a5420323-be0c-4b6d-fe42-63908a05fb8d"
      },
      "outputs": [
        {
          "output_type": "execute_result",
          "data": {
            "text/plain": [
              "Drug Name              False\n",
              "Drug ID                False\n",
              "Cell Line Name         False\n",
              "Cosmic ID              False\n",
              "TCGA Classification    False\n",
              "Tissue                 False\n",
              "Tissue Sub-type        False\n",
              "IC50                   False\n",
              "AUC                    False\n",
              "Max Conc               False\n",
              "RMSE                   False\n",
              "Z score                False\n",
              "dtype: bool"
            ]
          },
          "metadata": {},
          "execution_count": 258
        }
      ],
      "source": [
        "# Checking if the Null Values have been dropped\n",
        "dfa.isnull().any()"
      ]
    },
    {
      "cell_type": "markdown",
      "id": "06de986f",
      "metadata": {
        "id": "06de986f"
      },
      "source": [
        "As it can be seen our data is now cleaned and does not contain any rows that have null values"
      ]
    },
    {
      "cell_type": "markdown",
      "id": "895e1fef",
      "metadata": {
        "id": "895e1fef"
      },
      "source": [
        "## Checking for the drugs that our data set contains"
      ]
    },
    {
      "cell_type": "code",
      "execution_count": 273,
      "id": "7b83f72b",
      "metadata": {
        "id": "7b83f72b",
        "colab": {
          "base_uri": "https://localhost:8080/"
        },
        "outputId": "e53077a0-3f64-449a-acf7-265ca272f3e4"
      },
      "outputs": [
        {
          "output_type": "execute_result",
          "data": {
            "text/plain": [
              "0.000000     742\n",
              "0.387032       1\n",
              "2.828530       1\n",
              "1.039349       1\n",
              "1.734395       1\n",
              "1.463989       1\n",
              "9.303011       1\n",
              "0.457647       1\n",
              "1.318114       1\n",
              "6.639255       1\n",
              "0.785592       1\n",
              "0.562181       1\n",
              "0.792772       1\n",
              "10.017198      1\n",
              "3.176817       1\n",
              "1.063986       1\n",
              "0.427070       1\n",
              "0.374622       1\n",
              "0.363451       1\n",
              "0.580628       1\n",
              "0.349252       1\n",
              "1.531619       1\n",
              "1.731835       1\n",
              "3.115666       1\n",
              "7.880447       1\n",
              "1.954829       1\n",
              "0.472072       1\n",
              "0.416083       1\n",
              "11.764071      1\n",
              "2.647338       1\n",
              "0.617581       1\n",
              "1.239520       1\n",
              "0.614663       1\n",
              "0.638584       1\n",
              "2.355411       1\n",
              "2.255410       1\n",
              "1.078542       1\n",
              "0.566572       1\n",
              "1.795684       1\n",
              "1.492981       1\n",
              "5.271568       1\n",
              "0.345851       1\n",
              "2.947124       1\n",
              "3.104588       1\n",
              "1.440686       1\n",
              "0.695905       1\n",
              "7.538926       1\n",
              "7.903569       1\n",
              "8.519687       1\n",
              "0.356482       1\n",
              "1.321582       1\n",
              "9.011437       1\n",
              "2.797698       1\n",
              "5.702536       1\n",
              "0.357608       1\n",
              "4.814714       1\n",
              "8.360593       1\n",
              "1.509747       1\n",
              "9.665164       1\n",
              "0.924100       1\n",
              "Name: gene_1000, dtype: int64"
            ]
          },
          "metadata": {},
          "execution_count": 273
        }
      ],
      "source": [
        "dfa[\"IC50\"].value_counts()\n",
        "dfb[\"gene_1000\"].value_counts()"
      ]
    },
    {
      "cell_type": "markdown",
      "id": "046d64c6",
      "metadata": {
        "id": "046d64c6"
      },
      "source": [
        "We can see that there are 288 drugs we can also see the number of samples of the drug."
      ]
    },
    {
      "cell_type": "markdown",
      "id": "7a0e165b",
      "metadata": {
        "id": "7a0e165b"
      },
      "source": [
        " \n",
        "## **Data preprocesing** \n",
        "This is done to put the data in an appropriate format before modelling\n"
      ]
    },
    {
      "cell_type": "code",
      "source": [
        "# in our data we will used= the following columns to develop our model that will be assigned to x and y variables\n",
        "X=dfb[[\"gene_1000\" ]].values\n",
        "y= dfa[[\"IC50\"]].values"
      ],
      "metadata": {
        "id": "DqgztmAsDmGo"
      },
      "id": "DqgztmAsDmGo",
      "execution_count": 274,
      "outputs": []
    },
    {
      "cell_type": "markdown",
      "id": "264a01cb",
      "metadata": {
        "id": "264a01cb"
      },
      "source": [
        "\\\n",
        "**Encode labels**\n",
        "\n",
        "The labels for this data are categorical and we therefore have to convert them to numeric forms. This is referred to as encoding. Machine learning models usually require input data to be in numeric forms."
      ]
    },
    {
      "cell_type": "code",
      "execution_count": 275,
      "id": "b251f08b",
      "metadata": {
        "id": "b251f08b",
        "colab": {
          "base_uri": "https://localhost:8080/"
        },
        "outputId": "52469674-85b0-49b4-9331-98394251773f"
      },
      "outputs": [
        {
          "output_type": "stream",
          "name": "stderr",
          "text": [
            "/Users/Albert3/miniconda3/lib/python3.9/site-packages/sklearn/preprocessing/_label.py:98: DataConversionWarning: A column-vector y was passed when a 1d array was expected. Please change the shape of y to (n_samples, ), for example using ravel().\n",
            "  y = column_or_1d(y, warn=True)\n",
            "/Users/Albert3/miniconda3/lib/python3.9/site-packages/sklearn/preprocessing/_label.py:133: DataConversionWarning: A column-vector y was passed when a 1d array was expected. Please change the shape of y to (n_samples, ), for example using ravel().\n",
            "  y = column_or_1d(y, warn=True)\n"
          ]
        }
      ],
      "source": [
        "#let's encode target labels (y) with values between 0 and n_classes-1.\n",
        "# we will be using LabelEncoder to perform the encoding\n",
        "label_encoder=LabelEncoder()\n",
        "label_encoder.fit(X)\n",
        "y=label_encoder.transform(X)\n",
        "labels=label_encoder.classes_\n",
        "classes=np.unique(X)\n",
        "nclasses=np.unique(X).shape[0]"
      ]
    },
    {
      "cell_type": "markdown",
      "id": "5f68c4f6",
      "metadata": {
        "id": "5f68c4f6"
      },
      "source": [
        "\\\n",
        "**Data Splitting**\\\n",
        "Data is split into three: training, validation and test sets\\\n",
        "-validation set is used for evaluating the model during training.\\\n",
        "-training set is used for training\\\n",
        "-test set is used to test the model after training and tuning has been completed."
      ]
    },
    {
      "cell_type": "code",
      "execution_count": 276,
      "id": "7bcc2bde",
      "metadata": {
        "id": "7bcc2bde",
        "colab": {
          "base_uri": "https://localhost:8080/"
        },
        "outputId": "9a751cb2-42e9-4f7e-979c-0ddc0856d2d6"
      },
      "outputs": [
        {
          "output_type": "execute_result",
          "data": {
            "text/plain": [
              "60"
            ]
          },
          "metadata": {},
          "execution_count": 276
        }
      ],
      "source": [
        "# let's encode target labels (y) with values between 0 and n_classes-1.\n",
        "# we will be using LabelEncoder to perform the encoding\n",
        "\n",
        "label_encoder=LabelEncoder()\n",
        "label_encoder.fit(X)\n",
        "y=label_encoder.transform(X)\n",
        "labels=label_encoder.classes_\n",
        "classes=np.unique(X)\n",
        "nclasses=np.unique(X).shape[0]\n",
        "nclasses"
      ]
    },
    {
      "cell_type": "code",
      "source": [
        "#split data into training,validation and test sets\n",
        "\n",
        "X_train,X_test,y_train,y_test=train_test_split(X,y, test_size=0.08,random_state=1)\n",
        "\n",
        "#split the training set into two (training and validation)\n",
        "\n",
        "X_train, X_val, y_train, y_val = train_test_split(X_train,y_train,test_size=0.08)"
      ],
      "metadata": {
        "id": "m2f2YeonMBaV"
      },
      "id": "m2f2YeonMBaV",
      "execution_count": 278,
      "outputs": []
    },
    {
      "cell_type": "code",
      "source": [
        "# check the shape of X_train and y_train\n",
        "X_train.shape, y_train.shape"
      ],
      "metadata": {
        "id": "zBFtGqNoJ85D",
        "colab": {
          "base_uri": "https://localhost:8080/"
        },
        "outputId": "c1a81781-64b9-4b4f-9321-683a8220708f"
      },
      "id": "zBFtGqNoJ85D",
      "execution_count": 279,
      "outputs": [
        {
          "output_type": "execute_result",
          "data": {
            "text/plain": [
              "((677, 1), (677,))"
            ]
          },
          "metadata": {},
          "execution_count": 279
        }
      ]
    },
    {
      "cell_type": "markdown",
      "id": "0d1c8d5e",
      "metadata": {
        "id": "0d1c8d5e"
      },
      "source": [
        "\\\n",
        "**Data Normalization**\\\n",
        "Data normalization is done so the values are in the same range to improve model performance and avoid bias.\n"
      ]
    },
    {
      "cell_type": "code",
      "execution_count": 281,
      "id": "4a06d2f6",
      "metadata": {
        "id": "4a06d2f6"
      },
      "outputs": [],
      "source": [
        "#split data into training,validation and test sets\n",
        "\n",
        "X_train,X_test,y_train,y_test=train_test_split(X,y,test_size=0.02)\n",
        "\n",
        "#split the training set into two (training and validation)\n",
        "X_train, X_val, y_train, y_val = train_test_split(X_train,y_train,test_size=0.02)\n",
        "\n"
      ]
    },
    {
      "cell_type": "markdown",
      "id": "c0f0ba2c",
      "metadata": {
        "id": "c0f0ba2c"
      },
      "source": [
        "\n",
        "\n",
        "# **Building Neural Network**"
      ]
    },
    {
      "cell_type": "code",
      "execution_count": 282,
      "id": "f0f5060f",
      "metadata": {
        "id": "f0f5060f"
      },
      "outputs": [],
      "source": [
        "\n",
        "#define model\n",
        "model = keras.Sequential()\n",
        "\n",
        "#hidden layer 1\n",
        "model.add(Dense(40, input_dim=X_train.shape[1], activation='relu'))\n",
        "\n",
        "#hidden layer 2\n",
        "model.add(Dense(20, activation='relu'))\n",
        "\n",
        "#output layer\n",
        "model.add(Dense(nclasses, activation='softmax'))\n",
        "\n",
        "#define optimizer and learning rate. We will use Adam optimizer\n",
        "opt_adam = keras.optimizers.Adam(learning_rate=0.001)\n",
        "\n",
        "model.compile(loss=tf.keras.losses.SparseCategoricalCrossentropy(), optimizer=opt_adam, metrics=[keras.metrics.SparseCategoricalAccuracy()])"
      ]
    },
    {
      "cell_type": "code",
      "execution_count": 283,
      "id": "080eb398",
      "metadata": {
        "id": "080eb398",
        "scrolled": true,
        "colab": {
          "base_uri": "https://localhost:8080/"
        },
        "outputId": "0890b750-d005-4465-d08c-f9d99d49d692"
      },
      "outputs": [
        {
          "output_type": "stream",
          "name": "stdout",
          "text": [
            "Epoch 1/64\n",
            "24/24 [==============================] - 0s 6ms/step - loss: 4.0627 - sparse_categorical_accuracy: 0.8906 - val_loss: 4.0550 - val_sparse_categorical_accuracy: 0.9375\n",
            "Epoch 2/64\n",
            "24/24 [==============================] - 0s 2ms/step - loss: 3.9582 - sparse_categorical_accuracy: 0.9284 - val_loss: 3.9195 - val_sparse_categorical_accuracy: 0.9375\n",
            "Epoch 3/64\n",
            "24/24 [==============================] - 0s 2ms/step - loss: 3.7818 - sparse_categorical_accuracy: 0.9271 - val_loss: 3.7019 - val_sparse_categorical_accuracy: 0.9375\n",
            "Epoch 4/64\n",
            "24/24 [==============================] - 0s 2ms/step - loss: 3.4868 - sparse_categorical_accuracy: 0.9271 - val_loss: 3.3459 - val_sparse_categorical_accuracy: 0.9375\n",
            "Epoch 5/64\n",
            "24/24 [==============================] - 0s 2ms/step - loss: 3.0219 - sparse_categorical_accuracy: 0.9271 - val_loss: 2.8001 - val_sparse_categorical_accuracy: 0.9375\n",
            "Epoch 6/64\n",
            "24/24 [==============================] - 0s 2ms/step - loss: 2.3616 - sparse_categorical_accuracy: 0.9271 - val_loss: 2.0506 - val_sparse_categorical_accuracy: 0.9375\n",
            "Epoch 7/64\n",
            "24/24 [==============================] - 0s 2ms/step - loss: 1.5680 - sparse_categorical_accuracy: 0.9271 - val_loss: 1.2536 - val_sparse_categorical_accuracy: 0.9375\n",
            "Epoch 8/64\n",
            "24/24 [==============================] - 0s 2ms/step - loss: 0.8979 - sparse_categorical_accuracy: 0.9271 - val_loss: 0.7415 - val_sparse_categorical_accuracy: 0.9375\n",
            "Epoch 9/64\n",
            "24/24 [==============================] - 0s 2ms/step - loss: 0.5755 - sparse_categorical_accuracy: 0.9284 - val_loss: 0.5486 - val_sparse_categorical_accuracy: 0.9375\n",
            "Epoch 10/64\n",
            "24/24 [==============================] - 0s 4ms/step - loss: 0.4612 - sparse_categorical_accuracy: 0.9284 - val_loss: 0.4950 - val_sparse_categorical_accuracy: 0.9375\n",
            "Epoch 11/64\n",
            "24/24 [==============================] - 0s 4ms/step - loss: 0.4140 - sparse_categorical_accuracy: 0.9284 - val_loss: 0.4888 - val_sparse_categorical_accuracy: 0.9375\n",
            "Epoch 12/64\n",
            "24/24 [==============================] - 0s 3ms/step - loss: 0.3875 - sparse_categorical_accuracy: 0.9284 - val_loss: 0.5087 - val_sparse_categorical_accuracy: 0.9375\n",
            "Epoch 13/64\n",
            "24/24 [==============================] - 0s 2ms/step - loss: 0.3696 - sparse_categorical_accuracy: 0.9284 - val_loss: 0.5343 - val_sparse_categorical_accuracy: 0.9375\n",
            "Epoch 14/64\n",
            "24/24 [==============================] - 0s 2ms/step - loss: 0.3567 - sparse_categorical_accuracy: 0.9284 - val_loss: 0.5629 - val_sparse_categorical_accuracy: 0.9375\n",
            "Epoch 15/64\n",
            "24/24 [==============================] - 0s 2ms/step - loss: 0.3468 - sparse_categorical_accuracy: 0.9284 - val_loss: 0.5983 - val_sparse_categorical_accuracy: 0.9375\n",
            "Epoch 16/64\n",
            "24/24 [==============================] - 0s 2ms/step - loss: 0.3380 - sparse_categorical_accuracy: 0.9284 - val_loss: 0.6391 - val_sparse_categorical_accuracy: 0.9375\n",
            "Epoch 17/64\n",
            "24/24 [==============================] - 0s 2ms/step - loss: 0.3309 - sparse_categorical_accuracy: 0.9284 - val_loss: 0.6872 - val_sparse_categorical_accuracy: 0.9375\n",
            "Epoch 18/64\n",
            "24/24 [==============================] - 0s 2ms/step - loss: 0.3248 - sparse_categorical_accuracy: 0.9284 - val_loss: 0.7288 - val_sparse_categorical_accuracy: 0.9375\n",
            "Epoch 19/64\n",
            "24/24 [==============================] - 0s 2ms/step - loss: 0.3196 - sparse_categorical_accuracy: 0.9284 - val_loss: 0.7714 - val_sparse_categorical_accuracy: 0.9375\n",
            "Epoch 20/64\n",
            "24/24 [==============================] - 0s 2ms/step - loss: 0.3151 - sparse_categorical_accuracy: 0.9284 - val_loss: 0.8131 - val_sparse_categorical_accuracy: 0.9375\n",
            "Epoch 21/64\n",
            "24/24 [==============================] - 0s 2ms/step - loss: 0.3110 - sparse_categorical_accuracy: 0.9284 - val_loss: 0.8648 - val_sparse_categorical_accuracy: 0.9375\n",
            "Epoch 22/64\n",
            "24/24 [==============================] - 0s 2ms/step - loss: 0.3073 - sparse_categorical_accuracy: 0.9284 - val_loss: 0.9093 - val_sparse_categorical_accuracy: 0.9375\n",
            "Epoch 23/64\n",
            "24/24 [==============================] - 0s 2ms/step - loss: 0.3044 - sparse_categorical_accuracy: 0.9284 - val_loss: 0.9534 - val_sparse_categorical_accuracy: 0.9375\n",
            "Epoch 24/64\n",
            "24/24 [==============================] - 0s 2ms/step - loss: 0.3011 - sparse_categorical_accuracy: 0.9284 - val_loss: 0.9962 - val_sparse_categorical_accuracy: 0.9375\n",
            "Epoch 25/64\n",
            "24/24 [==============================] - 0s 2ms/step - loss: 0.2988 - sparse_categorical_accuracy: 0.9284 - val_loss: 1.0529 - val_sparse_categorical_accuracy: 0.9375\n",
            "Epoch 26/64\n",
            "24/24 [==============================] - 0s 2ms/step - loss: 0.2967 - sparse_categorical_accuracy: 0.9271 - val_loss: 1.0956 - val_sparse_categorical_accuracy: 0.9375\n",
            "Epoch 27/64\n",
            "24/24 [==============================] - 0s 2ms/step - loss: 0.2946 - sparse_categorical_accuracy: 0.9284 - val_loss: 1.1327 - val_sparse_categorical_accuracy: 0.9375\n",
            "Epoch 28/64\n",
            "24/24 [==============================] - 0s 2ms/step - loss: 0.2926 - sparse_categorical_accuracy: 0.9271 - val_loss: 1.1755 - val_sparse_categorical_accuracy: 0.9375\n",
            "Epoch 29/64\n",
            "24/24 [==============================] - 0s 2ms/step - loss: 0.2914 - sparse_categorical_accuracy: 0.9284 - val_loss: 1.2159 - val_sparse_categorical_accuracy: 0.9375\n",
            "Epoch 30/64\n",
            "24/24 [==============================] - 0s 2ms/step - loss: 0.2896 - sparse_categorical_accuracy: 0.9284 - val_loss: 1.2558 - val_sparse_categorical_accuracy: 0.9375\n",
            "Epoch 31/64\n",
            "24/24 [==============================] - 0s 2ms/step - loss: 0.2884 - sparse_categorical_accuracy: 0.9284 - val_loss: 1.3029 - val_sparse_categorical_accuracy: 0.9375\n",
            "Epoch 32/64\n",
            "24/24 [==============================] - 0s 2ms/step - loss: 0.2874 - sparse_categorical_accuracy: 0.9271 - val_loss: 1.3379 - val_sparse_categorical_accuracy: 0.9375\n",
            "Epoch 33/64\n",
            "24/24 [==============================] - 0s 3ms/step - loss: 0.2860 - sparse_categorical_accuracy: 0.9284 - val_loss: 1.3708 - val_sparse_categorical_accuracy: 0.9375\n",
            "Epoch 34/64\n",
            "24/24 [==============================] - 0s 2ms/step - loss: 0.2851 - sparse_categorical_accuracy: 0.9271 - val_loss: 1.4067 - val_sparse_categorical_accuracy: 0.9375\n",
            "Epoch 35/64\n",
            "24/24 [==============================] - 0s 2ms/step - loss: 0.2840 - sparse_categorical_accuracy: 0.9271 - val_loss: 1.4438 - val_sparse_categorical_accuracy: 0.9375\n",
            "Epoch 36/64\n",
            "24/24 [==============================] - 0s 2ms/step - loss: 0.2833 - sparse_categorical_accuracy: 0.9271 - val_loss: 1.4796 - val_sparse_categorical_accuracy: 0.9375\n",
            "Epoch 37/64\n",
            "24/24 [==============================] - 0s 3ms/step - loss: 0.2823 - sparse_categorical_accuracy: 0.9284 - val_loss: 1.5114 - val_sparse_categorical_accuracy: 0.9375\n",
            "Epoch 38/64\n",
            "24/24 [==============================] - 0s 2ms/step - loss: 0.2818 - sparse_categorical_accuracy: 0.9284 - val_loss: 1.5521 - val_sparse_categorical_accuracy: 0.9375\n",
            "Epoch 39/64\n",
            "24/24 [==============================] - 0s 2ms/step - loss: 0.2814 - sparse_categorical_accuracy: 0.9271 - val_loss: 1.5859 - val_sparse_categorical_accuracy: 0.9375\n",
            "Epoch 40/64\n",
            "24/24 [==============================] - 0s 2ms/step - loss: 0.2801 - sparse_categorical_accuracy: 0.9284 - val_loss: 1.6161 - val_sparse_categorical_accuracy: 0.9375\n",
            "Epoch 41/64\n",
            "24/24 [==============================] - 0s 2ms/step - loss: 0.2797 - sparse_categorical_accuracy: 0.9284 - val_loss: 1.6528 - val_sparse_categorical_accuracy: 0.9375\n",
            "Epoch 42/64\n",
            "24/24 [==============================] - 0s 2ms/step - loss: 0.2792 - sparse_categorical_accuracy: 0.9284 - val_loss: 1.6796 - val_sparse_categorical_accuracy: 0.9375\n",
            "Epoch 43/64\n",
            "24/24 [==============================] - 0s 2ms/step - loss: 0.2791 - sparse_categorical_accuracy: 0.9284 - val_loss: 1.7092 - val_sparse_categorical_accuracy: 0.9375\n",
            "Epoch 44/64\n",
            "24/24 [==============================] - 0s 2ms/step - loss: 0.2778 - sparse_categorical_accuracy: 0.9284 - val_loss: 1.7389 - val_sparse_categorical_accuracy: 0.9375\n",
            "Epoch 45/64\n",
            "24/24 [==============================] - 0s 2ms/step - loss: 0.2774 - sparse_categorical_accuracy: 0.9271 - val_loss: 1.7695 - val_sparse_categorical_accuracy: 0.9375\n",
            "Epoch 46/64\n",
            "24/24 [==============================] - 0s 3ms/step - loss: 0.2767 - sparse_categorical_accuracy: 0.9284 - val_loss: 1.8063 - val_sparse_categorical_accuracy: 0.9375\n",
            "Epoch 47/64\n",
            "24/24 [==============================] - 0s 3ms/step - loss: 0.2763 - sparse_categorical_accuracy: 0.9284 - val_loss: 1.8362 - val_sparse_categorical_accuracy: 0.9375\n",
            "Epoch 48/64\n",
            "24/24 [==============================] - 0s 3ms/step - loss: 0.2760 - sparse_categorical_accuracy: 0.9284 - val_loss: 1.8740 - val_sparse_categorical_accuracy: 0.9375\n",
            "Epoch 49/64\n",
            "24/24 [==============================] - 0s 3ms/step - loss: 0.2753 - sparse_categorical_accuracy: 0.9271 - val_loss: 1.8986 - val_sparse_categorical_accuracy: 0.9375\n",
            "Epoch 50/64\n",
            "24/24 [==============================] - 0s 3ms/step - loss: 0.2750 - sparse_categorical_accuracy: 0.9271 - val_loss: 1.9274 - val_sparse_categorical_accuracy: 0.9375\n",
            "Epoch 51/64\n",
            "24/24 [==============================] - 0s 3ms/step - loss: 0.2746 - sparse_categorical_accuracy: 0.9284 - val_loss: 1.9591 - val_sparse_categorical_accuracy: 0.9375\n",
            "Epoch 52/64\n",
            "24/24 [==============================] - 0s 2ms/step - loss: 0.2741 - sparse_categorical_accuracy: 0.9271 - val_loss: 1.9883 - val_sparse_categorical_accuracy: 0.9375\n",
            "Epoch 53/64\n",
            "24/24 [==============================] - 0s 2ms/step - loss: 0.2735 - sparse_categorical_accuracy: 0.9284 - val_loss: 2.0156 - val_sparse_categorical_accuracy: 0.9375\n",
            "Epoch 54/64\n",
            "24/24 [==============================] - 0s 7ms/step - loss: 0.2728 - sparse_categorical_accuracy: 0.9284 - val_loss: 2.0521 - val_sparse_categorical_accuracy: 0.9375\n",
            "Epoch 55/64\n",
            "24/24 [==============================] - 0s 2ms/step - loss: 0.2727 - sparse_categorical_accuracy: 0.9284 - val_loss: 2.0786 - val_sparse_categorical_accuracy: 0.9375\n",
            "Epoch 56/64\n",
            "24/24 [==============================] - 0s 2ms/step - loss: 0.2723 - sparse_categorical_accuracy: 0.9284 - val_loss: 2.1144 - val_sparse_categorical_accuracy: 0.9375\n",
            "Epoch 57/64\n",
            "24/24 [==============================] - 0s 3ms/step - loss: 0.2719 - sparse_categorical_accuracy: 0.9284 - val_loss: 2.1437 - val_sparse_categorical_accuracy: 0.9375\n",
            "Epoch 58/64\n",
            "24/24 [==============================] - 0s 3ms/step - loss: 0.2714 - sparse_categorical_accuracy: 0.9284 - val_loss: 2.1726 - val_sparse_categorical_accuracy: 0.9375\n",
            "Epoch 59/64\n",
            "24/24 [==============================] - 0s 3ms/step - loss: 0.2708 - sparse_categorical_accuracy: 0.9284 - val_loss: 2.2055 - val_sparse_categorical_accuracy: 0.9375\n",
            "Epoch 60/64\n",
            "24/24 [==============================] - 0s 2ms/step - loss: 0.2703 - sparse_categorical_accuracy: 0.9284 - val_loss: 2.2420 - val_sparse_categorical_accuracy: 0.9375\n",
            "Epoch 61/64\n",
            "24/24 [==============================] - 0s 2ms/step - loss: 0.2699 - sparse_categorical_accuracy: 0.9271 - val_loss: 2.2696 - val_sparse_categorical_accuracy: 0.9375\n",
            "Epoch 62/64\n",
            "24/24 [==============================] - 0s 2ms/step - loss: 0.2695 - sparse_categorical_accuracy: 0.9284 - val_loss: 2.2953 - val_sparse_categorical_accuracy: 0.9375\n",
            "Epoch 63/64\n",
            "24/24 [==============================] - 0s 2ms/step - loss: 0.2690 - sparse_categorical_accuracy: 0.9284 - val_loss: 2.3309 - val_sparse_categorical_accuracy: 0.9375\n",
            "Epoch 64/64\n",
            "24/24 [==============================] - 0s 2ms/step - loss: 0.2684 - sparse_categorical_accuracy: 0.9284 - val_loss: 2.3719 - val_sparse_categorical_accuracy: 0.9375\n"
          ]
        }
      ],
      "source": [
        "# fit the model to the training data\n",
        "# the higher the epoch value the higher the accuracy but the longer it takes to execute. \n",
        "# An epoch means training the neural network with all the training data for one cycle. \n",
        "# In an epoch, we use all of the data exactly once. A forward pass and a backward pass together are counted as one pass: \n",
        "# An epoch is made up of one or more batches, where we use a part of the dataset to train the neural network.\n",
        "\n",
        "history = model.fit(X_train, y_train, validation_data=(X_val, y_val), batch_size=32,epochs=64, verbose=1)\n",
        "\n"
      ]
    },
    {
      "cell_type": "code",
      "source": [
        "predictions = model.predict(X_test)\n",
        "_, accuracy = model.evaluate(X_test, y_test, verbose=0)"
      ],
      "metadata": {
        "id": "ti2jiqfvEeQB"
      },
      "id": "ti2jiqfvEeQB",
      "execution_count": 284,
      "outputs": []
    },
    {
      "cell_type": "code",
      "source": [
        "accuracy"
      ],
      "metadata": {
        "id": "zmx2KBHIAQ18",
        "colab": {
          "base_uri": "https://localhost:8080/"
        },
        "outputId": "0bde4f21-aa66-495d-fecc-9a1ecbadbebc"
      },
      "id": "zmx2KBHIAQ18",
      "execution_count": 285,
      "outputs": [
        {
          "output_type": "execute_result",
          "data": {
            "text/plain": [
              "0.8823529481887817"
            ]
          },
          "metadata": {},
          "execution_count": 285
        }
      ]
    },
    {
      "cell_type": "code",
      "source": [
        "predictions[0]"
      ],
      "metadata": {
        "id": "FnQV9eBnAZx2",
        "colab": {
          "base_uri": "https://localhost:8080/"
        },
        "outputId": "bef9f57b-c472-46c9-c3ba-eed950baed41"
      },
      "id": "FnQV9eBnAZx2",
      "execution_count": 238,
      "outputs": [
        {
          "output_type": "execute_result",
          "data": {
            "text/plain": [
              "array([9.98552859e-01, 9.78234675e-05, 8.56392799e-05, 9.45553184e-05,\n",
              "       8.29091878e-05, 6.53161042e-05, 4.96906760e-05, 6.68610155e-05,\n",
              "       5.09339588e-05, 4.42788696e-05, 4.32359520e-05, 5.44972972e-05,\n",
              "       3.56069067e-05, 3.70806592e-05, 2.84849539e-05, 2.50912017e-05,\n",
              "       2.75612365e-05, 2.39933252e-05, 2.32871516e-05, 2.89125637e-05,\n",
              "       2.38678731e-05, 1.86173947e-05, 2.55114992e-05, 2.12576979e-05,\n",
              "       2.26480897e-05, 2.72307370e-05, 1.58372786e-05, 1.43591587e-05,\n",
              "       1.74493580e-05, 1.65899983e-05, 1.73452809e-05, 1.04384635e-05,\n",
              "       1.36026820e-05, 1.45543245e-05, 1.38832393e-05, 1.18917587e-05,\n",
              "       4.67366181e-06, 1.26168898e-05, 1.02200411e-05, 1.19335209e-05,\n",
              "       7.32826311e-06, 9.24119558e-06, 1.47681067e-05, 8.40812390e-06,\n",
              "       2.14861666e-06, 9.09228584e-06, 8.56834413e-06, 4.48287847e-06,\n",
              "       5.20683534e-06, 4.32429033e-06, 1.11262989e-05, 2.93766789e-06,\n",
              "       5.13246960e-06, 5.11408416e-06, 5.22783739e-06, 2.40209465e-06,\n",
              "       4.30388354e-06, 4.35477841e-06, 3.93512255e-06, 2.64432106e-06,\n",
              "       2.28559225e-06, 5.48977323e-06, 2.47884645e-06, 3.52691609e-06,\n",
              "       2.28978979e-06, 1.37492839e-06, 9.20105492e-07, 1.37870074e-06,\n",
              "       1.42703755e-06, 8.77803302e-07, 1.07696462e-06, 6.92936283e-07,\n",
              "       5.43734041e-06, 6.57219914e-07, 1.07877793e-06, 2.12703617e-06,\n",
              "       1.18013941e-06, 1.70467581e-06], dtype=float32)"
            ]
          },
          "metadata": {},
          "execution_count": 238
        }
      ]
    },
    {
      "cell_type": "code",
      "source": [
        "np.argmax(predictions)"
      ],
      "metadata": {
        "id": "fBfDbGcnAhj6",
        "colab": {
          "base_uri": "https://localhost:8080/"
        },
        "outputId": "048fb5b4-fb1c-457a-9a83-d172267b786b"
      },
      "id": "fBfDbGcnAhj6",
      "execution_count": 286,
      "outputs": [
        {
          "output_type": "execute_result",
          "data": {
            "text/plain": [
              "0"
            ]
          },
          "metadata": {},
          "execution_count": 286
        }
      ]
    },
    {
      "cell_type": "code",
      "execution_count": 287,
      "id": "e35f6f4a",
      "metadata": {
        "id": "e35f6f4a",
        "scrolled": true,
        "colab": {
          "base_uri": "https://localhost:8080/"
        },
        "outputId": "8d3ceabf-3c2a-480c-fd8e-675e14372c20"
      },
      "outputs": [
        {
          "output_type": "stream",
          "name": "stdout",
          "text": [
            "predicted:0 ,actual:0\n",
            "predicted:0 ,actual:0\n",
            "predicted:0 ,actual:10\n",
            "predicted:0 ,actual:0\n",
            "predicted:0 ,actual:0\n",
            "predicted:0 ,actual:0\n",
            "predicted:0 ,actual:0\n",
            "predicted:0 ,actual:0\n",
            "predicted:55 ,actual:40\n",
            "predicted:0 ,actual:0\n"
          ]
        }
      ],
      "source": [
        "# Get the predictions for samples in the test set. You can change by alter the number within the []\n",
        "for index,entry in enumerate(predictions[0:10,:]):\n",
        "    print('predicted:%d ,actual:%d'%(np.argmax(entry),y_test[index]))"
      ]
    },
    {
      "cell_type": "code",
      "execution_count": 288,
      "id": "b3ed706e",
      "metadata": {
        "id": "b3ed706e",
        "colab": {
          "base_uri": "https://localhost:8080/",
          "height": 295
        },
        "outputId": "463d38fd-b539-478e-ca31-3214d99f9b93"
      },
      "outputs": [
        {
          "output_type": "display_data",
          "data": {
            "text/plain": [
              "<Figure size 432x288 with 1 Axes>"
            ],
            "image/png": "[encoded data removed]"
          },
          "metadata": {
            "needs_background": "light"
          }
        }
      ],
      "source": [
        "# Summarize history for accuracy\n",
        "plt.plot(history.history['sparse_categorical_accuracy'])\n",
        "plt.plot(history.history['val_sparse_categorical_accuracy'])\n",
        "plt.title('model performance')\n",
        "plt.ylabel('accuracy')\n",
        "plt.xlabel('epoch')\n",
        "plt.legend(['train', 'val'], loc='lower right')\n",
        "plt.show()\n"
      ]
    },
    {
      "cell_type": "code",
      "execution_count": 289,
      "id": "e0ddadca",
      "metadata": {
        "id": "e0ddadca",
        "colab": {
          "base_uri": "https://localhost:8080/",
          "height": 295
        },
        "outputId": "0df9cfc4-723e-40d0-f1a8-c62069647eaa"
      },
      "outputs": [
        {
          "output_type": "display_data",
          "data": {
            "text/plain": [
              "<Figure size 432x288 with 1 Axes>"
            ],
            "image/png": "[encoded data removed]"
          },
          "metadata": {
            "needs_background": "light"
          }
        }
      ],
      "source": [
        "# Summarize history for loss\n",
        "plt.plot(history.history['loss'])\n",
        "plt.plot(history.history['val_loss'])\n",
        "plt.title('model loss')\n",
        "plt.ylabel('loss')\n",
        "plt.xlabel('epoch')\n",
        "plt.legend(['train', 'val'], loc='lower right')\n",
        "plt.show()\n",
        "\n"
      ]
    }
  ],
  "metadata": {
    "colab": {
      "provenance": [],
      "machine_shape": "hm"
    },
    "kernelspec": {
      "display_name": "Python 3 (ipykernel)",
      "language": "python",
      "name": "python3"
    },
    "language_info": {
      "codemirror_mode": {
        "name": "ipython",
        "version": 3
      },
      "file_extension": ".py",
      "mimetype": "text/x-python",
      "name": "python",
      "nbconvert_exporter": "python",
      "pygments_lexer": "ipython3",
      "version": "3.9.13"
    },
    "vscode": {
      "interpreter": {
        "hash": "ebcab99dd29373ca9aaa839c3c39542ccb6ee05f63faba1a6698685f4cc3be0e"
      }
    },
    "gpuClass": "standard"
  },
  "nbformat": 4,
  "nbformat_minor": 5
}